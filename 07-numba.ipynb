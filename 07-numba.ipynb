{
 "cells": [
  {
   "cell_type": "markdown",
   "metadata": {
    "slideshow": {
     "slide_type": "slide"
    }
   },
   "source": [
    "## Numba: compiled Python"
   ]
  },
  {
   "cell_type": "markdown",
   "metadata": {
    "slideshow": {
     "slide_type": "slide"
    }
   },
   "source": [
    "We know that Python is slow—that's why we use Python and C++. However, \"rewrite in C++\" is a roadblock in development from simple Python tests to a full-dataset algorithm.\n",
    "\n",
    "It's not always necessary to rewrite in C++. There are compilers for Python."
   ]
  },
  {
   "cell_type": "markdown",
   "metadata": {
    "slideshow": {
     "slide_type": "slide"
    }
   },
   "source": [
    "Demonstration: start with a pure Python algorithm. The code below draws a fractal."
   ]
  },
  {
   "cell_type": "code",
   "execution_count": 1,
   "metadata": {},
   "outputs": [],
   "source": [
    "%matplotlib inline\n",
    "import numpy, numba, matplotlib.pyplot, time"
   ]
  },
  {
   "cell_type": "code",
   "execution_count": 34,
   "metadata": {},
   "outputs": [],
   "source": [
    "def run_python(height, width, maxiterations=20):\n",
    "    y, x = numpy.ogrid[-1:0:height*1j, -1.5:0:width*1j]\n",
    "    c = x + y*1j\n",
    "    fractal = numpy.full(c.shape, maxiterations, dtype=numpy.int32)\n",
    "    for h in range(height):\n",
    "        for w in range(width):                  # for each pixel (h, w)...\n",
    "            z = c[h, w]\n",
    "            for i in range(maxiterations):      # iterate at most 20 times\n",
    "                z = z**2 + c[h, w]              # applying z → z² + c\n",
    "                if abs(z) > 2:                  # if it diverges (|z| > 2)\n",
    "                    fractal[h, w] = i           # color the plane with the iteration number\n",
    "                    break                       # we're done, no need to keep iterating\n",
    "    return fractal"
   ]
  },
  {
   "cell_type": "code",
   "execution_count": 35,
   "metadata": {
    "slideshow": {
     "slide_type": "fragment"
    }
   },
   "outputs": [
    {
     "name": "stdout",
     "output_type": "stream",
     "text": [
      "8286.715795596441 ns per pixel\n"
     ]
    }
   ],
   "source": [
    "starttime = time.time()\n",
    "fractal = run_python(800, 1200)\n",
    "print(\"{0} ns per pixel\".format(1e9 * (time.time() - starttime) / (800 * 1200)))"
   ]
  },
  {
   "cell_type": "code",
   "execution_count": null,
   "metadata": {
    "slideshow": {
     "slide_type": "slide"
    }
   },
   "outputs": [],
   "source": [
    "fig, ax = matplotlib.pyplot.subplots(figsize=(18, 12))\n",
    "ax.imshow(fractal)"
   ]
  },
  {
   "cell_type": "markdown",
   "metadata": {
    "slideshow": {
     "slide_type": "slide"
    }
   },
   "source": [
    "Since Numpy operates array-at-a-time, you have to completely rethink the problem to use Numpy (same for Awkward)."
   ]
  },
  {
   "cell_type": "code",
   "execution_count": 36,
   "metadata": {},
   "outputs": [],
   "source": [
    "def run_numpy(height, width, maxiterations=20):\n",
    "    y, x = numpy.ogrid[-1:0:height*1j, -1.5:0:width*1j]\n",
    "    c = x + y*1j\n",
    "    fractal = numpy.full(c.shape, maxiterations, dtype=numpy.int32)\n",
    "    z = c\n",
    "    for i in range(maxiterations):\n",
    "        z = z**2 + c                                            # applying z → z² + c\n",
    "        diverged = numpy.absolute(z) > 2                        # |z| > 2 is \"divergence\"\n",
    "        diverging_now = diverged & (fractal == maxiterations)   # some are already done\n",
    "        fractal[diverging_now] = i                              # just set the new ones\n",
    "        z[diverged] = 2                                         # clamp diverged at 2\n",
    "    return fractal"
   ]
  },
  {
   "cell_type": "code",
   "execution_count": 39,
   "metadata": {},
   "outputs": [
    {
     "name": "stdout",
     "output_type": "stream",
     "text": [
      "347.5772837797801 ns per pixel\n"
     ]
    }
   ],
   "source": [
    "starttime = time.time()\n",
    "fractal = run_numpy(1600, 2400)\n",
    "print(\"{0} ns per pixel\".format(1e9 * (time.time() - starttime) / (1600 * 2400)))"
   ]
  },
  {
   "cell_type": "markdown",
   "metadata": {
    "slideshow": {
     "slide_type": "fragment"
    }
   },
   "source": [
    "Numpy is 24× faster than pure Python _even though_ it can't `break` when done with a given pixel."
   ]
  },
  {
   "cell_type": "markdown",
   "metadata": {
    "slideshow": {
     "slide_type": "slide"
    }
   },
   "source": [
    "With Numba, we can make the pure Python code fast by inserting `@numba.jit` before the function."
   ]
  },
  {
   "cell_type": "code",
   "execution_count": 40,
   "metadata": {},
   "outputs": [],
   "source": [
    "@numba.jit\n",
    "def run_numba(height, width, maxiterations=20):\n",
    "    y, x = numpy.ogrid[-1:0:height*1j, -1.5:0:width*1j]\n",
    "    c = x + y*1j\n",
    "    fractal = numpy.full(c.shape, maxiterations, dtype=numpy.int32)\n",
    "    for h in range(height):\n",
    "        for w in range(width):                  # for each pixel (h, w)...\n",
    "            z = c[h, w]\n",
    "            for i in range(maxiterations):      # iterate at most 20 times\n",
    "                z = z**2 + c[h, w]              # applying z → z² + c\n",
    "                if abs(z) > 2:                  # if it diverges (|z| > 2)\n",
    "                    fractal[h, w] = i           # color the plane with the iteration number\n",
    "                    break                       # we're done, no need to keep iterating\n",
    "    return fractal"
   ]
  },
  {
   "cell_type": "code",
   "execution_count": 43,
   "metadata": {},
   "outputs": [
    {
     "name": "stdout",
     "output_type": "stream",
     "text": [
      "113.57404291629791 ns per pixel\n"
     ]
    }
   ],
   "source": [
    "starttime = time.time()\n",
    "fractal = run_numba(3200, 4800)\n",
    "print(\"{0} ns per pixel\".format(1e9 * (time.time() - starttime) / (3200 * 4800)))"
   ]
  },
  {
   "cell_type": "markdown",
   "metadata": {
    "slideshow": {
     "slide_type": "fragment"
    }
   },
   "source": [
    "Numba is 70× faster than pure Python without changing the code."
   ]
  },
  {
   "cell_type": "markdown",
   "metadata": {
    "slideshow": {
     "slide_type": "slide"
    }
   },
   "source": [
    "Converting it all to C++ is not an automatic win."
   ]
  },
  {
   "cell_type": "code",
   "execution_count": 9,
   "metadata": {},
   "outputs": [
    {
     "name": "stdout",
     "output_type": "stream",
     "text": [
      "Welcome to JupyROOT 6.14/04\n"
     ]
    }
   ],
   "source": [
    "import ROOT\n",
    "tmpname = \"run_cpp1\"\n",
    "ROOT.gInterpreter.Declare(\"\"\"\n",
    "#include<complex>\n",
    "void %s(int height, int width, int maxiterations, size_t c_ptr, size_t fractal_ptr) {\n",
    "    double* c = (double*)(c_ptr);\n",
    "    int* fractal = (int*)(fractal_ptr);\n",
    "    for (int h = 0;  h < height;  h++) {\n",
    "        for (int w = 0;  w < width;  w++) {\n",
    "            double creal = c[2 * (h + height*w)];\n",
    "            double cimag = c[2 * (h + height*w) + 1];\n",
    "            std::complex<double> ci = std::complex<double>(creal, cimag);\n",
    "            std::complex<double> z = ci;\n",
    "            for (int i = 0;  i < maxiterations;  i++) {\n",
    "                z = z*z + ci;\n",
    "                if (std::abs(z) > 2) {\n",
    "                    fractal[h + height*w] = i;\n",
    "                    break;\n",
    "} } } } }\"\"\" % tmpname)\n",
    "\n",
    "def run_cpp(height, width, maxiterations=20):\n",
    "    y, x = numpy.ogrid[-1:0:height*1j, -1.5:0:width*1j]\n",
    "    c = x + y*1j\n",
    "    fractal = numpy.full(c.shape, maxiterations, dtype=numpy.int32)\n",
    "    getattr(ROOT, tmpname)(height, width, maxiterations, c.ctypes.data, fractal.ctypes.data)\n",
    "    return fractal"
   ]
  },
  {
   "cell_type": "code",
   "execution_count": 45,
   "metadata": {
    "slideshow": {
     "slide_type": "slide"
    }
   },
   "outputs": [
    {
     "name": "stdout",
     "output_type": "stream",
     "text": [
      "527.8661691894134 ns per pixel\n"
     ]
    }
   ],
   "source": [
    "starttime = time.time()\n",
    "fractal = run_cpp(3200, 4800)\n",
    "print(\"{0} ns per pixel\".format(1e9 * (time.time() - starttime) / (3200 * 4800)))"
   ]
  },
  {
   "cell_type": "markdown",
   "metadata": {
    "slideshow": {
     "slide_type": "fragment"
    }
   },
   "source": [
    "This is only 16× faster than pure Python, whereas Numba was 70×. Much of the gap is due to the fact that ROOT currently compiles C++ in `Declare` without optimization (`-O0`).\n",
    "\n",
    "To really do this right, make a separate file and compile it."
   ]
  },
  {
   "cell_type": "code",
   "execution_count": 46,
   "metadata": {
    "slideshow": {
     "slide_type": "slide"
    }
   },
   "outputs": [
    {
     "name": "stdout",
     "output_type": "stream",
     "text": [
      "Overwriting tmp.cpp\n"
     ]
    }
   ],
   "source": [
    "%%writefile tmp.cpp\n",
    "#include<complex>\n",
    "#include<pybind11/pybind11.h>\n",
    "\n",
    "void run_cpp(int height, int width, int maxiterations, size_t c_ptr, size_t fractal_ptr) {\n",
    "    double* c = (double*)(c_ptr);\n",
    "    int* fractal = (int*)(fractal_ptr);\n",
    "    for (int h = 0;  h < height;  h++) {\n",
    "        for (int w = 0;  w < width;  w++) {\n",
    "            double creal = c[2 * (h + height*w)];\n",
    "            double cimag = c[2 * (h + height*w) + 1];\n",
    "            std::complex<double> ci = std::complex<double>(creal, cimag);\n",
    "            std::complex<double> z = ci;\n",
    "            for (int i = 0;  i < maxiterations;  i++) {\n",
    "                z = z*z + ci;\n",
    "                if (std::abs(z) > 2) {\n",
    "                    fractal[h + height*w] = i;\n",
    "                    break;\n",
    "                }\n",
    "            }\n",
    "        }\n",
    "    }\n",
    "}\n",
    "PYBIND11_MODULE(tmp, m) {\n",
    "    m.def(\"run_cpp\", &run_cpp, \"the inner loop\");\n",
    "}"
   ]
  },
  {
   "cell_type": "code",
   "execution_count": 47,
   "metadata": {},
   "outputs": [],
   "source": [
    "!c++ -O3 -ffast-math -Wall -shared -std=c++11 -fPIC `python -m pybind11 --includes` tmp.cpp -o tmp`python3-config --extension-suffix`"
   ]
  },
  {
   "cell_type": "code",
   "execution_count": 50,
   "metadata": {
    "slideshow": {
     "slide_type": "slide"
    }
   },
   "outputs": [
    {
     "name": "stdout",
     "output_type": "stream",
     "text": [
      "68.8030074040095 ns per pixel\n"
     ]
    }
   ],
   "source": [
    "import tmp\n",
    "starttime = time.time()\n",
    "height, width, maxiterations = 3200, 4800, 20\n",
    "y, x = numpy.ogrid[-1:0:height*1j, -1.5:0:width*1j]\n",
    "c = x + y*1j\n",
    "fractal = numpy.full(c.shape, maxiterations, dtype=numpy.int32)\n",
    "tmp.run_cpp(height, width, maxiterations, c.ctypes.data, fractal.ctypes.data)\n",
    "print(\"{0} ns per pixel\".format(1e9 * (time.time() - starttime) / (3200 * 4800)))"
   ]
  },
  {
   "cell_type": "markdown",
   "metadata": {},
   "source": [
    "With custom C++ code, I could get 120× faster than pure Python, but _only_ when using the `-ffast-math` flag, which sacrifices floating-point accuracy for speed.\n",
    "\n",
    "Numba has a `fastmath=True` option, but the gain wasn't as significant (only 70× → 75×)."
   ]
  },
  {
   "cell_type": "code",
   "execution_count": 51,
   "metadata": {
    "slideshow": {
     "slide_type": "slide"
    }
   },
   "outputs": [],
   "source": [
    "def run_numba(height, width, maxiterations=20):\n",
    "    y, x = numpy.ogrid[-1:0:height*1j, -1.5:0:width*1j]\n",
    "    c = x + y*1j\n",
    "    fractal = numpy.full(c.shape, maxiterations, dtype=numpy.int32)\n",
    "    return inner_loop(height, width, maxiterations, c, fractal)\n",
    "\n",
    "@numba.jit(nopython=True, fastmath=True)        # Numba has a fastmath option, too...\n",
    "def inner_loop(height, width, maxiterations, c, fractal):\n",
    "    for h in range(height):\n",
    "        for w in range(width):                  # for each pixel (h, w)...\n",
    "            z = c[h, w]\n",
    "            for i in range(maxiterations):      # iterate at most 20 times\n",
    "                z = z**2 + c[h, w]              # applying z → z² + c\n",
    "                if abs(z) > 2:                  # if it diverges (|z| > 2)\n",
    "                    fractal[h, w] = i           # color the plane with the iteration number\n",
    "                    break                       # we're done, no need to keep iterating\n",
    "    return fractal"
   ]
  },
  {
   "cell_type": "code",
   "execution_count": 55,
   "metadata": {},
   "outputs": [
    {
     "name": "stdout",
     "output_type": "stream",
     "text": [
      "109.91647529105346 ns per pixel\n"
     ]
    }
   ],
   "source": [
    "starttime = time.time()\n",
    "fractal = run_numba(3200, 4800)\n",
    "print(\"{0} ns per pixel\".format(1e9 * (time.time() - starttime) / (3200 * 4800)))"
   ]
  },
  {
   "cell_type": "markdown",
   "metadata": {
    "slideshow": {
     "slide_type": "slide"
    }
   },
   "source": [
    "But Numba has more tricks: `range` → `numba.prange` parallelizes the loop, if possible."
   ]
  },
  {
   "cell_type": "code",
   "execution_count": 56,
   "metadata": {},
   "outputs": [],
   "source": [
    "def run_numba(height, width, maxiterations=20):\n",
    "    y, x = numpy.ogrid[-1:0:height*1j, -1.5:0:width*1j]\n",
    "    c = x + y*1j\n",
    "    fractal = numpy.full(c.shape, maxiterations, dtype=numpy.int32)\n",
    "    return inner_loop(height, width, maxiterations, c, fractal)\n",
    "\n",
    "@numba.jit(nopython=True, fastmath=True, parallel=True)\n",
    "def inner_loop(height, width, maxiterations, c, fractal):\n",
    "    for h in numba.prange(height):\n",
    "        for w in numba.prange(width):           # for each pixel (h, w)...\n",
    "            z = c[h, w]\n",
    "            for i in range(maxiterations):      # iterate at most 20 times\n",
    "                z = z**2 + c[h, w]              # applying z → z² + c\n",
    "                if abs(z) > 2:                  # if it diverges (|z| > 2)\n",
    "                    fractal[h, w] = i           # color the plane with the iteration number\n",
    "                    break                       # we're done, no need to keep iterating\n",
    "    return fractal"
   ]
  },
  {
   "cell_type": "code",
   "execution_count": 59,
   "metadata": {
    "slideshow": {
     "slide_type": "slide"
    }
   },
   "outputs": [
    {
     "name": "stdout",
     "output_type": "stream",
     "text": [
      "31.845799336830776 ns per pixel\n"
     ]
    }
   ],
   "source": [
    "starttime = time.time()\n",
    "fractal = run_numba(6400, 9600)\n",
    "print(\"{0} ns per pixel\".format(1e9 * (time.time() - starttime) / (6400 * 9600)))"
   ]
  },
  {
   "cell_type": "markdown",
   "metadata": {
    "slideshow": {
     "slide_type": "fragment"
    }
   },
   "source": [
    "On my 12 core laptop, this is now 260× faster than the pure Python loop.\n",
    "\n",
    "It's not perfect scaling, but it helps."
   ]
  },
  {
   "cell_type": "markdown",
   "metadata": {
    "slideshow": {
     "slide_type": "slide"
    }
   },
   "source": [
    "Finally, there's CUDA. If you have a GPU, Numba can compile and run on it."
   ]
  },
  {
   "cell_type": "code",
   "execution_count": 60,
   "metadata": {},
   "outputs": [],
   "source": [
    "import numba.cuda\n",
    "import math\n",
    "\n",
    "def run_numba(height, width, maxiterations=20):\n",
    "    fractal = numpy.empty((height, width), dtype=numpy.int32)\n",
    "    griddim = (math.ceil(height / 32), math.ceil(width / 32))\n",
    "    blockdim = (32, 32)\n",
    "    inner_loop[griddim, blockdim](height, width, maxiterations, fractal)\n",
    "    return fractal\n",
    "\n",
    "@numba.cuda.jit\n",
    "def inner_loop(height, width, maxiterations, fractal):\n",
    "    x, y = numba.cuda.grid(2)                   # 2-dimensional CUDA grid\n",
    "    z = c = -1.5 + y*1.0/(height + 1) + -1j + x*1j*1.5/(width + 1)\n",
    "    fractal[x, y] = maxiterations\n",
    "    for i in range(maxiterations):\n",
    "        z = z**2 + c\n",
    "        if abs(z) > 2:\n",
    "            fractal[x, y] = i\n",
    "            break"
   ]
  },
  {
   "cell_type": "code",
   "execution_count": 64,
   "metadata": {
    "slideshow": {
     "slide_type": "slide"
    }
   },
   "outputs": [
    {
     "name": "stdout",
     "output_type": "stream",
     "text": [
      "6.898061838001013 ns per pixel\n"
     ]
    }
   ],
   "source": [
    "starttime = time.time()\n",
    "fractal = run_numba(6400, 9600)\n",
    "print(\"{0} ns per pixel\".format(1e9 * (time.time() - starttime) / (6400 * 9600)))"
   ]
  },
  {
   "cell_type": "markdown",
   "metadata": {
    "slideshow": {
     "slide_type": "fragment"
    }
   },
   "source": [
    "Even with copying the `fractal` array to and from the GPU, it's 1200× faster than pure Python."
   ]
  },
  {
   "cell_type": "markdown",
   "metadata": {
    "slideshow": {
     "slide_type": "slide"
    }
   },
   "source": [
    "## Summary\n",
    "\n",
    "Performance numbers just for this problem, collected onto one slide for comparison. Different problems can make more or less use of these features, so read it with logarithmic goggles.\n",
    "\n",
    "<table style=\"font-size: 22pt; margin-top: 50px\">\n",
    "    <tr style=\"font-weight: bold\"><td>Technique</td><td>Notes</td><td>Performance</td></tr>\n",
    "    <tr><td>Pure Python</td><td>iterates until done; breaks out of loop</td><td>1×</td></tr>\n",
    "    <tr><td>Numpy</td><td>requires rethinking; can't break early</td><td>24×</td></tr>\n",
    "    <tr><td>Numba</td><td>same code as pure Python</td><td>70×</td></tr>\n",
    "    <tr><td>ROOT C++</td><td>compiled without optimization</td><td>16×</td></tr>\n",
    "    <tr><td>Optimized C++</td><td>only if we compromise accuracy</td><td>120×</td></tr>\n",
    "    <tr><td>Parallel Numba</td><td>scaled by 3.7× on 12 cores</td><td>260×</td></tr>\n",
    "    <tr><td>Numba on GPU</td><td>including transit time</td><td>1200×</td></tr>\n",
    "</table>"
   ]
  }
 ],
 "metadata": {
  "celltoolbar": "Slideshow",
  "kernelspec": {
   "display_name": "Python 3",
   "language": "python",
   "name": "python3"
  },
  "language_info": {
   "codemirror_mode": {
    "name": "ipython",
    "version": 3
   },
   "file_extension": ".py",
   "mimetype": "text/x-python",
   "name": "python",
   "nbconvert_exporter": "python",
   "pygments_lexer": "ipython3",
   "version": "3.7.1"
  }
 },
 "nbformat": 4,
 "nbformat_minor": 2
}
