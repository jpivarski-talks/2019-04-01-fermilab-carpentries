{
 "cells": [
  {
   "cell_type": "markdown",
   "metadata": {
    "slideshow": {
     "slide_type": "slide"
    }
   },
   "source": [
    "## Numba: compiled Python"
   ]
  },
  {
   "cell_type": "markdown",
   "metadata": {
    "slideshow": {
     "slide_type": "slide"
    }
   },
   "source": [
    "We know that Python is slow—that's why we use Python and C++. However, \"rewrite in C++\" is a roadblock in development from simple Python tests to a full-dataset algorithm.\n",
    "\n",
    "It's not always necessary to rewrite in C++. There are compilers for Python."
   ]
  },
  {
   "cell_type": "markdown",
   "metadata": {
    "slideshow": {
     "slide_type": "slide"
    }
   },
   "source": [
    "Demonstration: start with a pure Python algorithm. The code below draws a fractal."
   ]
  },
  {
   "cell_type": "code",
   "execution_count": 1,
   "metadata": {},
   "outputs": [],
   "source": [
    "%matplotlib inline\n",
    "import numpy, numba, matplotlib.pyplot, time"
   ]
  },
  {
   "cell_type": "code",
   "execution_count": 2,
   "metadata": {},
   "outputs": [],
   "source": [
    "def run_python(height, width, maxiterations=20):\n",
    "    y, x = numpy.ogrid[-1:0:height*1j, -1.5:0:width*1j]\n",
    "    c = x + y*1j\n",
    "    fractal = numpy.zeros(c.shape, dtype=numpy.int32) + maxiterations\n",
    "    for h in range(height):\n",
    "        for w in range(width):                  # for each pixel (h, w)...\n",
    "            z = c[h, w]\n",
    "            for i in range(maxiterations):      # iterate at most 20 times\n",
    "                z = z**2 + c[h, w]              # applying z → z² + c\n",
    "                if abs(z) > 2:                  # if it diverges (|z| > 2)\n",
    "                    fractal[h, w] = i           # color the plane with the iteration number\n",
    "                    break                       # we're done, no need to keep iterating\n",
    "    return fractal"
   ]
  },
  {
   "cell_type": "code",
   "execution_count": 3,
   "metadata": {
    "slideshow": {
     "slide_type": "fragment"
    }
   },
   "outputs": [
    {
     "name": "stdout",
     "output_type": "stream",
     "text": [
      "5781.266838312149 ns per pixel\n"
     ]
    }
   ],
   "source": [
    "starttime = time.time()\n",
    "fractal = run_python(800, 1200)\n",
    "print(\"{0} ns per pixel\".format(1e9 * (time.time() - starttime) / (800 * 1200)))"
   ]
  },
  {
   "cell_type": "code",
   "execution_count": 36,
   "metadata": {
    "slideshow": {
     "slide_type": "slide"
    }
   },
   "outputs": [],
   "source": [
    "fig, ax = matplotlib.pyplot.subplots(figsize=(18, 12))\n",
    "ax.imshow(fractal)"
   ]
  },
  {
   "cell_type": "markdown",
   "metadata": {
    "slideshow": {
     "slide_type": "slide"
    }
   },
   "source": [
    "Since Numpy operates array-at-a-time, you have to completely rethink the problem to use Numpy (same for Awkward)."
   ]
  },
  {
   "cell_type": "code",
   "execution_count": 5,
   "metadata": {},
   "outputs": [],
   "source": [
    "def run_numpy(height, width, maxiterations=20):\n",
    "    y, x = numpy.ogrid[-1:0:height*1j, -1.5:0:width*1j]\n",
    "    c = x + y*1j\n",
    "    fractal = numpy.zeros(c.shape, dtype=numpy.int32) + maxiterations\n",
    "    z = c\n",
    "    for i in range(maxiterations):\n",
    "        z = z**2 + c                                            # applying z → z² + c\n",
    "        diverged = numpy.absolute(z) > 2                        # |z| > 2 is \"divergence\"\n",
    "        diverging_now = diverged & (fractal == maxiterations)   # some are already done\n",
    "        fractal[diverging_now] = i                              # just set the new ones\n",
    "        z[diverged] = 2                                         # clamp diverged at 2\n",
    "    return fractal"
   ]
  },
  {
   "cell_type": "code",
   "execution_count": 6,
   "metadata": {},
   "outputs": [
    {
     "name": "stdout",
     "output_type": "stream",
     "text": [
      "379.4632852077484 ns per pixel\n"
     ]
    }
   ],
   "source": [
    "starttime = time.time()\n",
    "fractal = run_numpy(1600, 2400)\n",
    "print(\"{0} ns per pixel\".format(1e9 * (time.time() - starttime) / (1600 * 2400)))"
   ]
  },
  {
   "cell_type": "markdown",
   "metadata": {
    "slideshow": {
     "slide_type": "fragment"
    }
   },
   "source": [
    "Numpy is 13× faster than pure Python _even though_ it can't `break` when done with a given pixel."
   ]
  },
  {
   "cell_type": "markdown",
   "metadata": {
    "slideshow": {
     "slide_type": "slide"
    }
   },
   "source": [
    "With Numba, we can make the pure Python code fast by inserting `@numba.jit` before the function."
   ]
  },
  {
   "cell_type": "code",
   "execution_count": 7,
   "metadata": {},
   "outputs": [],
   "source": [
    "@numba.jit\n",
    "def run_numba(height, width, maxiterations=20):\n",
    "    y, x = numpy.ogrid[-1:0:height*1j, -1.5:0:width*1j]\n",
    "    c = x + y*1j\n",
    "    fractal = numpy.zeros(c.shape, dtype=numpy.int32) + maxiterations\n",
    "    for h in range(height):\n",
    "        for w in range(width):                  # for each pixel (h, w)...\n",
    "            z = c[h, w]\n",
    "            for i in range(maxiterations):      # iterate at most 20 times\n",
    "                z = z**2 + c[h, w]              # applying z → z² + c\n",
    "                if abs(z) > 2:                  # if it diverges (|z| > 2)\n",
    "                    fractal[h, w] = i           # color the plane with the iteration number\n",
    "                    break                       # we're done, no need to keep iterating\n",
    "    return fractal"
   ]
  },
  {
   "cell_type": "code",
   "execution_count": 8,
   "metadata": {},
   "outputs": [
    {
     "name": "stdout",
     "output_type": "stream",
     "text": [
      "135.26005980869135 ns per pixel\n"
     ]
    }
   ],
   "source": [
    "starttime = time.time()\n",
    "fractal = run_numba(3200, 4800)\n",
    "print(\"{0} ns per pixel\".format(1e9 * (time.time() - starttime) / (3200 * 4800)))"
   ]
  },
  {
   "cell_type": "markdown",
   "metadata": {
    "slideshow": {
     "slide_type": "fragment"
    }
   },
   "source": [
    "Numba is 50× faster than pure Python without changing the code."
   ]
  },
  {
   "cell_type": "markdown",
   "metadata": {
    "slideshow": {
     "slide_type": "slide"
    }
   },
   "source": [
    "Converting it all to C++ is not an automatic win."
   ]
  },
  {
   "cell_type": "code",
   "execution_count": 9,
   "metadata": {},
   "outputs": [
    {
     "name": "stdout",
     "output_type": "stream",
     "text": [
      "Welcome to JupyROOT 6.14/04\n"
     ]
    }
   ],
   "source": [
    "import ROOT\n",
    "tmpname = \"run_cpp1\"\n",
    "ROOT.gInterpreter.Declare(\"\"\"\n",
    "#include<complex>\n",
    "void %s(int height, int width, int maxiterations, size_t c_ptr, size_t fractal_ptr) {\n",
    "    double* c = (double*)(c_ptr);\n",
    "    int* fractal = (int*)(fractal_ptr);\n",
    "    for (int h = 0;  h < height;  h++) {\n",
    "        for (int w = 0;  w < width;  w++) {\n",
    "            double creal = c[2 * (h + height*w)];\n",
    "            double cimag = c[2 * (h + height*w) + 1];\n",
    "            std::complex<double> ci = std::complex<double>(creal, cimag);\n",
    "            std::complex<double> z = ci;\n",
    "            for (int i = 0;  i < maxiterations;  i++) {\n",
    "                z = z*z + ci;\n",
    "                if (std::abs(z) > 2) {\n",
    "                    fractal[h + height*w] = i;\n",
    "                    break;\n",
    "} } } } }\"\"\" % tmpname)\n",
    "\n",
    "def run_cpp(height, width, maxiterations=20):\n",
    "    y, x = numpy.ogrid[-1:0:height*1j, -1.5:0:width*1j]\n",
    "    c = x + y*1j\n",
    "    fractal = numpy.full(c.shape, maxiterations, dtype=numpy.int32)\n",
    "    getattr(ROOT, tmpname)(height, width, maxiterations, c.ctypes.data, fractal.ctypes.data)\n",
    "    return fractal"
   ]
  },
  {
   "cell_type": "code",
   "execution_count": 10,
   "metadata": {
    "slideshow": {
     "slide_type": "slide"
    }
   },
   "outputs": [
    {
     "name": "stdout",
     "output_type": "stream",
     "text": [
      "534.8232885201772 ns per pixel\n"
     ]
    }
   ],
   "source": [
    "starttime = time.time()\n",
    "fractal = run_cpp(3200, 4800)\n",
    "print(\"{0} ns per pixel\".format(1e9 * (time.time() - starttime) / (3200 * 4800)))"
   ]
  },
  {
   "cell_type": "markdown",
   "metadata": {
    "slideshow": {
     "slide_type": "fragment"
    }
   },
   "source": [
    "This is only 10× faster than pure Python, whereas Numba was 50×. Much of the gap is due to the fact that ROOT currently compiles C++ in `Declare` without optimization (`-O0`).\n",
    "\n",
    "To really do this right, make a separate file and compile it."
   ]
  },
  {
   "cell_type": "code",
   "execution_count": 11,
   "metadata": {
    "slideshow": {
     "slide_type": "slide"
    }
   },
   "outputs": [
    {
     "name": "stdout",
     "output_type": "stream",
     "text": [
      "Overwriting tmp.cpp\n"
     ]
    }
   ],
   "source": [
    "%%writefile tmp.cpp\n",
    "#include<complex>\n",
    "#include<pybind11/pybind11.h>\n",
    "\n",
    "void run_cpp(int height, int width, int maxiterations, size_t c_ptr, size_t fractal_ptr) {\n",
    "    double* c = (double*)(c_ptr);\n",
    "    int* fractal = (int*)(fractal_ptr);\n",
    "    for (int h = 0;  h < height;  h++) {\n",
    "        for (int w = 0;  w < width;  w++) {\n",
    "            double creal = c[2 * (h + height*w)];\n",
    "            double cimag = c[2 * (h + height*w) + 1];\n",
    "            std::complex<double> ci = std::complex<double>(creal, cimag);\n",
    "            std::complex<double> z = ci;\n",
    "            for (int i = 0;  i < maxiterations;  i++) {\n",
    "                z = z*z + ci;\n",
    "                if (std::abs(z) > 2) {\n",
    "                    fractal[h + height*w] = i;\n",
    "                    break;\n",
    "                }\n",
    "            }\n",
    "        }\n",
    "    }\n",
    "}\n",
    "PYBIND11_MODULE(tmp, m) {\n",
    "    m.def(\"run_cpp\", &run_cpp, \"the inner loop\");\n",
    "}"
   ]
  },
  {
   "cell_type": "code",
   "execution_count": 12,
   "metadata": {},
   "outputs": [],
   "source": [
    "!c++ -O3 -ffast-math -Wall -shared -std=c++11 -fPIC `python -m pybind11 --includes` tmp.cpp -o tmp`python3-config --extension-suffix`"
   ]
  },
  {
   "cell_type": "code",
   "execution_count": 26,
   "metadata": {
    "slideshow": {
     "slide_type": "slide"
    }
   },
   "outputs": [
    {
     "name": "stdout",
     "output_type": "stream",
     "text": [
      "68.87235989173253 ns per pixel\n"
     ]
    }
   ],
   "source": [
    "import tmp\n",
    "starttime = time.time()\n",
    "height, width, maxiterations = 3200, 4800, 20\n",
    "y, x = numpy.ogrid[-1:0:height*1j, -1.5:0:width*1j]\n",
    "c = x + y*1j\n",
    "fractal = numpy.full(c.shape, maxiterations, dtype=numpy.int32)\n",
    "tmp.run_cpp(height, width, maxiterations, c.ctypes.data, fractal.ctypes.data)\n",
    "print(\"{0} ns per pixel\".format(1e9 * (time.time() - starttime) / (3200 * 4800)))"
   ]
  },
  {
   "cell_type": "markdown",
   "metadata": {},
   "source": [
    "With custom C++ code, I could get 85× faster than pure Python, but _only_ when using the `-ffast-math` flag, which sacrifices floating-point accuracy for speed.\n",
    "\n",
    "Numba has a `fastmath=True` option, but the gain wasn't as significant (only 50× → 55×)."
   ]
  },
  {
   "cell_type": "code",
   "execution_count": 31,
   "metadata": {
    "slideshow": {
     "slide_type": "slide"
    }
   },
   "outputs": [],
   "source": [
    "def run_numba(height, width, maxiterations=20):\n",
    "    y, x = numpy.ogrid[-1:0:height*1j, -1.5:0:width*1j]\n",
    "    c = x + y*1j\n",
    "    fractal = numpy.zeros(c.shape, dtype=numpy.int32) + maxiterations\n",
    "    return inner_loop(height, width, maxiterations, c, fractal)\n",
    "\n",
    "@numba.jit(nopython=True, fastmath=True)        # Numba has a fastmath option, too...\n",
    "def inner_loop(height, width, maxiterations, c, fractal):\n",
    "    for h in range(height):\n",
    "        for w in range(width):                  # for each pixel (h, w)...\n",
    "            z = c[h, w]\n",
    "            for i in range(maxiterations):      # iterate at most 20 times\n",
    "                z = z**2 + c[h, w]              # applying z → z² + c\n",
    "                if abs(z) > 2:                  # if it diverges (|z| > 2)\n",
    "                    fractal[h, w] = i           # color the plane with the iteration number\n",
    "                    break                       # we're done, no need to keep iterating\n",
    "    return fractal"
   ]
  },
  {
   "cell_type": "code",
   "execution_count": 34,
   "metadata": {},
   "outputs": [
    {
     "name": "stdout",
     "output_type": "stream",
     "text": [
      "109.99338701367378 ns per pixel\n"
     ]
    }
   ],
   "source": [
    "starttime = time.time()\n",
    "fractal = run_numba(3200, 4800)\n",
    "print(\"{0} ns per pixel\".format(1e9 * (time.time() - starttime) / (3200 * 4800)))"
   ]
  },
  {
   "cell_type": "markdown",
   "metadata": {
    "slideshow": {
     "slide_type": "slide"
    }
   },
   "source": [
    "But Numba has more tricks: `range` → `numba.prange` parallelizes the loop, if possible (equivalent to OpenMP's \"parallel for\")."
   ]
  },
  {
   "cell_type": "code",
   "execution_count": 54,
   "metadata": {},
   "outputs": [],
   "source": [
    "def run_numba(height, width, maxiterations=20):\n",
    "    y, x = numpy.ogrid[-1:0:height*1j, -1.5:0:width*1j]\n",
    "    c = x + y*1j\n",
    "    fractal = numpy.zeros(c.shape, dtype=numpy.int32) + maxiterations\n",
    "    return inner_loop(height, width, maxiterations, c, fractal)\n",
    "\n",
    "@numba.jit(nopython=True, fastmath=True, parallel=True)\n",
    "def inner_loop(height, width, maxiterations, c, fractal):\n",
    "    for h in numba.prange(height):\n",
    "        for w in numba.prange(width):           # for each pixel (h, w)...\n",
    "            z = c[h, w]\n",
    "            for i in range(maxiterations):      # iterate at most 20 times\n",
    "                z = z**2 + c[h, w]              # applying z → z² + c\n",
    "                if abs(z) > 2:                  # if it diverges (|z| > 2)\n",
    "                    fractal[h, w] = i           # color the plane with the iteration number\n",
    "                    break                       # we're done, no need to keep iterating\n",
    "    return fractal"
   ]
  },
  {
   "cell_type": "code",
   "execution_count": 67,
   "metadata": {},
   "outputs": [
    {
     "name": "stdout",
     "output_type": "stream",
     "text": [
      "29.719830490648746 ns per pixel\n"
     ]
    }
   ],
   "source": [
    "starttime = time.time()\n",
    "fractal = run_numba(6400, 9600)\n",
    "print(\"{0} ns per pixel\".format(1e9 * (time.time() - starttime) / (6400 * 9600)))"
   ]
  },
  {
   "cell_type": "markdown",
   "metadata": {},
   "source": [
    "On my 12 core laptop, this is now 195× faster than the pure Python loop."
   ]
  },
  {
   "cell_type": "code",
   "execution_count": null,
   "metadata": {},
   "outputs": [],
   "source": []
  }
 ],
 "metadata": {
  "celltoolbar": "Slideshow",
  "kernelspec": {
   "display_name": "Python 3",
   "language": "python",
   "name": "python3"
  },
  "language_info": {
   "codemirror_mode": {
    "name": "ipython",
    "version": 3
   },
   "file_extension": ".py",
   "mimetype": "text/x-python",
   "name": "python",
   "nbconvert_exporter": "python",
   "pygments_lexer": "ipython3",
   "version": "3.7.2"
  }
 },
 "nbformat": 4,
 "nbformat_minor": 2
}
