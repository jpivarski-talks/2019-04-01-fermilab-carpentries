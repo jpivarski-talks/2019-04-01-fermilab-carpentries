{
 "cells": [
  {
   "cell_type": "markdown",
   "metadata": {
    "slideshow": {
     "slide_type": "slide"
    }
   },
   "source": [
    "# Accessing TTree data with PyROOT (and others)"
   ]
  },
  {
   "cell_type": "markdown",
   "metadata": {
    "slideshow": {
     "slide_type": "slide"
    }
   },
   "source": [
    "Very likely, most of your data are in ROOT TTrees. Here are various ways of getting the data out."
   ]
  },
  {
   "cell_type": "code",
   "execution_count": null,
   "metadata": {
    "slideshow": {
     "slide_type": "fragment"
    }
   },
   "outputs": [],
   "source": [
    "import ROOT"
   ]
  },
  {
   "cell_type": "code",
   "execution_count": null,
   "metadata": {
    "slideshow": {
     "slide_type": "-"
    }
   },
   "outputs": [],
   "source": [
    "# Note: this is TFile::Open(...)\n",
    "file = ROOT.TFile.Open(\"http://scikit-hep.org/uproot/examples/HZZ.root\")\n",
    "tree = file.Get(\"events\")"
   ]
  },
  {
   "cell_type": "code",
   "execution_count": null,
   "metadata": {
    "slideshow": {
     "slide_type": "-"
    }
   },
   "outputs": [],
   "source": [
    "for event in tree:\n",
    "    print(event.MET_px, event.MET_py)"
   ]
  },
  {
   "cell_type": "markdown",
   "metadata": {
    "slideshow": {
     "slide_type": "slide"
    }
   },
   "source": [
    "That worked, but it would be uncomfortable on large datasets because expressions like `event.MET_px` does a lot of processing _in each event_ to produce a number. The same reasons to use Numpy over Python for loops applies here (to an even greater degree).\n",
    "\n",
    "Fortunately, ROOT now has methods to access TTree data as Numpy arrays."
   ]
  },
  {
   "cell_type": "code",
   "execution_count": null,
   "metadata": {
    "slideshow": {
     "slide_type": "fragment"
    }
   },
   "outputs": [],
   "source": [
    "tree.AsMatrix([\"MET_px\", \"MET_py\"])"
   ]
  },
  {
   "cell_type": "markdown",
   "metadata": {
    "slideshow": {
     "slide_type": "slide"
    }
   },
   "source": [
    "The labels (`MET_px`, `MET_py`) are missing, but here's a way to get them:"
   ]
  },
  {
   "cell_type": "code",
   "execution_count": null,
   "metadata": {},
   "outputs": [],
   "source": [
    "data, labels = tree.AsMatrix([\"MET_px\", \"MET_py\"], return_labels=True)\n",
    "labels"
   ]
  },
  {
   "cell_type": "markdown",
   "metadata": {
    "slideshow": {
     "slide_type": "fragment"
    }
   },
   "source": [
    "And use them:"
   ]
  },
  {
   "cell_type": "code",
   "execution_count": null,
   "metadata": {},
   "outputs": [],
   "source": [
    "recarray = data.reshape(-1).view([(x, data.dtype) for x in labels])\n",
    "recarray"
   ]
  },
  {
   "cell_type": "code",
   "execution_count": null,
   "metadata": {},
   "outputs": [],
   "source": [
    "recarray[\"MET_px\"]"
   ]
  },
  {
   "cell_type": "code",
   "execution_count": null,
   "metadata": {},
   "outputs": [],
   "source": [
    "recarray[\"MET_py\"]"
   ]
  },
  {
   "cell_type": "markdown",
   "metadata": {
    "slideshow": {
     "slide_type": "slide"
    }
   },
   "source": [
    "Another way to use them: as a Pandas DataFrame."
   ]
  },
  {
   "cell_type": "code",
   "execution_count": null,
   "metadata": {},
   "outputs": [],
   "source": [
    "import pandas\n",
    "pandas.DataFrame(data, columns=labels)"
   ]
  },
  {
   "cell_type": "markdown",
   "metadata": {
    "slideshow": {
     "slide_type": "slide"
    }
   },
   "source": [
    "## Nested structure\n",
    "\n",
    "Not all data have one value per event/entry."
   ]
  },
  {
   "cell_type": "code",
   "execution_count": null,
   "metadata": {
    "slideshow": {
     "slide_type": "-"
    }
   },
   "outputs": [],
   "source": [
    "for event in tree:\n",
    "    print([x for x in event.Muon_Px])"
   ]
  },
  {
   "cell_type": "markdown",
   "metadata": {
    "slideshow": {
     "slide_type": "slide"
    }
   },
   "source": [
    "These kinds of data don't have a Numpy analogue, so `AsMatrix` can't read them."
   ]
  },
  {
   "cell_type": "code",
   "execution_count": null,
   "metadata": {},
   "outputs": [],
   "source": [
    "tree.AsMatrix([\"Muon_Px\"])"
   ]
  },
  {
   "cell_type": "markdown",
   "metadata": {
    "slideshow": {
     "slide_type": "slide"
    }
   },
   "source": [
    "ROOT doesn't (yet) have a method for this, but two Python packages, root_numpy and uproot, do."
   ]
  },
  {
   "cell_type": "code",
   "execution_count": null,
   "metadata": {},
   "outputs": [],
   "source": [
    "import root_numpy\n",
    "jaggedarray1 = root_numpy.tree2array(tree, [\"Muon_Px\"])\n",
    "jaggedarray1"
   ]
  },
  {
   "cell_type": "markdown",
   "metadata": {
    "slideshow": {
     "slide_type": "fragment"
    }
   },
   "source": [
    "This is a Numpy array of Python objects, each of which is a small Numpy array. It's randomly distributed in memory and can't be sliced as a multidimensional object."
   ]
  },
  {
   "cell_type": "code",
   "execution_count": null,
   "metadata": {
    "slideshow": {
     "slide_type": "fragment"
    }
   },
   "outputs": [],
   "source": [
    "# the pointer to the array for event 1 is not 16 bytes after the pointer to the array for event 2\n",
    "jaggedarray1[1][0].ctypes.data - jaggedarray1[0][0].ctypes.data"
   ]
  },
  {
   "cell_type": "code",
   "execution_count": null,
   "metadata": {
    "slideshow": {
     "slide_type": "-"
    }
   },
   "outputs": [],
   "source": [
    "jaggedarray1[:, 0]"
   ]
  },
  {
   "cell_type": "markdown",
   "metadata": {
    "slideshow": {
     "slide_type": "slide"
    }
   },
   "source": [
    "In uproot, these \"jagged arrays\" are a builtin type."
   ]
  },
  {
   "cell_type": "code",
   "execution_count": null,
   "metadata": {},
   "outputs": [],
   "source": [
    "import uproot\n",
    "tree2 = uproot.open(\"http://scikit-hep.org/uproot/examples/HZZ.root\")[\"events\"]\n",
    "jaggedarray2 = tree2.array(\"Muon_Px\")\n",
    "jaggedarray2"
   ]
  },
  {
   "cell_type": "markdown",
   "metadata": {
    "slideshow": {
     "slide_type": "fragment"
    }
   },
   "source": [
    "This object is built out of large, contiguous Numpy arrays and has slicing operations."
   ]
  },
  {
   "cell_type": "code",
   "execution_count": null,
   "metadata": {},
   "outputs": [],
   "source": [
    "print(jaggedarray2.offsets)\n",
    "print(jaggedarray2.content)"
   ]
  },
  {
   "cell_type": "code",
   "execution_count": null,
   "metadata": {
    "scrolled": true
   },
   "outputs": [],
   "source": [
    "jaggedarray2[:10, 0]"
   ]
  },
  {
   "cell_type": "markdown",
   "metadata": {
    "slideshow": {
     "slide_type": "slide"
    }
   },
   "source": [
    "## Arbitrary objects\n",
    "\n",
    "PyROOT should be able to read any kind of object, as it's a front end for ROOT."
   ]
  },
  {
   "cell_type": "code",
   "execution_count": null,
   "metadata": {},
   "outputs": [],
   "source": [
    "file2 = ROOT.TFile.Open(\"http://scikit-hep.org/uproot/examples/HZZ-objects.root\")\n",
    "tree3 = file2.Get(\"events\")"
   ]
  },
  {
   "cell_type": "code",
   "execution_count": null,
   "metadata": {},
   "outputs": [],
   "source": [
    "for event in tree3:\n",
    "    print(event.muonp4, [x.Pt() for x in event.muonp4])"
   ]
  },
  {
   "cell_type": "markdown",
   "metadata": {
    "slideshow": {
     "slide_type": "slide"
    }
   },
   "source": [
    "Non-numeric data can't be read with root_numpy."
   ]
  },
  {
   "cell_type": "code",
   "execution_count": null,
   "metadata": {
    "slideshow": {
     "slide_type": "-"
    }
   },
   "outputs": [],
   "source": [
    "root_numpy.tree2array(tree3, [\"muonp4\"])"
   ]
  },
  {
   "cell_type": "markdown",
   "metadata": {
    "slideshow": {
     "slide_type": "slide"
    }
   },
   "source": [
    "But uproot can read some custom classes, including user-defined classes."
   ]
  },
  {
   "cell_type": "code",
   "execution_count": null,
   "metadata": {
    "slideshow": {
     "slide_type": "-"
    }
   },
   "outputs": [],
   "source": [
    "tree4 = uproot.open(\"http://scikit-hep.org/uproot/examples/HZZ-objects.root\")[\"events\"]\n",
    "jaggedarray3 = tree4.array(\"muonp4\")\n",
    "jaggedarray3"
   ]
  },
  {
   "cell_type": "code",
   "execution_count": null,
   "metadata": {
    "slideshow": {
     "slide_type": "fragment"
    }
   },
   "outputs": [],
   "source": [
    "jaggedarray3.pt"
   ]
  },
  {
   "cell_type": "code",
   "execution_count": null,
   "metadata": {
    "slideshow": {
     "slide_type": "fragment"
    }
   },
   "outputs": [],
   "source": [
    "jaggedarray3[:10].mass"
   ]
  },
  {
   "cell_type": "markdown",
   "metadata": {
    "slideshow": {
     "slide_type": "slide"
    }
   },
   "source": [
    "## Performance\n",
    "\n",
    "PyROOT for loops should only be used for small datasets or small tests; root_numpy is compiled code, generally faster but its \"array of arrays\" structure is an issue; uproot is generally fastest (streamlined Numpy calls)."
   ]
  },
  {
   "cell_type": "code",
   "execution_count": null,
   "metadata": {},
   "outputs": [],
   "source": [
    "%%timeit\n",
    "for event in tree:\n",
    "    [x for x in event.Muon_Px]"
   ]
  },
  {
   "cell_type": "code",
   "execution_count": null,
   "metadata": {},
   "outputs": [],
   "source": [
    "%%timeit\n",
    "root_numpy.tree2array(tree, [\"Muon_Px\"])"
   ]
  },
  {
   "cell_type": "code",
   "execution_count": null,
   "metadata": {},
   "outputs": [],
   "source": [
    "%%timeit\n",
    "tree2.array(\"Muon_Px\")"
   ]
  },
  {
   "cell_type": "markdown",
   "metadata": {
    "slideshow": {
     "slide_type": "slide"
    }
   },
   "source": [
    "## Summary\n",
    "\n",
    "Which method you choose depends on accessibility of ROOT, what types of data you need to read, and the scale of your dataset.\n",
    "\n",
    "<table style=\"font-size: 22pt; margin-top: 50px\">\n",
    "    <tr style=\"font-weight: bold\"><td>Method</td><td>relationship to ROOT</td><td>Data types</td><td>Performance</td></tr>\n",
    "    <tr><td>PyROOT for loop</td><td>part of ROOT</td><td>any</td><td>slow</td></tr>\n",
    "    <tr><td>PyROOT AsMatrix</td><td>part of ROOT</td><td>one number per entry</td><td>fast</td></tr>\n",
    "    <tr><td>root_numpy</td><td>compiles into a ROOT version</td><td>number(s) per entry</td><td>fast for one number per entry</td></tr>\n",
    "    <tr><td>uproot</td><td>independent implementation</td><td>number(s) per entry, most objects</td><td>fast</td></tr>\n",
    "</table>"
   ]
  }
 ],
 "metadata": {
  "celltoolbar": "Slideshow",
  "kernelspec": {
   "display_name": "Python 3",
   "language": "python",
   "name": "python3"
  },
  "language_info": {
   "codemirror_mode": {
    "name": "ipython",
    "version": 3
   },
   "file_extension": ".py",
   "mimetype": "text/x-python",
   "name": "python",
   "nbconvert_exporter": "python",
   "pygments_lexer": "ipython3",
   "version": "3.7.2"
  }
 },
 "nbformat": 4,
 "nbformat_minor": 2
}
