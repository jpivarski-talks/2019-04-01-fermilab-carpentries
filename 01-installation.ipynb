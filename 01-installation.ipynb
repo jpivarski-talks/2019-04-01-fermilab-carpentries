{
 "cells": [
  {
   "cell_type": "markdown",
   "metadata": {
    "slideshow": {
     "slide_type": "slide"
    }
   },
   "source": [
    "# Installation"
   ]
  },
  {
   "cell_type": "markdown",
   "metadata": {
    "slideshow": {
     "slide_type": "slide"
    }
   },
   "source": [
    "## Installing ROOT\n",
    "\n",
    "As a prerequisite for this course, you installed [Anaconda](https://docs.anaconda.com/anaconda/install/) or [Miniconda](https://docs.conda.io/en/latest/miniconda.html).\n",
    "\n",
    "ROOT is now available as a conda package. Even if you already have a copy of ROOT on your laptop, it might not work with the Python in your Anaconda/Miniconda distribution. A version of ROOT compiled to work with conda is available in the `conda-forge` channel.\n",
    "\n",
    "On your laptop, install it with:\n",
    "\n",
    "```bash\n",
    "conda install -c conda-forge root\n",
    "```\n",
    "\n",
    "On the Binder instance, do nothing. It's already installed."
   ]
  },
  {
   "cell_type": "markdown",
   "metadata": {
    "slideshow": {
     "slide_type": "slide"
    }
   },
   "source": [
    "## Installing uproot\n",
    "\n",
    "Uproot is similarly on `conda-forge`. (But if you didn't follow instructions and haven't installed Anaconda/Miniconda, then you can `pip install uproot`.)\n",
    "\n",
    "```bash\n",
    "conda install -c conda-forge uproot\n",
    "```\n",
    "\n",
    "For our discussion of awkward-array, note that you already have it: `awkward` is a dependency of `uproot`.\n",
    "\n",
    "On the Binder instance, do nothing. It's already installed."
   ]
  },
  {
   "cell_type": "markdown",
   "metadata": {
    "slideshow": {
     "slide_type": "slide"
    }
   },
   "source": [
    "## Installing pybind11\n",
    "\n",
    "In case we end up talking about pybind11, this is also on `conda-forge`.\n",
    "\n",
    "```bash\n",
    "conda install -c conda-forge pybind11\n",
    "```\n",
    "\n",
    "On the Binder instance, do nothing. It's already installed."
   ]
  },
  {
   "cell_type": "markdown",
   "metadata": {
    "slideshow": {
     "slide_type": "slide"
    }
   },
   "source": [
    "## Installing Numba\n",
    "\n",
    "Numba is included in the base Anaconda distribution, but if you used Miniconda, you'll have to install it.\n",
    "\n",
    "```bash\n",
    "conda install numba\n",
    "```\n",
    "\n",
    "On the Binder instance, do nothing. It's already installed."
   ]
  },
  {
   "cell_type": "markdown",
   "metadata": {
    "slideshow": {
     "slide_type": "fragment"
    }
   },
   "source": [
    "(Note: if you have an NVidia GPU, you might want to add\n",
    "\n",
    "```bash\n",
    "conda install cudatoolkit\n",
    "```\n",
    "\n",
    "to JIT-compile GPU kernels as well as CPU code. The Binder instance does not have a GPU.)"
   ]
  }
 ],
 "metadata": {
  "celltoolbar": "Slideshow",
  "kernelspec": {
   "display_name": "Python 3",
   "language": "python",
   "name": "python3"
  },
  "language_info": {
   "codemirror_mode": {
    "name": "ipython",
    "version": 3
   },
   "file_extension": ".py",
   "mimetype": "text/x-python",
   "name": "python",
   "nbconvert_exporter": "python",
   "pygments_lexer": "ipython3",
   "version": "3.7.2"
  }
 },
 "nbformat": 4,
 "nbformat_minor": 2
}
