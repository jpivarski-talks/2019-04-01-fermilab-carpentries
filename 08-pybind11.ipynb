{
 "cells": [
  {
   "cell_type": "markdown",
   "metadata": {
    "slideshow": {
     "slide_type": "slide"
    }
   },
   "source": [
    "# Modern Python-C++ glue: pybind11"
   ]
  },
  {
   "cell_type": "markdown",
   "metadata": {
    "slideshow": {
     "slide_type": "slide"
    }
   },
   "source": [
    "There are many (_many_) ways to cross the boundary between Python and C++. ROOT provides the easiest: one `ROOT.gInterpreter.Declare` call creates a C++ function with all the Python ↔ C++ type conversions.\n",
    "\n",
    "However, it's not the best way to distribute a C++ project with a Python interface. The cleanest, simplest solution for that is pybind11."
   ]
  },
  {
   "cell_type": "markdown",
   "metadata": {
    "slideshow": {
     "slide_type": "slide"
    }
   },
   "source": [
    "pybind11 is a header-only C++ library: it needs to be on your compiler's `INCLUDE` path, but you don't need to link into any architecture-dependent library.\n",
    "\n",
    "If you've installed it with conda (so it's on the `INCLUDE` path), getting started is super simple."
   ]
  },
  {
   "cell_type": "code",
   "execution_count": 1,
   "metadata": {},
   "outputs": [
    {
     "name": "stdout",
     "output_type": "stream",
     "text": [
      "Overwriting simple.cpp\n"
     ]
    }
   ],
   "source": [
    "%%writefile simple.cpp\n",
    "#include<pybind11/pybind11.h>\n",
    "\n",
    "double add(double a, double b) {\n",
    "    return a + b;\n",
    "}\n",
    "\n",
    "PYBIND11_MODULE(simple, m) {\n",
    "    m.def(\"add\", &add, \"a compiled function\");\n",
    "}"
   ]
  },
  {
   "cell_type": "code",
   "execution_count": 2,
   "metadata": {
    "slideshow": {
     "slide_type": "fragment"
    }
   },
   "outputs": [],
   "source": [
    "%%bash\n",
    "c++ -Wall -shared -std=c++11 -fPIC                 \\\n",
    "    `python -m pybind11 --includes` simple.cpp     \\\n",
    "    -o simple`python3-config --extension-suffix`"
   ]
  },
  {
   "cell_type": "code",
   "execution_count": 3,
   "metadata": {
    "slideshow": {
     "slide_type": "slide"
    }
   },
   "outputs": [
    {
     "data": {
      "text/plain": [
       "7.5"
      ]
     },
     "execution_count": 3,
     "metadata": {},
     "output_type": "execute_result"
    }
   ],
   "source": [
    "import simple\n",
    "simple.add(3, 4.5)"
   ]
  },
  {
   "cell_type": "code",
   "execution_count": 4,
   "metadata": {
    "slideshow": {
     "slide_type": "fragment"
    }
   },
   "outputs": [
    {
     "name": "stdout",
     "output_type": "stream",
     "text": [
      "Help on built-in function add in module simple:\n",
      "\n",
      "add(...) method of builtins.PyCapsule instance\n",
      "    add(arg0: float, arg1: float) -> float\n",
      "    \n",
      "    a compiled function\n",
      "\n"
     ]
    }
   ],
   "source": [
    "help(simple.add)"
   ]
  },
  {
   "cell_type": "code",
   "execution_count": null,
   "metadata": {
    "slideshow": {
     "slide_type": "slide"
    }
   },
   "outputs": [],
   "source": []
  }
 ],
 "metadata": {
  "celltoolbar": "Slideshow",
  "kernelspec": {
   "display_name": "Python 3",
   "language": "python",
   "name": "python3"
  },
  "language_info": {
   "codemirror_mode": {
    "name": "ipython",
    "version": 3
   },
   "file_extension": ".py",
   "mimetype": "text/x-python",
   "name": "python",
   "nbconvert_exporter": "python",
   "pygments_lexer": "ipython3",
   "version": "3.7.1"
  }
 },
 "nbformat": 4,
 "nbformat_minor": 2
}
