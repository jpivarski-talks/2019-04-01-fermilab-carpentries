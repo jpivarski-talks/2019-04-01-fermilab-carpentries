{
 "cells": [
  {
   "cell_type": "markdown",
   "metadata": {
    "slideshow": {
     "slide_type": "slide"
    }
   },
   "source": [
    "# Modern Python-C++ glue: pybind11"
   ]
  },
  {
   "cell_type": "markdown",
   "metadata": {
    "slideshow": {
     "slide_type": "slide"
    }
   },
   "source": [
    "There are many (_many_) ways to cross the boundary between Python and C++. ROOT provides the easiest: one `ROOT.gInterpreter.Declare` call creates a C++ function with all the Python ↔ C++ type conversions.\n",
    "\n",
    "However, it's not the best way to distribute a C++ project with a Python interface. The cleanest, simplest solution for that is pybind11."
   ]
  },
  {
   "cell_type": "markdown",
   "metadata": {
    "slideshow": {
     "slide_type": "slide"
    }
   },
   "source": [
    "pybind11 is a header-only C++ library: it needs to be on your compiler's `INCLUDE` path, but you don't need to link into any architecture-dependent library.\n",
    "\n",
    "If you've installed it with conda (so it's on the `INCLUDE` path), getting started is super simple."
   ]
  },
  {
   "cell_type": "code",
   "execution_count": null,
   "metadata": {},
   "outputs": [],
   "source": [
    "%%writefile simple.cpp\n",
    "#include<pybind11/pybind11.h>\n",
    "\n",
    "double add(double a, double b) {\n",
    "    return a + b;\n",
    "}\n",
    "\n",
    "PYBIND11_MODULE(simple, m) {\n",
    "    m.def(\"add\", &add, \"a compiled function\");\n",
    "}"
   ]
  },
  {
   "cell_type": "code",
   "execution_count": null,
   "metadata": {
    "slideshow": {
     "slide_type": "fragment"
    }
   },
   "outputs": [],
   "source": [
    "%%bash\n",
    "c++ -Wall -shared -std=c++11 -fPIC                 \\\n",
    "    `python -m pybind11 --includes` simple.cpp     \\\n",
    "    -o simple`python3-config --extension-suffix`"
   ]
  },
  {
   "cell_type": "code",
   "execution_count": null,
   "metadata": {
    "slideshow": {
     "slide_type": "slide"
    }
   },
   "outputs": [],
   "source": [
    "import simple\n",
    "simple.add(3, 4.5)"
   ]
  },
  {
   "cell_type": "code",
   "execution_count": null,
   "metadata": {
    "slideshow": {
     "slide_type": "fragment"
    }
   },
   "outputs": [],
   "source": [
    "help(simple.add)"
   ]
  },
  {
   "cell_type": "markdown",
   "metadata": {
    "slideshow": {
     "slide_type": "fragment"
    }
   },
   "source": [
    "Downside: you can't change the C++ without restarting Python. Even if you `importlib.reload`."
   ]
  },
  {
   "cell_type": "markdown",
   "metadata": {
    "slideshow": {
     "slide_type": "slide"
    }
   },
   "source": [
    "See the [pybind11 documentation](https://pybind11.readthedocs.io/en/stable/) for more.\n",
    "\n",
    "   * Compilation can be integrated into a standard Python `setup.py`.\n",
    "   * Natural mapping between C++ classes and Python classes (though it's manual, unlike PyROOT).\n",
    "   * Can implement a Pythonic interface in C++ without much effort (boilerplate): `*args` and `**kwargs` and the rest.\n",
    "   * Native support for Numpy arrays.\n",
    "   * Modern C++ features: containers, lambdas, smart pointers, move semantics.\n",
    "   * Ability to turn off Python's Global Interpreter Lock (GIL), which enables _real_ multithreading.\n",
    "\n",
    "I don't want to duplicate the documentation—I just want you to be aware that this library exists."
   ]
  }
 ],
 "metadata": {
  "celltoolbar": "Slideshow",
  "kernelspec": {
   "display_name": "Python 3",
   "language": "python",
   "name": "python3"
  },
  "language_info": {
   "codemirror_mode": {
    "name": "ipython",
    "version": 3
   },
   "file_extension": ".py",
   "mimetype": "text/x-python",
   "name": "python",
   "nbconvert_exporter": "python",
   "pygments_lexer": "ipython3",
   "version": "3.7.2"
  }
 },
 "nbformat": 4,
 "nbformat_minor": 2
}
