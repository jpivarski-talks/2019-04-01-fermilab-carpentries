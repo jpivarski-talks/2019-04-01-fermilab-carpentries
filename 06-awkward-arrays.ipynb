{
 "cells": [
  {
   "cell_type": "markdown",
   "metadata": {
    "slideshow": {
     "slide_type": "slide"
    }
   },
   "source": [
    "## Awkward arrays: jaggedness and more"
   ]
  },
  {
   "cell_type": "markdown",
   "metadata": {
    "slideshow": {
     "slide_type": "slide"
    }
   },
   "source": [
    "In [04-ttree-data-pyroot.ipynb](04-ttree-data-pyroot.ipynb), we saw some examples of jagged and object data. Uproot uses a package called \"awkward\" to deal with them.\n",
    "\n",
    "This section focuses on various kinds of awkward arrays and what you can do with them (including making them less awkward: into pure Numpy arrays!)."
   ]
  },
  {
   "cell_type": "markdown",
   "metadata": {
    "slideshow": {
     "slide_type": "slide"
    }
   },
   "source": [
    "Everything that comes out of uproot is a Numpy array, a `JaggedArray`, a `Table`, an `ObjectArray`, or some combination."
   ]
  },
  {
   "cell_type": "code",
   "execution_count": 1,
   "metadata": {},
   "outputs": [
    {
     "data": {
      "text/plain": [
       "<JaggedArray [[-52.89945602416992 37.7377815246582] [-0.8164593577384949] [48.987831115722656 0.8275666832923889] ... [-29.756786346435547] [1.1418697834014893] [23.913206100463867]] at 0x7f7d8788db38>"
      ]
     },
     "execution_count": 1,
     "metadata": {},
     "output_type": "execute_result"
    }
   ],
   "source": [
    "import uproot\n",
    "a = uproot.open(\"http://scikit-hep.org/uproot/examples/HZZ.root\")[\"events\"].array(\"Muon_Px\")\n",
    "a"
   ]
  },
  {
   "cell_type": "code",
   "execution_count": 2,
   "metadata": {},
   "outputs": [
    {
     "data": {
      "text/plain": [
       "awkward.array.jagged.JaggedArray"
      ]
     },
     "execution_count": 2,
     "metadata": {},
     "output_type": "execute_result"
    }
   ],
   "source": [
    "type(a)"
   ]
  },
  {
   "cell_type": "code",
   "execution_count": 3,
   "metadata": {},
   "outputs": [
    {
     "data": {
      "text/plain": [
       "numpy.ndarray"
      ]
     },
     "execution_count": 3,
     "metadata": {},
     "output_type": "execute_result"
    }
   ],
   "source": [
    "type(a.content)"
   ]
  },
  {
   "cell_type": "code",
   "execution_count": 4,
   "metadata": {
    "slideshow": {
     "slide_type": "slide"
    }
   },
   "outputs": [
    {
     "data": {
      "text/plain": [
       "<JaggedArrayMethods [[TLorentzVector(-52.899, -11.655, -8.1608, 54.779) TLorentzVector(37.738, 0.69347, -11.308, 39.402)] [TLorentzVector(-0.81646, -24.404, 20.2, 31.69)] [TLorentzVector(48.988, -21.723, 11.168, 54.74) TLorentzVector(0.82757, 29.801, 36.965, 47.489)] ... [TLorentzVector(-29.757, -15.304, -52.664, 62.395)] [TLorentzVector(1.1419, 63.61, 162.18, 174.21)] [TLorentzVector(23.913, -35.665, 54.719, 69.556)]] at 0x7f7d86598a20>"
      ]
     },
     "execution_count": 4,
     "metadata": {},
     "output_type": "execute_result"
    }
   ],
   "source": [
    "b = uproot.open(\"http://scikit-hep.org/uproot/examples/HZZ-objects.root\")[\"events\"].array(\"muonp4\")\n",
    "b"
   ]
  },
  {
   "cell_type": "code",
   "execution_count": 5,
   "metadata": {},
   "outputs": [
    {
     "data": {
      "text/plain": [
       "awkward.array.objects.JaggedArrayMethods"
      ]
     },
     "execution_count": 5,
     "metadata": {},
     "output_type": "execute_result"
    }
   ],
   "source": [
    "type(b)"
   ]
  },
  {
   "cell_type": "code",
   "execution_count": 6,
   "metadata": {},
   "outputs": [
    {
     "data": {
      "text/plain": [
       "awkward.array.objects.ObjectArrayMethods"
      ]
     },
     "execution_count": 6,
     "metadata": {},
     "output_type": "execute_result"
    }
   ],
   "source": [
    "type(b.content)"
   ]
  },
  {
   "cell_type": "code",
   "execution_count": 7,
   "metadata": {},
   "outputs": [
    {
     "data": {
      "text/plain": [
       "awkward.array.table.Table"
      ]
     },
     "execution_count": 7,
     "metadata": {},
     "output_type": "execute_result"
    }
   ],
   "source": [
    "type(b.content.content)"
   ]
  },
  {
   "cell_type": "code",
   "execution_count": 8,
   "metadata": {},
   "outputs": [
    {
     "data": {
      "text/plain": [
       "numpy.ndarray"
      ]
     },
     "execution_count": 8,
     "metadata": {},
     "output_type": "execute_result"
    }
   ],
   "source": [
    "type(b.content.content.contents[\"fX\"])"
   ]
  },
  {
   "cell_type": "markdown",
   "metadata": {
    "slideshow": {
     "slide_type": "slide"
    }
   },
   "source": [
    "If ROOT managed to \"split\" the objects into columns, then the data are in a columnar state: each attribute represented by a contiguous array."
   ]
  },
  {
   "cell_type": "code",
   "execution_count": 9,
   "metadata": {},
   "outputs": [
    {
     "data": {
      "text/plain": [
       "array([-52.89945602,  37.73778152,  -0.81645936, ..., -29.75678635,\n",
       "         1.14186978,  23.9132061 ])"
      ]
     },
     "execution_count": 9,
     "metadata": {},
     "output_type": "execute_result"
    }
   ],
   "source": [
    "b.content.content.contents[\"fX\"]"
   ]
  },
  {
   "cell_type": "code",
   "execution_count": 10,
   "metadata": {},
   "outputs": [
    {
     "data": {
      "text/plain": [
       "array([-11.65467167,   0.69347358, -24.40425873, ..., -15.30385876,\n",
       "        63.60956955, -35.66507721])"
      ]
     },
     "execution_count": 10,
     "metadata": {},
     "output_type": "execute_result"
    }
   ],
   "source": [
    "b.content.content.contents[\"fY\"]"
   ]
  },
  {
   "cell_type": "markdown",
   "metadata": {
    "slideshow": {
     "slide_type": "slide"
    }
   },
   "source": [
    "Even if the data are \"unsplit,\" they're presented as a bag of bytes and a Python function to interpret them, as an `ObjectArray`."
   ]
  },
  {
   "cell_type": "code",
   "execution_count": 11,
   "metadata": {},
   "outputs": [
    {
     "data": {
      "text/plain": [
       "<ObjectArray [<b'TH1F' b'hstat' 0x7f7d8446c188> <b'TH1F' b'hstat' 0x7f7d8446c4a8> <b'TH1F' b'hstat' 0x7f7d84489b38> ... <b'TH1F' b'hstat' 0x7f7d8656c138> <b'TH1F' b'hstat' 0x7f7d8781b1d8> <b'TH1F' b'hstat' 0x7f7d84489318>] at 0x7f7d84504320>"
      ]
     },
     "execution_count": 11,
     "metadata": {},
     "output_type": "execute_result"
    }
   ],
   "source": [
    "c = uproot.open(\"http://scikit-hep.org/uproot/examples/Event.root\")[\"T\"].array(\"fH\")\n",
    "c"
   ]
  },
  {
   "cell_type": "code",
   "execution_count": 12,
   "metadata": {},
   "outputs": [
    {
     "data": {
      "text/plain": [
       "<JaggedArray [[64 0 3 ... 0 0 0] [64 0 3 ... 0 0 0] [64 0 3 ... 0 0 0] ... [64 0 3 ... 0 0 0] [64 0 3 ... 0 0 0] [64 0 3 ... 0 0 0]] at 0x7f7d845040b8>"
      ]
     },
     "execution_count": 12,
     "metadata": {},
     "output_type": "execute_result"
    }
   ],
   "source": [
    "c.content     # bags of bytes, for each entry"
   ]
  },
  {
   "cell_type": "code",
   "execution_count": 13,
   "metadata": {},
   "outputs": [
    {
     "data": {
      "text/plain": [
       "TH1F"
      ]
     },
     "execution_count": 13,
     "metadata": {},
     "output_type": "execute_result"
    }
   ],
   "source": [
    "c.generator   # interpretation class"
   ]
  },
  {
   "cell_type": "code",
   "execution_count": 14,
   "metadata": {},
   "outputs": [
    {
     "name": "stdout",
     "output_type": "stream",
     "text": [
      "                0                                                           12.6\n",
      "                +--------------------------------------------------------------+\n",
      "[-inf, 0)    0  |                                                              |\n",
      "[0, 0.01)    10 |*************************************************             |\n",
      "[0.01, 0.02) 12 |***********************************************************   |\n",
      "[0.02, 0.03) 5  |*************************                                     |\n",
      "[0.03, 0.04) 6  |******************************                                |\n",
      "[0.04, 0.05) 5  |*************************                                     |\n",
      "[0.05, 0.06) 8  |***************************************                       |\n",
      "[0.06, 0.07) 7  |**********************************                            |\n",
      "[0.07, 0.08) 5  |*************************                                     |\n",
      "[0.08, 0.09) 4  |********************                                          |\n",
      "[0.09, 0.1)  2  |**********                                                    |\n",
      "[0.1, 0.11)  5  |*************************                                     |\n",
      "[0.11, 0.12) 5  |*************************                                     |\n",
      "[0.12, 0.13) 7  |**********************************                            |\n",
      "[0.13, 0.14) 2  |**********                                                    |\n",
      "[0.14, 0.15) 4  |********************                                          |\n",
      "[0.15, 0.16) 4  |********************                                          |\n",
      "[0.16, 0.17) 4  |********************                                          |\n",
      "[0.17, 0.18) 5  |*************************                                     |\n",
      "[0.18, 0.19) 4  |********************                                          |\n",
      "[0.19, 0.2)  5  |*************************                                     |\n",
      "[0.2, 0.21)  4  |********************                                          |\n",
      "[0.21, 0.22) 4  |********************                                          |\n",
      "[0.22, 0.23) 4  |********************                                          |\n",
      "[0.23, 0.24) 7  |**********************************                            |\n",
      "[0.24, 0.25) 3  |***************                                               |\n",
      "[0.25, 0.26) 4  |********************                                          |\n",
      "[0.26, 0.27) 7  |**********************************                            |\n",
      "[0.27, 0.28) 6  |******************************                                |\n",
      "[0.28, 0.29) 4  |********************                                          |\n",
      "[0.29, 0.3)  5  |*************************                                     |\n",
      "[0.3, 0.31)  5  |*************************                                     |\n",
      "[0.31, 0.32) 7  |**********************************                            |\n",
      "[0.32, 0.33) 2  |**********                                                    |\n",
      "[0.33, 0.34) 3  |***************                                               |\n",
      "[0.34, 0.35) 7  |**********************************                            |\n",
      "[0.35, 0.36) 8  |***************************************                       |\n",
      "[0.36, 0.37) 3  |***************                                               |\n",
      "[0.37, 0.38) 4  |********************                                          |\n",
      "[0.38, 0.39) 6  |******************************                                |\n",
      "[0.39, 0.4)  7  |**********************************                            |\n",
      "[0.4, 0.41)  9  |********************************************                  |\n",
      "[0.41, 0.42) 4  |********************                                          |\n",
      "[0.42, 0.43) 4  |********************                                          |\n",
      "[0.43, 0.44) 4  |********************                                          |\n",
      "[0.44, 0.45) 3  |***************                                               |\n",
      "[0.45, 0.46) 2  |**********                                                    |\n",
      "[0.46, 0.47) 3  |***************                                               |\n",
      "[0.47, 0.48) 5  |*************************                                     |\n",
      "[0.48, 0.49) 5  |*************************                                     |\n",
      "[0.49, 0.5)  4  |********************                                          |\n",
      "[0.5, 0.51)  6  |******************************                                |\n",
      "[0.51, 0.52) 3  |***************                                               |\n",
      "[0.52, 0.53) 5  |*************************                                     |\n",
      "[0.53, 0.54) 5  |*************************                                     |\n",
      "[0.54, 0.55) 9  |********************************************                  |\n",
      "[0.55, 0.56) 5  |*************************                                     |\n",
      "[0.56, 0.57) 5  |*************************                                     |\n",
      "[0.57, 0.58) 4  |********************                                          |\n",
      "[0.58, 0.59) 7  |**********************************                            |\n",
      "[0.59, 0.6)  7  |**********************************                            |\n",
      "[0.6, 0.61)  5  |*************************                                     |\n",
      "[0.61, 0.62) 4  |********************                                          |\n",
      "[0.62, 0.63) 6  |******************************                                |\n",
      "[0.63, 0.64) 2  |**********                                                    |\n",
      "[0.64, 0.65) 4  |********************                                          |\n",
      "[0.65, 0.66) 3  |***************                                               |\n",
      "[0.66, 0.67) 1  |*****                                                         |\n",
      "[0.67, 0.68) 8  |***************************************                       |\n",
      "[0.68, 0.69) 2  |**********                                                    |\n",
      "[0.69, 0.7)  1  |*****                                                         |\n",
      "[0.7, 0.71)  3  |***************                                               |\n",
      "[0.71, 0.72) 8  |***************************************                       |\n",
      "[0.72, 0.73) 6  |******************************                                |\n",
      "[0.73, 0.74) 7  |**********************************                            |\n",
      "[0.74, 0.75) 7  |**********************************                            |\n",
      "[0.75, 0.76) 9  |********************************************                  |\n",
      "[0.76, 0.77) 5  |*************************                                     |\n",
      "[0.77, 0.78) 4  |********************                                          |\n",
      "[0.78, 0.79) 4  |********************                                          |\n",
      "[0.79, 0.8)  5  |*************************                                     |\n",
      "[0.8, 0.81)  6  |******************************                                |\n",
      "[0.81, 0.82) 3  |***************                                               |\n",
      "[0.82, 0.83) 6  |******************************                                |\n",
      "[0.83, 0.84) 6  |******************************                                |\n",
      "[0.84, 0.85) 3  |***************                                               |\n",
      "[0.85, 0.86) 5  |*************************                                     |\n",
      "[0.86, 0.87) 2  |**********                                                    |\n",
      "[0.87, 0.88) 5  |*************************                                     |\n",
      "[0.88, 0.89) 4  |********************                                          |\n",
      "[0.89, 0.9)  1  |*****                                                         |\n",
      "[0.9, 0.91)  8  |***************************************                       |\n",
      "[0.91, 0.92) 3  |***************                                               |\n",
      "[0.92, 0.93) 2  |**********                                                    |\n",
      "[0.93, 0.94) 6  |******************************                                |\n",
      "[0.94, 0.95) 5  |*************************                                     |\n",
      "[0.95, 0.96) 8  |***************************************                       |\n",
      "[0.96, 0.97) 3  |***************                                               |\n",
      "[0.97, 0.98) 4  |********************                                          |\n",
      "[0.98, 0.99) 7  |**********************************                            |\n",
      "[0.99, 1)    12 |***********************************************************   |\n",
      "[1, inf]     0  |                                                              |\n",
      "                +--------------------------------------------------------------+\n"
     ]
    }
   ],
   "source": [
    "c[500].show()"
   ]
  },
  {
   "cell_type": "markdown",
   "metadata": {
    "slideshow": {
     "slide_type": "slide"
    }
   },
   "source": [
    "A `JaggedArray` is a list of unequal-sized sublists, encoded as a continuous array of `content` divided up by an array of `offsets`."
   ]
  },
  {
   "cell_type": "code",
   "execution_count": 15,
   "metadata": {},
   "outputs": [
    {
     "data": {
      "text/plain": [
       "<JaggedArray [[1.1 2.2 3.3] [] [4.4 5.5]] at 0x7f7d84477f28>"
      ]
     },
     "execution_count": 15,
     "metadata": {},
     "output_type": "execute_result"
    }
   ],
   "source": [
    "import awkward\n",
    "x = awkward.fromiter([[1.1, 2.2, 3.3], [], [4.4, 5.5]])\n",
    "x"
   ]
  },
  {
   "cell_type": "code",
   "execution_count": 16,
   "metadata": {},
   "outputs": [
    {
     "data": {
      "text/plain": [
       "array([1.1, 2.2, 3.3, 4.4, 5.5])"
      ]
     },
     "execution_count": 16,
     "metadata": {},
     "output_type": "execute_result"
    }
   ],
   "source": [
    "x.content"
   ]
  },
  {
   "cell_type": "code",
   "execution_count": 17,
   "metadata": {},
   "outputs": [
    {
     "data": {
      "text/plain": [
       "array([0, 3, 3, 5])"
      ]
     },
     "execution_count": 17,
     "metadata": {},
     "output_type": "execute_result"
    }
   ],
   "source": [
    "x.offsets"
   ]
  },
  {
   "cell_type": "markdown",
   "metadata": {
    "slideshow": {
     "slide_type": "slide"
    }
   },
   "source": [
    "A `Table` is an array of `Row` records, encoded as a continuous array of each column in its `contents` dict."
   ]
  },
  {
   "cell_type": "code",
   "execution_count": 18,
   "metadata": {},
   "outputs": [
    {
     "data": {
      "text/plain": [
       "<Table [<Row 0> <Row 1> <Row 2>] at 0x7f7d84477358>"
      ]
     },
     "execution_count": 18,
     "metadata": {},
     "output_type": "execute_result"
    }
   ],
   "source": [
    "x = awkward.fromiter([{\"x\": 1, \"y\": 1.1}, {\"x\": 2, \"y\": 2.2}, {\"x\": 3, \"y\": 3.3}])\n",
    "x"
   ]
  },
  {
   "cell_type": "code",
   "execution_count": 19,
   "metadata": {},
   "outputs": [
    {
     "data": {
      "text/plain": [
       "[{'x': 1, 'y': 1.1}, {'x': 2, 'y': 2.2}, {'x': 3, 'y': 3.3}]"
      ]
     },
     "execution_count": 19,
     "metadata": {},
     "output_type": "execute_result"
    }
   ],
   "source": [
    "x.tolist()"
   ]
  },
  {
   "cell_type": "code",
   "execution_count": 20,
   "metadata": {},
   "outputs": [
    {
     "data": {
      "text/plain": [
       "array([1, 2, 3])"
      ]
     },
     "execution_count": 20,
     "metadata": {},
     "output_type": "execute_result"
    }
   ],
   "source": [
    "x.contents[\"x\"]"
   ]
  },
  {
   "cell_type": "code",
   "execution_count": 21,
   "metadata": {},
   "outputs": [
    {
     "data": {
      "text/plain": [
       "array([1.1, 2.2, 3.3])"
      ]
     },
     "execution_count": 21,
     "metadata": {},
     "output_type": "execute_result"
    }
   ],
   "source": [
    "x.contents[\"y\"]"
   ]
  },
  {
   "cell_type": "markdown",
   "metadata": {
    "slideshow": {
     "slide_type": "slide"
    }
   },
   "source": [
    "An `ObjectArray` is a virtual array of objects, represented by some array `content` and a `generator` that creates each object on demand."
   ]
  },
  {
   "cell_type": "code",
   "execution_count": 22,
   "metadata": {},
   "outputs": [
    {
     "data": {
      "text/plain": [
       "<ObjectArray [Point(1, 1.1) Point(2, 2.2) Point(3, 3.3)] at 0x7f7d844771d0>"
      ]
     },
     "execution_count": 22,
     "metadata": {},
     "output_type": "execute_result"
    }
   ],
   "source": [
    "class Point:\n",
    "    def __init__(self, x, y):\n",
    "        self.x = x\n",
    "        self.y = y\n",
    "    def __repr__(self):\n",
    "        return \"Point({0}, {1})\".format(self.x, self.y)\n",
    "\n",
    "x = awkward.fromiter([Point(1, 1.1), Point(2, 2.2), Point(3, 3.3)])\n",
    "x"
   ]
  },
  {
   "cell_type": "code",
   "execution_count": 23,
   "metadata": {},
   "outputs": [
    {
     "data": {
      "text/plain": [
       "<Table [<Row 0> <Row 1> <Row 2>] at 0x7f7d84512940>"
      ]
     },
     "execution_count": 23,
     "metadata": {},
     "output_type": "execute_result"
    }
   ],
   "source": [
    "x.content"
   ]
  },
  {
   "cell_type": "code",
   "execution_count": 24,
   "metadata": {},
   "outputs": [
    {
     "data": {
      "text/plain": [
       "array([1, 2, 3])"
      ]
     },
     "execution_count": 24,
     "metadata": {},
     "output_type": "execute_result"
    }
   ],
   "source": [
    "x.content.contents[\"x\"]"
   ]
  },
  {
   "cell_type": "code",
   "execution_count": 25,
   "metadata": {},
   "outputs": [
    {
     "data": {
      "text/plain": [
       "array([1.1, 2.2, 3.3])"
      ]
     },
     "execution_count": 25,
     "metadata": {},
     "output_type": "execute_result"
    }
   ],
   "source": [
    "x.content.contents[\"y\"]"
   ]
  },
  {
   "cell_type": "markdown",
   "metadata": {
    "slideshow": {
     "slide_type": "slide"
    }
   },
   "source": [
    "## Jagged operations\n",
    "\n",
    "As much as possible, awkward arrays act like Numpy arrays."
   ]
  },
  {
   "cell_type": "code",
   "execution_count": 26,
   "metadata": {},
   "outputs": [
    {
     "data": {
      "text/plain": [
       "<JaggedArray [[1.1 2.2 3.3 4.4] [5.5 6.6] [7.7 8.8 9.9]] at 0x7f7d84512c18>"
      ]
     },
     "execution_count": 26,
     "metadata": {},
     "output_type": "execute_result"
    }
   ],
   "source": [
    "x = awkward.fromiter([[1.1, 2.2, 3.3, 4.4], [5.5, 6.6], [7.7, 8.8, 9.9]])\n",
    "x"
   ]
  },
  {
   "cell_type": "code",
   "execution_count": 27,
   "metadata": {},
   "outputs": [
    {
     "data": {
      "text/plain": [
       "<JaggedArray [[1.1 2.2 3.3 4.4] [5.5 6.6]] at 0x7f7d845120b8>"
      ]
     },
     "execution_count": 27,
     "metadata": {},
     "output_type": "execute_result"
    }
   ],
   "source": [
    "# take the first two inner lists\n",
    "x[:2]"
   ]
  },
  {
   "cell_type": "code",
   "execution_count": 28,
   "metadata": {},
   "outputs": [
    {
     "data": {
      "text/plain": [
       "<JaggedArray [[1.1 2.2] [5.5 6.6] [7.7 8.8]] at 0x7f7d84512048>"
      ]
     },
     "execution_count": 28,
     "metadata": {},
     "output_type": "execute_result"
    }
   ],
   "source": [
    "# take the first two numbers in each inner list\n",
    "x[:, :2]"
   ]
  },
  {
   "cell_type": "code",
   "execution_count": 29,
   "metadata": {
    "slideshow": {
     "slide_type": "fragment"
    }
   },
   "outputs": [
    {
     "data": {
      "text/plain": [
       "<JaggedArray [[1.1 2.2 3.3 4.4] [7.7 8.8 9.9]] at 0x7f7d84468240>"
      ]
     },
     "execution_count": 29,
     "metadata": {},
     "output_type": "execute_result"
    }
   ],
   "source": [
    "# mask outer lists\n",
    "x[[True, False, True]]"
   ]
  },
  {
   "cell_type": "code",
   "execution_count": 30,
   "metadata": {},
   "outputs": [
    {
     "data": {
      "text/plain": [
       "<JaggedArray [[1.1 3.3] [6.6] [7.7 8.8]] at 0x7f7d84468470>"
      ]
     },
     "execution_count": 30,
     "metadata": {},
     "output_type": "execute_result"
    }
   ],
   "source": [
    "# mask inner lists\n",
    "x[awkward.fromiter([[True, False, True, False], [False, True], [True, True, False]])]"
   ]
  },
  {
   "cell_type": "markdown",
   "metadata": {
    "slideshow": {
     "slide_type": "slide"
    }
   },
   "source": [
    "Reductions (min, max, sum, ...) turn Numpy arrays into scalars and jagged arrays into flat Numpy arrays."
   ]
  },
  {
   "cell_type": "code",
   "execution_count": 31,
   "metadata": {},
   "outputs": [
    {
     "data": {
      "text/plain": [
       "<JaggedArray [[1.1 2.2 3.3 4.4] [5.5 6.6] [7.7 8.8 9.9]] at 0x7f7d84512c18>"
      ]
     },
     "execution_count": 31,
     "metadata": {},
     "output_type": "execute_result"
    }
   ],
   "source": [
    "x"
   ]
  },
  {
   "cell_type": "code",
   "execution_count": 32,
   "metadata": {},
   "outputs": [
    {
     "data": {
      "text/plain": [
       "array([1.1, 5.5, 7.7])"
      ]
     },
     "execution_count": 32,
     "metadata": {},
     "output_type": "execute_result"
    }
   ],
   "source": [
    "x.min()"
   ]
  },
  {
   "cell_type": "code",
   "execution_count": 33,
   "metadata": {},
   "outputs": [
    {
     "data": {
      "text/plain": [
       "array([4.4, 6.6, 9.9])"
      ]
     },
     "execution_count": 33,
     "metadata": {},
     "output_type": "execute_result"
    }
   ],
   "source": [
    "x.max()"
   ]
  },
  {
   "cell_type": "markdown",
   "metadata": {
    "slideshow": {
     "slide_type": "fragment"
    }
   },
   "source": [
    "Empty sublists return the identity of the reduction operation's group. (Group theory \"group.\")"
   ]
  },
  {
   "cell_type": "code",
   "execution_count": 34,
   "metadata": {},
   "outputs": [
    {
     "data": {
      "text/plain": [
       "<JaggedArray [[1.1 2.2 3.3] [] [4.4 5.5]] at 0x7f7d845127f0>"
      ]
     },
     "execution_count": 34,
     "metadata": {},
     "output_type": "execute_result"
    }
   ],
   "source": [
    "x = awkward.fromiter([[1.1, 2.2, 3.3], [], [4.4, 5.5]])\n",
    "x"
   ]
  },
  {
   "cell_type": "code",
   "execution_count": 35,
   "metadata": {},
   "outputs": [
    {
     "data": {
      "text/plain": [
       "array([6.6, 0. , 9.9])"
      ]
     },
     "execution_count": 35,
     "metadata": {},
     "output_type": "execute_result"
    }
   ],
   "source": [
    "x.sum()"
   ]
  },
  {
   "cell_type": "code",
   "execution_count": 36,
   "metadata": {},
   "outputs": [
    {
     "data": {
      "text/plain": [
       "array([ 3.3, -inf,  5.5])"
      ]
     },
     "execution_count": 36,
     "metadata": {},
     "output_type": "execute_result"
    }
   ],
   "source": [
    "x.max()    # what's the identity of max? of min?"
   ]
  },
  {
   "cell_type": "markdown",
   "metadata": {
    "slideshow": {
     "slide_type": "slide"
    }
   },
   "source": [
    "There's also an equivalent of `argmin/argmax` that returns jagged arrays of indexes."
   ]
  },
  {
   "cell_type": "code",
   "execution_count": 37,
   "metadata": {},
   "outputs": [
    {
     "data": {
      "text/plain": [
       "<JaggedArray [[1.1 2.2 3.3] [] [4.4 5.5]] at 0x7f7d84477ef0>"
      ]
     },
     "execution_count": 37,
     "metadata": {},
     "output_type": "execute_result"
    }
   ],
   "source": [
    "x = awkward.fromiter([[1.1, 2.2, 3.3], [], [4.4, 5.5]])\n",
    "x"
   ]
  },
  {
   "cell_type": "code",
   "execution_count": 38,
   "metadata": {},
   "outputs": [
    {
     "data": {
      "text/plain": [
       "<JaggedArray [[2] [] [1]] at 0x7f7d8658ac88>"
      ]
     },
     "execution_count": 38,
     "metadata": {},
     "output_type": "execute_result"
    }
   ],
   "source": [
    "indexes = x.argmax()\n",
    "indexes"
   ]
  },
  {
   "cell_type": "markdown",
   "metadata": {
    "slideshow": {
     "slide_type": "fragment"
    }
   },
   "source": [
    "What's this useful for? Maximizing by one attribute and applying to another."
   ]
  },
  {
   "cell_type": "code",
   "execution_count": 39,
   "metadata": {},
   "outputs": [
    {
     "data": {
      "text/plain": [
       "<JaggedArray [[300 200 100] [] [500 400]] at 0x7f7d845040f0>"
      ]
     },
     "execution_count": 39,
     "metadata": {},
     "output_type": "execute_result"
    }
   ],
   "source": [
    "y = awkward.fromiter([[300, 200, 100], [], [500, 400]])\n",
    "y"
   ]
  },
  {
   "cell_type": "code",
   "execution_count": 40,
   "metadata": {},
   "outputs": [
    {
     "data": {
      "text/plain": [
       "<JaggedArray [[100] [] [400]] at 0x7f7d84504ac8>"
      ]
     },
     "execution_count": 40,
     "metadata": {},
     "output_type": "execute_result"
    }
   ],
   "source": [
    "y[indexes]"
   ]
  },
  {
   "cell_type": "markdown",
   "metadata": {
    "slideshow": {
     "slide_type": "fragment"
    }
   },
   "source": [
    "In Numpy, selecting elements by an array of indexes is called \"fancy indexing.\""
   ]
  },
  {
   "cell_type": "markdown",
   "metadata": {
    "slideshow": {
     "slide_type": "slide"
    }
   },
   "source": [
    "Numpy's \"universal functions\" can be applied to awkward arrays. They apply element-by-element and maintain structure."
   ]
  },
  {
   "cell_type": "code",
   "execution_count": 41,
   "metadata": {},
   "outputs": [
    {
     "data": {
      "text/plain": [
       "<JaggedArray [[1.1 2.2 3.3] [] [4.4 5.5]] at 0x7f7d84477ef0>"
      ]
     },
     "execution_count": 41,
     "metadata": {},
     "output_type": "execute_result"
    }
   ],
   "source": [
    "x"
   ]
  },
  {
   "cell_type": "code",
   "execution_count": 42,
   "metadata": {},
   "outputs": [
    {
     "data": {
      "text/plain": [
       "<JaggedArray [[1.0488088481701516 1.4832396974191326 1.816590212458495] [] [2.0976176963403033 2.345207879911715]] at 0x7f7d84504d30>"
      ]
     },
     "execution_count": 42,
     "metadata": {},
     "output_type": "execute_result"
    }
   ],
   "source": [
    "import numpy\n",
    "numpy.sqrt(x)"
   ]
  },
  {
   "cell_type": "markdown",
   "metadata": {
    "slideshow": {
     "slide_type": "fragment"
    }
   },
   "source": [
    "This allows us to compute things with awkward arrays as we would Numpy arrays—as long as the structure matches."
   ]
  },
  {
   "cell_type": "code",
   "execution_count": 43,
   "metadata": {},
   "outputs": [
    {
     "data": {
      "text/plain": [
       "<JaggedArray [[90001.1 40002.2 10003.3] [] [250004.4 160005.5]] at 0x7f7d84504470>"
      ]
     },
     "execution_count": 43,
     "metadata": {},
     "output_type": "execute_result"
    }
   ],
   "source": [
    "x + y**2"
   ]
  },
  {
   "cell_type": "markdown",
   "metadata": {
    "slideshow": {
     "slide_type": "slide"
    }
   },
   "source": [
    "This is how all Lorentz vector methods are implemented: array-by-array operations."
   ]
  },
  {
   "cell_type": "code",
   "execution_count": 44,
   "metadata": {},
   "outputs": [
    {
     "data": {
      "text/plain": [
       "<JaggedArrayMethods [[TLorentzVector(-52.899, -11.655, -8.1608, 54.779) TLorentzVector(37.738, 0.69347, -11.308, 39.402)] [TLorentzVector(-0.81646, -24.404, 20.2, 31.69)] [TLorentzVector(48.988, -21.723, 11.168, 54.74) TLorentzVector(0.82757, 29.801, 36.965, 47.489)] ... [TLorentzVector(-29.757, -15.304, -52.664, 62.395)] [TLorentzVector(1.1419, 63.61, 162.18, 174.21)] [TLorentzVector(23.913, -35.665, 54.719, 69.556)]] at 0x7f7d86598a20>"
      ]
     },
     "execution_count": 44,
     "metadata": {},
     "output_type": "execute_result"
    }
   ],
   "source": [
    "b    # a JaggedArray of TLorentzVector objects that also has TLorentzVector methods"
   ]
  },
  {
   "cell_type": "code",
   "execution_count": 45,
   "metadata": {},
   "outputs": [
    {
     "data": {
      "text/plain": [
       "<JaggedArray [[54.16810703140204 37.74415265978988] [24.41791248135961] [53.58826697278532 29.811997139120674] ... [33.461536523629654] [63.619817705512375] [42.93994828083644]] at 0x7f7d84553358>"
      ]
     },
     "execution_count": 45,
     "metadata": {},
     "output_type": "execute_result"
    }
   ],
   "source": [
    "b.pt"
   ]
  },
  {
   "cell_type": "markdown",
   "metadata": {
    "slideshow": {
     "slide_type": "fragment"
    }
   },
   "source": [
    "The `.pt` is a property implemented as"
   ]
  },
  {
   "cell_type": "code",
   "execution_count": 46,
   "metadata": {},
   "outputs": [
    {
     "data": {
      "text/plain": [
       "<JaggedArray [[54.16810703140204 37.74415265978988] [24.41791248135961] [53.58826697278532 29.811997139120674] ... [33.461536523629654] [63.619817705512375] [42.93994828083644]] at 0x7f7d84553f28>"
      ]
     },
     "execution_count": 46,
     "metadata": {},
     "output_type": "execute_result"
    }
   ],
   "source": [
    "numpy.sqrt(b[\"fX\"]**2 + b[\"fY\"]**2)"
   ]
  },
  {
   "cell_type": "markdown",
   "metadata": {
    "slideshow": {
     "slide_type": "slide"
    }
   },
   "source": [
    "**Physics case:** add the first and second muon of each event to get Z masses."
   ]
  },
  {
   "cell_type": "code",
   "execution_count": 47,
   "metadata": {
    "collapsed": true
   },
   "outputs": [
    {
     "ename": "IndexError",
     "evalue": "index 0 is out of bounds for jagged min size 0",
     "output_type": "error",
     "traceback": [
      "\u001b[0;31m---------------------------------------------------------------------------\u001b[0m",
      "\u001b[0;31mIndexError\u001b[0m                                Traceback (most recent call last)",
      "\u001b[0;32m<ipython-input-47-f064c316a811>\u001b[0m in \u001b[0;36m<module>\u001b[0;34m\u001b[0m\n\u001b[0;32m----> 1\u001b[0;31m \u001b[0mfirst\u001b[0m \u001b[0;34m=\u001b[0m \u001b[0mb\u001b[0m\u001b[0;34m[\u001b[0m\u001b[0;34m:\u001b[0m\u001b[0;34m,\u001b[0m \u001b[0;36m0\u001b[0m\u001b[0;34m]\u001b[0m\u001b[0;34m\u001b[0m\u001b[0;34m\u001b[0m\u001b[0m\n\u001b[0m\u001b[1;32m      2\u001b[0m \u001b[0msecond\u001b[0m \u001b[0;34m=\u001b[0m \u001b[0mb\u001b[0m\u001b[0;34m[\u001b[0m\u001b[0;34m:\u001b[0m\u001b[0;34m,\u001b[0m \u001b[0;36m0\u001b[0m\u001b[0;34m]\u001b[0m\u001b[0;34m\u001b[0m\u001b[0;34m\u001b[0m\u001b[0m\n",
      "\u001b[0;32m~/miniconda3/lib/python3.7/site-packages/awkward-0.8.14-py3.7.egg/awkward/array/jagged.py\u001b[0m in \u001b[0;36m__getitem__\u001b[0;34m(self, where)\u001b[0m\n\u001b[1;32m    596\u001b[0m                     \u001b[0mhead\u001b[0m \u001b[0;34m=\u001b[0m \u001b[0mcounts\u001b[0m \u001b[0;34m+\u001b[0m \u001b[0mhead\u001b[0m\u001b[0;34m\u001b[0m\u001b[0;34m\u001b[0m\u001b[0m\n\u001b[1;32m    597\u001b[0m                 \u001b[0;32mif\u001b[0m \u001b[0;32mnot\u001b[0m \u001b[0mself\u001b[0m\u001b[0;34m.\u001b[0m\u001b[0mnumpy\u001b[0m\u001b[0;34m.\u001b[0m\u001b[0mbitwise_and\u001b[0m\u001b[0;34m(\u001b[0m\u001b[0;36m0\u001b[0m \u001b[0;34m<=\u001b[0m \u001b[0mhead\u001b[0m\u001b[0;34m,\u001b[0m \u001b[0mhead\u001b[0m \u001b[0;34m<\u001b[0m \u001b[0mcounts\u001b[0m\u001b[0;34m)\u001b[0m\u001b[0;34m.\u001b[0m\u001b[0mall\u001b[0m\u001b[0;34m(\u001b[0m\u001b[0;34m)\u001b[0m\u001b[0;34m:\u001b[0m\u001b[0;34m\u001b[0m\u001b[0;34m\u001b[0m\u001b[0m\n\u001b[0;32m--> 598\u001b[0;31m                     \u001b[0;32mraise\u001b[0m \u001b[0mIndexError\u001b[0m\u001b[0;34m(\u001b[0m\u001b[0;34m\"index {0} is out of bounds for jagged min size {1}\"\u001b[0m\u001b[0;34m.\u001b[0m\u001b[0mformat\u001b[0m\u001b[0;34m(\u001b[0m\u001b[0moriginal_head\u001b[0m\u001b[0;34m,\u001b[0m \u001b[0mcounts\u001b[0m\u001b[0;34m.\u001b[0m\u001b[0mmin\u001b[0m\u001b[0;34m(\u001b[0m\u001b[0;34m)\u001b[0m\u001b[0;34m)\u001b[0m\u001b[0;34m)\u001b[0m\u001b[0;34m\u001b[0m\u001b[0;34m\u001b[0m\u001b[0m\n\u001b[0m\u001b[1;32m    599\u001b[0m                 \u001b[0mnode\u001b[0m \u001b[0;34m=\u001b[0m \u001b[0mnode\u001b[0m\u001b[0;34m.\u001b[0m\u001b[0m_content\u001b[0m\u001b[0;34m[\u001b[0m\u001b[0mnode\u001b[0m\u001b[0;34m.\u001b[0m\u001b[0m_starts\u001b[0m \u001b[0;34m+\u001b[0m \u001b[0mhead\u001b[0m\u001b[0;34m]\u001b[0m\u001b[0;34m\u001b[0m\u001b[0;34m\u001b[0m\u001b[0m\n\u001b[1;32m    600\u001b[0m \u001b[0;34m\u001b[0m\u001b[0m\n",
      "\u001b[0;31mIndexError\u001b[0m: index 0 is out of bounds for jagged min size 0"
     ]
    }
   ],
   "source": [
    "first = b[:, 0]\n",
    "second = b[:, 0]"
   ]
  },
  {
   "cell_type": "code",
   "execution_count": 48,
   "metadata": {
    "slideshow": {
     "slide_type": "fragment"
    }
   },
   "outputs": [
    {
     "data": {
      "text/plain": [
       "array([ True, False,  True, ..., False, False, False])"
      ]
     },
     "execution_count": 48,
     "metadata": {},
     "output_type": "execute_result"
    }
   ],
   "source": [
    "hastwo = (b.counts >= 2)\n",
    "hastwo"
   ]
  },
  {
   "cell_type": "code",
   "execution_count": 49,
   "metadata": {},
   "outputs": [
    {
     "data": {
      "text/plain": [
       "<ObjectArrayMethods [TLorentzVector(-52.899, -11.655, -8.1608, 54.779) TLorentzVector(48.988, -21.723, 11.168, 54.74) TLorentzVector(22.088, -85.835, 403.85, 413.46) ... TLorentzVector(53.006, -24.486, 13.952, 60.032) TLorentzVector(55.72, 26.37, -24.588, 66.368) TLorentzVector(34.507, 28.84, -150.66, 157.23)] at 0x7f7d84504860>"
      ]
     },
     "execution_count": 49,
     "metadata": {},
     "output_type": "execute_result"
    }
   ],
   "source": [
    "first = b[hastwo, 0]\n",
    "second = b[hastwo, 1]\n",
    "first                    # an ObjectArray with TLorentzVector methods, but no longer jagged"
   ]
  },
  {
   "cell_type": "code",
   "execution_count": 50,
   "metadata": {
    "slideshow": {
     "slide_type": "fragment"
    }
   },
   "outputs": [
    {
     "data": {
      "text/plain": [
       "array([90.22779777, 74.74654928, 89.75736376, ..., 92.06495256,\n",
       "       85.44384208, 75.96066262])"
      ]
     },
     "execution_count": 50,
     "metadata": {},
     "output_type": "execute_result"
    }
   ],
   "source": [
    "(first + second).mass"
   ]
  },
  {
   "cell_type": "code",
   "execution_count": 51,
   "metadata": {
    "slideshow": {
     "slide_type": "slide"
    }
   },
   "outputs": [],
   "source": [
    "%matplotlib inline"
   ]
  },
  {
   "cell_type": "code",
   "execution_count": 52,
   "metadata": {},
   "outputs": [
    {
     "data": {
      "image/png": "[encoded data removed]",
      "text/plain": [
       "<Figure size 432x288 with 1 Axes>"
      ]
     },
     "metadata": {
      "needs_background": "light"
     },
     "output_type": "display_data"
    }
   ],
   "source": [
    "import matplotlib.pyplot\n",
    "matplotlib.pyplot.hist((first + second).mass, 100);"
   ]
  },
  {
   "cell_type": "markdown",
   "metadata": {
    "slideshow": {
     "slide_type": "slide"
    }
   },
   "source": [
    "As more analysis groups use awkward arrays, we add more functions for dealing with complex cases."
   ]
  },
  {
   "cell_type": "code",
   "execution_count": 53,
   "metadata": {
    "slideshow": {
     "slide_type": "fragment"
    }
   },
   "outputs": [
    {
     "data": {
      "text/plain": [
       "<JaggedArray [[1.1 2.2 3.3 4.4 5.5] [] [6.6 7.7 8.8]] at 0x7f7d480d5eb8>"
      ]
     },
     "execution_count": 53,
     "metadata": {},
     "output_type": "execute_result"
    }
   ],
   "source": [
    "x = awkward.fromiter([[1.1, 2.2, 3.3, 4.4, 5.5], [], [6.6, 7.7, 8.8]])\n",
    "x"
   ]
  },
  {
   "cell_type": "code",
   "execution_count": 54,
   "metadata": {},
   "outputs": [
    {
     "data": {
      "text/plain": [
       "<JaggedArray [[1.1 2.2 3.3 4.4 5.5] [None None None None] [6.6 7.7 8.8 None]] at 0x7f7d4812dd68>"
      ]
     },
     "execution_count": 54,
     "metadata": {},
     "output_type": "execute_result"
    }
   ],
   "source": [
    "x.pad(4)                                     # ensure at least two elements"
   ]
  },
  {
   "cell_type": "code",
   "execution_count": 55,
   "metadata": {
    "slideshow": {
     "slide_type": "fragment"
    }
   },
   "outputs": [
    {
     "data": {
      "text/plain": [
       "<JaggedArray [[1.1 2.2 3.3 4.4] [None None None None] [6.6 7.7 8.8 None]] at 0x7f7d4816a390>"
      ]
     },
     "execution_count": 55,
     "metadata": {},
     "output_type": "execute_result"
    }
   ],
   "source": [
    "x.pad(4, clip=True)                          # exactly two elements"
   ]
  },
  {
   "cell_type": "code",
   "execution_count": 56,
   "metadata": {
    "slideshow": {
     "slide_type": "fragment"
    }
   },
   "outputs": [
    {
     "data": {
      "text/plain": [
       "<JaggedArray [[1.1 2.2 3.3 4.4] [-1000.0 -1000.0 -1000.0 -1000.0] [6.6 7.7 8.8 -1000.0]] at 0x7f7d84504518>"
      ]
     },
     "execution_count": 56,
     "metadata": {},
     "output_type": "execute_result"
    }
   ],
   "source": [
    "x.pad(4, clip=True).fillna(-1000)            # turn \"None\" into -1000"
   ]
  },
  {
   "cell_type": "code",
   "execution_count": 57,
   "metadata": {
    "slideshow": {
     "slide_type": "fragment"
    }
   },
   "outputs": [
    {
     "data": {
      "text/plain": [
       "array([[    1.1,     2.2,     3.3,     4.4],\n",
       "       [-1000. , -1000. , -1000. , -1000. ],\n",
       "       [    6.6,     7.7,     8.8, -1000. ]])"
      ]
     },
     "execution_count": 57,
     "metadata": {},
     "output_type": "execute_result"
    }
   ],
   "source": [
    "x.pad(4, clip=True).fillna(-1000).regular()  # and make it a plain 'ol Numpy array"
   ]
  },
  {
   "cell_type": "code",
   "execution_count": 58,
   "metadata": {
    "slideshow": {
     "slide_type": "slide"
    }
   },
   "outputs": [
    {
     "data": {
      "text/plain": [
       "<JaggedArray [[1.1 2.2 3.3 4.4 5.5] [] [6.6 7.7 8.8]] at 0x7f7d480d5eb8>"
      ]
     },
     "execution_count": 58,
     "metadata": {},
     "output_type": "execute_result"
    }
   ],
   "source": [
    "x"
   ]
  },
  {
   "cell_type": "code",
   "execution_count": 59,
   "metadata": {},
   "outputs": [
    {
     "data": {
      "text/plain": [
       "<JaggedArray [[100 200] [300] [400 500]] at 0x7f7d480842b0>"
      ]
     },
     "execution_count": 59,
     "metadata": {},
     "output_type": "execute_result"
    }
   ],
   "source": [
    "y = awkward.fromiter([[100, 200], [300], [400, 500]])\n",
    "y"
   ]
  },
  {
   "cell_type": "code",
   "execution_count": 60,
   "metadata": {},
   "outputs": [
    {
     "data": {
      "text/plain": [
       "<JaggedArray [[1.1 2.2 3.3 4.4 5.5] [] [6.6 7.7 8.8] [100.0 200.0] [300.0] [400.0 500.0]] at 0x7f7d48084390>"
      ]
     },
     "execution_count": 60,
     "metadata": {},
     "output_type": "execute_result"
    }
   ],
   "source": [
    "awkward.JaggedArray.concatenate([x, y])"
   ]
  },
  {
   "cell_type": "code",
   "execution_count": 61,
   "metadata": {
    "slideshow": {
     "slide_type": "fragment"
    }
   },
   "outputs": [
    {
     "data": {
      "text/plain": [
       "<JaggedArray [[1.1 2.2 3.3 ... 5.5 100.0 200.0] [300.0] [6.6 7.7 8.8 400.0 500.0]] at 0x7f7d480f31d0>"
      ]
     },
     "execution_count": 61,
     "metadata": {},
     "output_type": "execute_result"
    }
   ],
   "source": [
    "awkward.JaggedArray.concatenate([x, y], axis=1)"
   ]
  },
  {
   "cell_type": "markdown",
   "metadata": {
    "slideshow": {
     "slide_type": "slide"
    }
   },
   "source": [
    "Combinatorics: emulating nested \"for\" loops."
   ]
  },
  {
   "cell_type": "code",
   "execution_count": 62,
   "metadata": {},
   "outputs": [],
   "source": [
    "x = awkward.fromiter([[1.1, 2.2, 3.3], [], [4.4, 5.5]])\n",
    "y = awkward.fromiter([[10, 20], [30], [40]])"
   ]
  },
  {
   "cell_type": "code",
   "execution_count": 63,
   "metadata": {},
   "outputs": [
    {
     "data": {
      "text/plain": [
       "<JaggedArray [[(1.1, 10) (1.1, 20) (2.2, 10) (2.2, 20) (3.3, 10) (3.3, 20)] [] [(4.4, 40) (5.5, 40)]] at 0x7f7d48084c88>"
      ]
     },
     "execution_count": 63,
     "metadata": {},
     "output_type": "execute_result"
    }
   ],
   "source": [
    "z = x.cross(y)\n",
    "z"
   ]
  },
  {
   "cell_type": "code",
   "execution_count": 64,
   "metadata": {},
   "outputs": [
    {
     "data": {
      "text/plain": [
       "<JaggedArray [[1.1 1.1 2.2 2.2 3.3 3.3] [] [4.4 5.5]] at 0x7f7d48084fd0>"
      ]
     },
     "execution_count": 64,
     "metadata": {},
     "output_type": "execute_result"
    }
   ],
   "source": [
    "z.i0"
   ]
  },
  {
   "cell_type": "code",
   "execution_count": 65,
   "metadata": {},
   "outputs": [
    {
     "data": {
      "text/plain": [
       "<JaggedArray [[10 20 10 20 10 20] [] [40 40]] at 0x7f7d4809a358>"
      ]
     },
     "execution_count": 65,
     "metadata": {},
     "output_type": "execute_result"
    }
   ],
   "source": [
    "z.i1"
   ]
  },
  {
   "cell_type": "markdown",
   "metadata": {
    "slideshow": {
     "slide_type": "slide"
    }
   },
   "source": [
    "Using combinatorics to do the Z peak better: use all muons, not just the first two."
   ]
  },
  {
   "cell_type": "code",
   "execution_count": 66,
   "metadata": {},
   "outputs": [
    {
     "data": {
      "text/plain": [
       "<JaggedArrayMethods [[TLorentzVector(-52.899, -11.655, -8.1608, 54.779) TLorentzVector(37.738, 0.69347, -11.308, 39.402)] [TLorentzVector(-0.81646, -24.404, 20.2, 31.69)] [TLorentzVector(48.988, -21.723, 11.168, 54.74) TLorentzVector(0.82757, 29.801, 36.965, 47.489)] ... [TLorentzVector(-29.757, -15.304, -52.664, 62.395)] [TLorentzVector(1.1419, 63.61, 162.18, 174.21)] [TLorentzVector(23.913, -35.665, 54.719, 69.556)]] at 0x7f7d86598a20>"
      ]
     },
     "execution_count": 66,
     "metadata": {},
     "output_type": "execute_result"
    }
   ],
   "source": [
    "b"
   ]
  },
  {
   "cell_type": "code",
   "execution_count": 67,
   "metadata": {},
   "outputs": [
    {
     "name": "stderr",
     "output_type": "stream",
     "text": [
      "/home/pivarski/miniconda3/lib/python3.7/site-packages/uproot_methods-0.4.5-py3.7.egg/uproot_methods/classes/TLorentzVector.py:206: RuntimeWarning: invalid value encountered in sqrt\n",
      "  return self._trymemo(\"mass\", lambda self: self.awkward.numpy.sqrt(self.mag2))\n"
     ]
    },
    {
     "data": {
      "text/plain": [
       "<JaggedArray [[0.2111859748287381 90.22779776988638 90.22779776988638 0.21090494082084574] [0.210998480800626] [0.21392618221202328 74.74654928040661 74.74654928040661 0.2102757625673823] ... [0.2108764933349408] [0.1950119912345726] [0.20894448339535043]] at 0x7f7d4809ada0>"
      ]
     },
     "execution_count": 67,
     "metadata": {},
     "output_type": "execute_result"
    }
   ],
   "source": [
    "pairs = b.cross(b)\n",
    "(pairs.i0 + pairs.i1).mass"
   ]
  },
  {
   "cell_type": "markdown",
   "metadata": {
    "slideshow": {
     "slide_type": "fragment"
    }
   },
   "source": [
    "Why are some masses `2*0.106`?"
   ]
  },
  {
   "cell_type": "markdown",
   "metadata": {
    "slideshow": {
     "slide_type": "fragment"
    }
   },
   "source": [
    "Because it's the mass of a muon four-vector with itself..."
   ]
  },
  {
   "cell_type": "markdown",
   "metadata": {
    "slideshow": {
     "slide_type": "slide"
    }
   },
   "source": [
    "Now without double-counting."
   ]
  },
  {
   "cell_type": "code",
   "execution_count": 68,
   "metadata": {},
   "outputs": [
    {
     "data": {
      "text/plain": [
       "<JaggedArray [[(TLorentzVector(-52.899, -11.655, -8.1608, 54.779), TLorentzVector(37.738, 0.69347, -11.308, 39.402))] [] [(TLorentzVector(48.988, -21.723, 11.168, 54.74), TLorentzVector(0.82757, 29.801, 36.965, 47.489))] ... [] [] []] at 0x7f7d48084160>"
      ]
     },
     "execution_count": 68,
     "metadata": {},
     "output_type": "execute_result"
    }
   ],
   "source": [
    "pairs = b.distincts()   # like b.cross(b), but taking only pairs above the diagonal\n",
    "pairs"
   ]
  },
  {
   "cell_type": "code",
   "execution_count": 69,
   "metadata": {},
   "outputs": [
    {
     "data": {
      "text/plain": [
       "<JaggedArray [[90.22779776988638] [] [74.74654928040661] ... [] [] []] at 0x7f7d480f30f0>"
      ]
     },
     "execution_count": 69,
     "metadata": {},
     "output_type": "execute_result"
    }
   ],
   "source": [
    "(pairs.i0 + pairs.i1).mass"
   ]
  },
  {
   "cell_type": "markdown",
   "metadata": {
    "slideshow": {
     "slide_type": "fragment"
    }
   },
   "source": [
    "More involved example from a CMS analysis: jet cleaning."
   ]
  },
  {
   "cell_type": "code",
   "execution_count": 70,
   "metadata": {},
   "outputs": [],
   "source": [
    "dataset = uproot.open(\"http://scikit-hep.org/uproot/examples/HZZ-objects.root\")[\"events\"]\n",
    "muons = dataset.array(\"muonp4\")\n",
    "jets = dataset.array(\"jetp4\")"
   ]
  },
  {
   "cell_type": "code",
   "execution_count": 71,
   "metadata": {},
   "outputs": [
    {
     "data": {
      "text/plain": [
       "<JaggedArrayMethods [[] [TLorentzVector(-38.875, 19.863, -0.89494, 44.137)] [] ... [TLorentzVector(-3.7148, -37.202, 41.012, 55.951)] [TLorentzVector(-36.361, 10.174, 226.43, 229.58) TLorentzVector(-15.257, -27.175, 12.12, 33.92)] []] at 0x7f7d287da898>"
      ]
     },
     "execution_count": 71,
     "metadata": {},
     "output_type": "execute_result"
    }
   ],
   "source": [
    "def ΔR(combinations):\n",
    "    return combinations.i0.delta_r(combinations.i1)\n",
    "\n",
    "combinations = jets.cross(muons, nested=True)     # nested=True means make a doubly jagged array; \"any()\" reduces one level\n",
    "jets[~(ΔR(combinations) < 0.5).any()]             # \"jets for which not (~) any combination has ΔR < 0.5\""
   ]
  },
  {
   "cell_type": "markdown",
   "metadata": {
    "slideshow": {
     "slide_type": "slide"
    }
   },
   "source": [
    "Numpy has a concept of \"broadcasting,\" in which an array and a scalar may be operated element-by-element, by duplicating the scalar to match the array."
   ]
  },
  {
   "cell_type": "code",
   "execution_count": 72,
   "metadata": {},
   "outputs": [
    {
     "data": {
      "text/plain": [
       "array([101.1, 102.2, 103.3, 104.4, 105.5])"
      ]
     },
     "execution_count": 72,
     "metadata": {},
     "output_type": "execute_result"
    }
   ],
   "source": [
    "numpy.array([1.1, 2.2, 3.3, 4.4, 5.5]) + 100"
   ]
  },
  {
   "cell_type": "markdown",
   "metadata": {
    "slideshow": {
     "slide_type": "fragment"
    }
   },
   "source": [
    "The jagged equivalent of this is broadcasting a Numpy array to match a jagged array:"
   ]
  },
  {
   "cell_type": "code",
   "execution_count": 73,
   "metadata": {},
   "outputs": [
    {
     "data": {
      "text/plain": [
       "<JaggedArray [[1.1 2.2 3.3] [] [4.4 5.5]] at 0x7f7d48084d30>"
      ]
     },
     "execution_count": 73,
     "metadata": {},
     "output_type": "execute_result"
    }
   ],
   "source": [
    "x"
   ]
  },
  {
   "cell_type": "code",
   "execution_count": 74,
   "metadata": {},
   "outputs": [
    {
     "data": {
      "text/plain": [
       "<JaggedArray [[101.1 102.2 103.3] [] [304.4 305.5]] at 0x7f7d287bfa20>"
      ]
     },
     "execution_count": 74,
     "metadata": {},
     "output_type": "execute_result"
    }
   ],
   "source": [
    "x + numpy.array([100, 200, 300])"
   ]
  },
  {
   "cell_type": "markdown",
   "metadata": {
    "slideshow": {
     "slide_type": "slide"
    }
   },
   "source": [
    "**Physics case:** consider a jagged array of timing measurements."
   ]
  },
  {
   "cell_type": "code",
   "execution_count": 75,
   "metadata": {},
   "outputs": [
    {
     "data": {
      "text/plain": [
       "<JaggedArray [[4.4 2.6 3.5 -0.6] [1.8 7.4] [] [9.5 5.2 8.5]] at 0x7f7d287bfc88>"
      ]
     },
     "execution_count": 75,
     "metadata": {},
     "output_type": "execute_result"
    }
   ],
   "source": [
    "times = awkward.fromiter([[4.4, 2.6, 3.5, -0.6], [1.8, 7.4], [], [9.5, 5.2, 8.5]])   # in picoseconds, probably\n",
    "times"
   ]
  },
  {
   "cell_type": "markdown",
   "metadata": {
    "slideshow": {
     "slide_type": "fragment"
    }
   },
   "source": [
    "Time-zero corrections (`t0`) may be applied globally:"
   ]
  },
  {
   "cell_type": "code",
   "execution_count": 76,
   "metadata": {},
   "outputs": [
    {
     "data": {
      "text/plain": [
       "<JaggedArray [[3.8000000000000003 2.0 2.9 -1.2] [1.2000000000000002 6.800000000000001] [] [8.9 4.6000000000000005 7.9]] at 0x7f7d287bf1d0>"
      ]
     },
     "execution_count": 76,
     "metadata": {},
     "output_type": "execute_result"
    }
   ],
   "source": [
    "times - 0.6"
   ]
  },
  {
   "cell_type": "markdown",
   "metadata": {
    "slideshow": {
     "slide_type": "fragment"
    }
   },
   "source": [
    "Or they may be applied per event:"
   ]
  },
  {
   "cell_type": "code",
   "execution_count": 77,
   "metadata": {},
   "outputs": [
    {
     "data": {
      "text/plain": [
       "<JaggedArray [[3.8000000000000003 2.0 2.9 -1.2] [0.6000000000000001 6.2] [] [6.2 1.9000000000000004 5.2]] at 0x7f7d287bf198>"
      ]
     },
     "execution_count": 77,
     "metadata": {},
     "output_type": "execute_result"
    }
   ],
   "source": [
    "times - numpy.array([0.6, 1.2, -0.4, 3.3])"
   ]
  },
  {
   "cell_type": "markdown",
   "metadata": {
    "slideshow": {
     "slide_type": "slide"
    }
   },
   "source": [
    "Or by detector id:"
   ]
  },
  {
   "cell_type": "code",
   "execution_count": 78,
   "metadata": {},
   "outputs": [
    {
     "data": {
      "text/plain": [
       "<JaggedArray [[4.4 2.6 3.5 -0.6] [1.8 7.4] [] [9.5 5.2 8.5]] at 0x7f7d287bfc88>"
      ]
     },
     "execution_count": 78,
     "metadata": {},
     "output_type": "execute_result"
    }
   ],
   "source": [
    "times"
   ]
  },
  {
   "cell_type": "code",
   "execution_count": 79,
   "metadata": {},
   "outputs": [
    {
     "data": {
      "text/plain": [
       "<JaggedArray [[101 274 101 97] [274 97] [] [101 634 274]] at 0x7f7d287cd278>"
      ]
     },
     "execution_count": 79,
     "metadata": {},
     "output_type": "execute_result"
    }
   ],
   "source": [
    "detid = awkward.fromiter([[101, 274, 101, 97], [274, 97], [], [101, 634, 274]])\n",
    "detid"
   ]
  },
  {
   "cell_type": "code",
   "execution_count": 80,
   "metadata": {},
   "outputs": [
    {
     "data": {
      "text/plain": [
       "<SparseArray [0.0 0.0 0.0 ... 0.0 0.0 0.0] at 0x7f7d287cd8d0>"
      ]
     },
     "execution_count": 80,
     "metadata": {},
     "output_type": "execute_result"
    }
   ],
   "source": [
    "lookup = awkward.SparseArray(1000, [97, 101, 274, 634], [0.1, 0.2, 0.3, 0.4])  # 97 → 0.1, 101 → 0.2, 274 → 0.3, 634 → 0.4\n",
    "lookup"
   ]
  },
  {
   "cell_type": "code",
   "execution_count": 81,
   "metadata": {},
   "outputs": [
    {
     "data": {
      "text/plain": [
       "<JaggedArray [[0.2 0.3 0.2 0.1] [0.3 0.1] [] [0.2 0.4 0.3]] at 0x7f7d287cde10>"
      ]
     },
     "execution_count": 81,
     "metadata": {},
     "output_type": "execute_result"
    }
   ],
   "source": [
    "corrections = awkward.JaggedArray.fromoffsets(detid.offsets, lookup[detid.content])\n",
    "corrections"
   ]
  },
  {
   "cell_type": "code",
   "execution_count": 82,
   "metadata": {},
   "outputs": [
    {
     "data": {
      "text/plain": [
       "<JaggedArray [[4.2 2.3000000000000003 3.3 -0.7] [1.5 7.300000000000001] [] [9.3 4.8 8.2]] at 0x7f7d287bfeb8>"
      ]
     },
     "execution_count": 82,
     "metadata": {},
     "output_type": "execute_result"
    }
   ],
   "source": [
    "times - corrections"
   ]
  },
  {
   "cell_type": "markdown",
   "metadata": {
    "slideshow": {
     "slide_type": "slide"
    }
   },
   "source": [
    "## Other awkward types\n",
    "\n",
    "The last example used a `SparseArray`, which I haven't explained yet. The awkward library has quite a few array classes, all mutually composable:"
   ]
  },
  {
   "cell_type": "code",
   "execution_count": 83,
   "metadata": {},
   "outputs": [
    {
     "data": {
      "text/plain": [
       "['AppendableArray',\n",
       " 'BitMaskedArray',\n",
       " 'ChunkedArray',\n",
       " 'IndexedArray',\n",
       " 'IndexedMaskedArray',\n",
       " 'JaggedArray',\n",
       " 'MaskedArray',\n",
       " 'ObjectArray',\n",
       " 'SparseArray',\n",
       " 'StringArray',\n",
       " 'UnionArray',\n",
       " 'VirtualArray']"
      ]
     },
     "execution_count": 83,
     "metadata": {},
     "output_type": "execute_result"
    }
   ],
   "source": [
    "[x for x in dir(awkward) if \"Array\" in x]"
   ]
  },
  {
   "cell_type": "markdown",
   "metadata": {
    "slideshow": {
     "slide_type": "slide"
    }
   },
   "source": [
    "<table style=\"font-size: 22pt; margin-top: 50px\">\n",
    "    <tr style=\"font-weight: bold\"><td>Array type</td><td>Purpose</td><td>Members</td><td>Usage</td></tr>\n",
    "    <tr><td>JaggedArray</td><td>variable-sized data structures</td><td>starts, stops, content</td><td>ubiquitous</td></tr>\n",
    "    <tr><td>Table</td><td>struct-like objects in columns</td><td>contents (dict)</td><td>ubiquitous</td></tr>\n",
    "    <tr><td>ObjectArray</td><td>arbitrary Python types on demand</td><td>generator, content</td><td>common</td></tr>\n",
    "    <tr><td>Methods</td><td>mix-in methods and properties on any array type</td><td>(none)</td><td>common</td></tr>\n",
    "    <tr><td>MaskedArray</td><td>allow nullable values (None)</td><td>mask (bytes), content</td><td>occasional</td></tr>\n",
    "    <tr><td>BitMaskedArray</td><td>same, but with a bit-mask</td><td>mask (bits), content</td><td>from Arrow</td></tr>\n",
    "    <tr><td>IndexedMaskedArray</td><td>same, but with dense content</td><td>mask-index (integers) content</td><td>rare</td></tr>\n",
    "    <tr><td>IndexedArray</td><td>lazy fancy indexing: \"pointers\"</td><td>index, content</td><td>rare</td></tr>\n",
    "    <tr><td>SparseArray</td><td>huge array defined at a few indexes</td><td>index, content, default</td><td>rare</td></tr>\n",
    "    <tr><td>UnionArray</td><td>heterogeneous types or data sources</td><td>tags, index, contents (list)</td><td>rare</td></tr>\n",
    "    <tr><td>StringArray</td><td>special case: jagged array of char</td><td>starts, stops, content, string methods</td><td>common</td></tr>\n",
    "    <tr><td>ChunkedArray</td><td>discontiguous array presented as a whole</td><td>counts, chunks (lists)</td><td>from Parquet</td></tr>\n",
    "    <tr><td>AppendableArray</td><td>chunked allocation for efficient appending</td><td>counts, chunks (lists)</td><td>rare</td></tr>\n",
    "    <tr><td>VirtualArray</td><td>array generated from a function when needed</td><td>generator, possible cached array</td><td>from Parquet</td></tr>\n",
    "</table>"
   ]
  },
  {
   "cell_type": "markdown",
   "metadata": {
    "slideshow": {
     "slide_type": "slide"
    }
   },
   "source": [
    "Taken together, this allows for some complex data structures, all backed by arrays."
   ]
  },
  {
   "cell_type": "code",
   "execution_count": 84,
   "metadata": {},
   "outputs": [
    {
     "data": {
      "text/plain": [
       "<JaggedArray [[1.1 2.2 None 3.3 None] [4.4 [5.5]] [<Row 0> None <Row 1>]] at 0x7f7d287ec6a0>"
      ]
     },
     "execution_count": 84,
     "metadata": {},
     "output_type": "execute_result"
    }
   ],
   "source": [
    "array = awkward.fromiter([[1.1, 2.2, None, 3.3, None],\n",
    "                          [4.4, [5.5]],\n",
    "                          [{\"x\": 6, \"y\": {\"z\": 7}}, None, {\"x\": 8, \"y\": {\"z\": 9}}]\n",
    "                         ])\n",
    "array"
   ]
  },
  {
   "cell_type": "code",
   "execution_count": 85,
   "metadata": {
    "slideshow": {
     "slide_type": "fragment"
    }
   },
   "outputs": [
    {
     "name": "stdout",
     "output_type": "stream",
     "text": [
      "[0, 3) -> [0, inf) -> ?((float64             |\n",
      "                         [0, inf) -> float64 |\n",
      "                         'x' -> int64\n",
      "                         'y' -> 'z' -> int64 ))\n"
     ]
    }
   ],
   "source": [
    "print(array.type)"
   ]
  },
  {
   "cell_type": "markdown",
   "metadata": {
    "slideshow": {
     "slide_type": "fragment"
    }
   },
   "source": [
    "\"An array of 3 elements, containing arrays of any number of elements, containing nullable (`?`) data that may be `float64`, jagged arrays of `float64`, or records with fields `\"x\"` (`int64`) and `\"y\"` (records with single field `\"z\"` (`int64`)).\""
   ]
  },
  {
   "cell_type": "markdown",
   "metadata": {
    "slideshow": {
     "slide_type": "slide"
    }
   },
   "source": [
    "All the same broadcasting and slicing rules apply. They are complex data structures with Numpy idioms."
   ]
  },
  {
   "cell_type": "code",
   "execution_count": 86,
   "metadata": {
    "slideshow": {
     "slide_type": "-"
    }
   },
   "outputs": [
    {
     "data": {
      "text/plain": [
       "[[1.1, 2.2, None, 3.3, None],\n",
       " [4.4, [5.5]],\n",
       " [{'x': 6, 'y': {'z': 7}}, None, {'x': 8, 'y': {'z': 9}}]]"
      ]
     },
     "execution_count": 86,
     "metadata": {},
     "output_type": "execute_result"
    }
   ],
   "source": [
    "array.tolist()"
   ]
  },
  {
   "cell_type": "code",
   "execution_count": 87,
   "metadata": {
    "slideshow": {
     "slide_type": "-"
    }
   },
   "outputs": [
    {
     "data": {
      "text/plain": [
       "[[101.1, 102.2, None, 103.3, None],\n",
       " [104.4, [105.5]],\n",
       " [{'x': 106, 'y': {'z': 107}}, None, {'x': 108, 'y': {'z': 109}}]]"
      ]
     },
     "execution_count": 87,
     "metadata": {},
     "output_type": "execute_result"
    }
   ],
   "source": [
    "(array + 100).tolist()"
   ]
  },
  {
   "cell_type": "code",
   "execution_count": 88,
   "metadata": {
    "slideshow": {
     "slide_type": "-"
    }
   },
   "outputs": [
    {
     "data": {
      "text/plain": [
       "[[3.3, None], [4.4, [5.5]], [None, {'x': 8, 'y': {'z': 9}}]]"
      ]
     },
     "execution_count": 88,
     "metadata": {},
     "output_type": "execute_result"
    }
   ],
   "source": [
    "array[:, -2:].tolist()"
   ]
  },
  {
   "cell_type": "code",
   "execution_count": 89,
   "metadata": {
    "slideshow": {
     "slide_type": "slide"
    }
   },
   "outputs": [
    {
     "data": {
      "text/plain": [
       "<Table [<Row 0> <Row 1> <Row 2> ... <Row 2418> <Row 2419> <Row 2420>] at 0x7f7d48044d68>"
      ]
     },
     "execution_count": 89,
     "metadata": {},
     "output_type": "execute_result"
    }
   ],
   "source": [
    "# get Higgs → ZZ events\n",
    "tree = uproot.open(\"http://scikit-hep.org/uproot/examples/HZZ.root\")[\"events\"]\n",
    "\n",
    "# make a Table of MET (missing energy, one per event)\n",
    "events = awkward.Table(tree.arrays([\"MET_px\", \"MET_py\"], namedecode=\"utf-8\"))\n",
    "\n",
    "# add a jagged table (JaggedArray of Table) so muons share a single \"offsets\"\n",
    "events[\"muons\"] = awkward.JaggedArray.zip(tree.arrays([\"Muon_Px\", \"Muon_Py\", \"Muon_Pz\"], namedecode=\"utf-8\"))\n",
    "\n",
    "# add a jagged table of jets in the same way\n",
    "events[\"jets\"] = awkward.JaggedArray.zip(tree.arrays([\"Jet_Px\", \"Jet_Py\", \"Jet_Pz\"], namedecode=\"utf-8\"))\n",
    "\n",
    "# here they are\n",
    "events"
   ]
  },
  {
   "cell_type": "code",
   "execution_count": 90,
   "metadata": {
    "slideshow": {
     "slide_type": "fragment"
    }
   },
   "outputs": [
    {
     "name": "stdout",
     "output_type": "stream",
     "text": [
      "[0, 2421) -> 'MET_px' -> float32\n",
      "             'MET_py' -> float32\n",
      "             'muons'  -> [0, inf) -> 'Muon_Px' -> float32\n",
      "                                     'Muon_Py' -> float32\n",
      "                                     'Muon_Pz' -> float32\n",
      "             'jets'   -> [0, inf) -> 'Jet_Px' -> float32\n",
      "                                     'Jet_Py' -> float32\n",
      "                                     'Jet_Pz' -> float32\n"
     ]
    }
   ],
   "source": [
    "print(events.type)"
   ]
  },
  {
   "cell_type": "code",
   "execution_count": 91,
   "metadata": {
    "slideshow": {
     "slide_type": "slide"
    }
   },
   "outputs": [
    {
     "data": {
      "text/plain": [
       "{'MET_px': 5.912771224975586,\n",
       " 'MET_py': 2.5636332035064697,\n",
       " 'muons': [{'Muon_Px': -52.89945602416992,\n",
       "   'Muon_Py': -11.654671669006348,\n",
       "   'Muon_Pz': -8.16079330444336},\n",
       "  {'Muon_Px': 37.7377815246582,\n",
       "   'Muon_Py': 0.6934735774993896,\n",
       "   'Muon_Pz': -11.307581901550293}],\n",
       " 'jets': []}"
      ]
     },
     "execution_count": 91,
     "metadata": {},
     "output_type": "execute_result"
    }
   ],
   "source": [
    "events[0].tolist()"
   ]
  },
  {
   "cell_type": "code",
   "execution_count": 92,
   "metadata": {},
   "outputs": [
    {
     "data": {
      "text/plain": [
       "{'MET_px': 8.619895935058594,\n",
       " 'MET_py': -22.78654670715332,\n",
       " 'muons': [{'Muon_Px': 22.08833122253418,\n",
       "   'Muon_Py': -85.83546447753906,\n",
       "   'Muon_Pz': 403.84844970703125},\n",
       "  {'Muon_Px': 76.6919174194336,\n",
       "   'Muon_Py': -13.956494331359863,\n",
       "   'Muon_Pz': 335.0942077636719}],\n",
       " 'jets': [{'Jet_Px': -71.6952133178711,\n",
       "   'Jet_Py': 93.57157897949219,\n",
       "   'Jet_Pz': 196.2964324951172},\n",
       "  {'Jet_Px': 36.60636901855469,\n",
       "   'Jet_Py': 21.83879280090332,\n",
       "   'Jet_Pz': 91.6662826538086},\n",
       "  {'Jet_Px': -28.866418838500977,\n",
       "   'Jet_Py': 9.320708274841309,\n",
       "   'Jet_Pz': 51.243221282958984}]}"
      ]
     },
     "execution_count": 92,
     "metadata": {},
     "output_type": "execute_result"
    }
   ],
   "source": [
    "events[3].tolist()"
   ]
  },
  {
   "cell_type": "markdown",
   "metadata": {
    "slideshow": {
     "slide_type": "slide"
    }
   },
   "source": [
    "## Persistence\n",
    "\n",
    "These data structures can be saved and restored from disk in a variety of formats. (Not yet for ROOT, but that's planned for this summer.)"
   ]
  },
  {
   "cell_type": "code",
   "execution_count": 99,
   "metadata": {},
   "outputs": [],
   "source": [
    "!rm tmp.awkd"
   ]
  },
  {
   "cell_type": "code",
   "execution_count": 100,
   "metadata": {},
   "outputs": [],
   "source": [
    "awkward.save(\"tmp.awkd\", events)             # this is just like numpy.save"
   ]
  },
  {
   "cell_type": "code",
   "execution_count": 101,
   "metadata": {
    "scrolled": true
   },
   "outputs": [
    {
     "data": {
      "text/plain": [
       "{'MET_px': 8.619895935058594,\n",
       " 'MET_py': -22.78654670715332,\n",
       " 'muons': [{'Muon_Px': 22.08833122253418,\n",
       "   'Muon_Py': -85.83546447753906,\n",
       "   'Muon_Pz': 403.84844970703125},\n",
       "  {'Muon_Px': 76.6919174194336,\n",
       "   'Muon_Py': -13.956494331359863,\n",
       "   'Muon_Pz': 335.0942077636719}],\n",
       " 'jets': [{'Jet_Px': -71.6952133178711,\n",
       "   'Jet_Py': 93.57157897949219,\n",
       "   'Jet_Pz': 196.2964324951172},\n",
       "  {'Jet_Px': 36.60636901855469,\n",
       "   'Jet_Py': 21.83879280090332,\n",
       "   'Jet_Pz': 91.6662826538086},\n",
       "  {'Jet_Px': -28.866418838500977,\n",
       "   'Jet_Py': 9.320708274841309,\n",
       "   'Jet_Pz': 51.243221282958984}]}"
      ]
     },
     "execution_count": 101,
     "metadata": {},
     "output_type": "execute_result"
    }
   ],
   "source": [
    "awkward.load(\"tmp.awkd\")[3].tolist()         # and numpy.load"
   ]
  },
  {
   "cell_type": "code",
   "execution_count": 102,
   "metadata": {
    "slideshow": {
     "slide_type": "slide"
    }
   },
   "outputs": [],
   "source": [
    "!rm tmp.hdf5"
   ]
  },
  {
   "cell_type": "code",
   "execution_count": 103,
   "metadata": {
    "slideshow": {
     "slide_type": "-"
    }
   },
   "outputs": [
    {
     "data": {
      "text/plain": [
       "<awkward.hdf5 '/' (0 members)>"
      ]
     },
     "execution_count": 103,
     "metadata": {},
     "output_type": "execute_result"
    }
   ],
   "source": [
    "import h5py\n",
    "file = awkward.hdf5(h5py.File(\"tmp.hdf5\"))   # wrap HDF5 file as an awkward HDF5 file\n",
    "file"
   ]
  },
  {
   "cell_type": "code",
   "execution_count": 104,
   "metadata": {},
   "outputs": [],
   "source": [
    "file[\"events\"] = events                      # translates awkward structures into groups of flat arrays"
   ]
  },
  {
   "cell_type": "code",
   "execution_count": 105,
   "metadata": {},
   "outputs": [
    {
     "data": {
      "text/plain": [
       "{'MET_px': 8.619895935058594,\n",
       " 'MET_py': -22.78654670715332,\n",
       " 'muons': [{'Muon_Px': 22.08833122253418,\n",
       "   'Muon_Py': -85.83546447753906,\n",
       "   'Muon_Pz': 403.84844970703125},\n",
       "  {'Muon_Px': 76.6919174194336,\n",
       "   'Muon_Py': -13.956494331359863,\n",
       "   'Muon_Pz': 335.0942077636719}],\n",
       " 'jets': [{'Jet_Px': -71.6952133178711,\n",
       "   'Jet_Py': 93.57157897949219,\n",
       "   'Jet_Pz': 196.2964324951172},\n",
       "  {'Jet_Px': 36.60636901855469,\n",
       "   'Jet_Py': 21.83879280090332,\n",
       "   'Jet_Pz': 91.6662826538086},\n",
       "  {'Jet_Px': -28.866418838500977,\n",
       "   'Jet_Py': 9.320708274841309,\n",
       "   'Jet_Pz': 51.243221282958984}]}"
      ]
     },
     "execution_count": 105,
     "metadata": {},
     "output_type": "execute_result"
    }
   ],
   "source": [
    "file[\"events\"][3].tolist()                   # and translates back"
   ]
  },
  {
   "cell_type": "markdown",
   "metadata": {
    "slideshow": {
     "slide_type": "slide"
    }
   },
   "source": [
    "Parquet is a format for columnar data, currently limited to jagged arrays, not jagged tables."
   ]
  },
  {
   "cell_type": "code",
   "execution_count": 106,
   "metadata": {},
   "outputs": [
    {
     "name": "stdout",
     "output_type": "stream",
     "text": [
      "[0, 2421) -> 'MET_px'  -> float32\n",
      "             'MET_py'  -> float32\n",
      "             'Muon_Px' -> [0, inf) -> float32\n",
      "             'Muon_Py' -> [0, inf) -> float32\n",
      "             'Muon_Pz' -> [0, inf) -> float32\n"
     ]
    }
   ],
   "source": [
    "tree = uproot.open(\"http://scikit-hep.org/uproot/examples/HZZ.root\")[\"events\"]\n",
    "events = awkward.Table(tree.arrays([\"MET_px\", \"MET_py\", \"Muon_Px\", \"Muon_Py\", \"Muon_Pz\"], namedecode=\"utf-8\"))\n",
    "print(events.type)"
   ]
  },
  {
   "cell_type": "code",
   "execution_count": 107,
   "metadata": {},
   "outputs": [],
   "source": [
    "awkward.toparquet(\"tmp.parquet\", events)"
   ]
  },
  {
   "cell_type": "code",
   "execution_count": 108,
   "metadata": {},
   "outputs": [
    {
     "data": {
      "text/plain": [
       "<ChunkedArray [<Row 0> <Row 1> <Row 2> ... <Row 2418> <Row 2419> <Row 2420>] at 0x7f7c68cc5048>"
      ]
     },
     "execution_count": 108,
     "metadata": {},
     "output_type": "execute_result"
    }
   ],
   "source": [
    "reconstituted = awkward.fromparquet(\"tmp.parquet\")\n",
    "reconstituted"
   ]
  },
  {
   "cell_type": "code",
   "execution_count": 109,
   "metadata": {
    "slideshow": {
     "slide_type": "fragment"
    }
   },
   "outputs": [
    {
     "data": {
      "text/plain": [
       "<Table [<Row 0> <Row 1> <Row 2> ... <Row 2418> <Row 2419> <Row 2420>] at 0x7f7c68cc5390>"
      ]
     },
     "execution_count": 109,
     "metadata": {},
     "output_type": "execute_result"
    }
   ],
   "source": [
    "reconstituted.chunks[0]                       # chunks are Parquet \"row groups\""
   ]
  },
  {
   "cell_type": "code",
   "execution_count": 110,
   "metadata": {},
   "outputs": [
    {
     "data": {
      "text/plain": [
       "<VirtualArray [5.912771 24.765203 -25.785088 ... 18.101646 79.87519 19.713749] at 0x7f7c68cc53c8>"
      ]
     },
     "execution_count": 110,
     "metadata": {},
     "output_type": "execute_result"
    }
   ],
   "source": [
    "reconstituted.chunks[0].contents[\"MET_px\"]    # fields are VirtualArrays: read on demand"
   ]
  },
  {
   "cell_type": "code",
   "execution_count": 111,
   "metadata": {},
   "outputs": [
    {
     "data": {
      "text/plain": [
       "<BitMaskedArray [5.912771 24.765203 -25.785088 ... 18.101646 79.87519 19.713749] at 0x7f7c68cba940>"
      ]
     },
     "execution_count": 111,
     "metadata": {},
     "output_type": "execute_result"
    }
   ],
   "source": [
    "reconstituted.chunks[0].contents[\"MET_px\"].array"
   ]
  },
  {
   "cell_type": "code",
   "execution_count": 112,
   "metadata": {
    "slideshow": {
     "slide_type": "slide"
    }
   },
   "outputs": [
    {
     "name": "stdout",
     "output_type": "stream",
     "text": [
      "[0, 2421) -> 'MET_px'  -> float32\n",
      "             'MET_py'  -> float32\n",
      "             'Muon_Px' -> [0, inf) -> float32\n",
      "             'Muon_Py' -> [0, inf) -> float32\n",
      "             'Muon_Pz' -> [0, inf) -> float32\n",
      "\n",
      "[0, 2421) -> 'MET_px'  -> ?(float32)\n",
      "             'MET_py'  -> ?(float32)\n",
      "             'Muon_Px' -> ?([0, inf) -> ?(float32))\n",
      "             'Muon_Py' -> ?([0, inf) -> ?(float32))\n",
      "             'Muon_Pz' -> ?([0, inf) -> ?(float32))\n"
     ]
    }
   ],
   "source": [
    "print(events.type, end=\"\\n\\n\")                # all data from Parquet is in-principle nullable\n",
    "print(reconstituted.type)"
   ]
  },
  {
   "cell_type": "markdown",
   "metadata": {},
   "source": [
    "The high-level type does not indicate that the data contain `ChunkedArrays` and `VirtualArrays` (or `IndexedArrays`, if it had them). Those are low-level details of how the data are delivered."
   ]
  },
  {
   "cell_type": "code",
   "execution_count": null,
   "metadata": {
    "slideshow": {
     "slide_type": "fragment"
    }
   },
   "outputs": [],
   "source": [
    "events[3].tolist()"
   ]
  },
  {
   "cell_type": "code",
   "execution_count": null,
   "metadata": {},
   "outputs": [],
   "source": [
    "reconstituted[3].tolist()"
   ]
  },
  {
   "cell_type": "markdown",
   "metadata": {
    "slideshow": {
     "slide_type": "slide"
    }
   },
   "source": [
    "## Getting fancy: cross-references"
   ]
  },
  {
   "cell_type": "code",
   "execution_count": null,
   "metadata": {},
   "outputs": [],
   "source": [
    "data = awkward.fromiter([\n",
    "    {\"tracks\": [{\"phi\": 1.0}, {\"phi\": 2.0}],\n",
    "     \"hits\": [{\"detid\": 100, \"pos\": 3.7}, {\"detid\": 50, \"pos\": 2.1}, {\"detid\": 75, \"pos\": 2.5}]},\n",
    "    {\"tracks\": [{\"phi\": 1.5}],\n",
    "     \"hits\": [{\"detid\": 100, \"pos\": 1.4}, {\"detid\": 50, \"pos\": 0.7}, {\"detid\": 75, \"pos\": 3.0}]}])\n",
    "print(data.type)"
   ]
  },
  {
   "cell_type": "code",
   "execution_count": null,
   "metadata": {},
   "outputs": [],
   "source": [
    "data[\"tracks\"][\"hits-on-track\"] = \\\n",
    "    awkward.JaggedArray.fromcounts([2, 1],\n",
    "        awkward.JaggedArray.fromcounts([2, 2, 1, 1],\n",
    "            awkward.IndexedArray([0, 1, 1, 2, 3, 5],\n",
    "                data[\"hits\"].content)))"
   ]
  },
  {
   "cell_type": "code",
   "execution_count": null,
   "metadata": {},
   "outputs": [],
   "source": [
    "data.tolist()"
   ]
  },
  {
   "cell_type": "code",
   "execution_count": null,
   "metadata": {
    "slideshow": {
     "slide_type": "slide"
    }
   },
   "outputs": [],
   "source": [
    "data.tolist()"
   ]
  },
  {
   "cell_type": "code",
   "execution_count": null,
   "metadata": {},
   "outputs": [],
   "source": [
    "data[\"hits\"][\"pos\"] = data[\"hits\"][\"pos\"] - 0.5"
   ]
  },
  {
   "cell_type": "code",
   "execution_count": null,
   "metadata": {},
   "outputs": [],
   "source": [
    "data.tolist()"
   ]
  },
  {
   "cell_type": "markdown",
   "metadata": {
    "slideshow": {
     "slide_type": "slide"
    }
   },
   "source": [
    "## Getting fancier: cyclic references"
   ]
  },
  {
   "cell_type": "code",
   "execution_count": null,
   "metadata": {},
   "outputs": [],
   "source": [
    "infinite_well = awkward.JaggedArray([0], [1], [12345])\n",
    "infinite_well.content = infinite_well"
   ]
  },
  {
   "cell_type": "code",
   "execution_count": null,
   "metadata": {},
   "outputs": [],
   "source": [
    "len(infinite_well), len(infinite_well[0]), len(infinite_well[0, 0]), len(infinite_well[0, 0, 0])"
   ]
  },
  {
   "cell_type": "code",
   "execution_count": null,
   "metadata": {
    "scrolled": true,
    "slideshow": {
     "slide_type": "fragment"
    }
   },
   "outputs": [],
   "source": [
    "infinite_well"
   ]
  },
  {
   "cell_type": "code",
   "execution_count": null,
   "metadata": {
    "slideshow": {
     "slide_type": "slide"
    }
   },
   "outputs": [],
   "source": [
    "tree = awkward.fromiter([\n",
    "    {\"value\": 1.23, \"left\":    1, \"right\":    2},     # node 0   (how trees are often\n",
    "    {\"value\": 3.21, \"left\":    3, \"right\":    4},     # node 1    stored in DataFrames)\n",
    "    {\"value\": 9.99, \"left\":    5, \"right\":    6},     # node 2\n",
    "    {\"value\": 3.14, \"left\":    7, \"right\": None},     # node 3\n",
    "    {\"value\": 2.71, \"left\": None, \"right\":    8},     # node 4\n",
    "    {\"value\": 5.55, \"left\": None, \"right\": None},     # node 5\n",
    "    {\"value\": 8.00, \"left\": None, \"right\": None},     # node 6\n",
    "    {\"value\": 9.00, \"left\": None, \"right\": None},     # node 7\n",
    "    {\"value\": 0.00, \"left\": None, \"right\": None},     # node 8\n",
    "])\n",
    "left = tree.contents[\"left\"].content\n",
    "right = tree.contents[\"right\"].content\n",
    "left[(left < 0) | (left > 8)] = 0         # satisfy overzealous validity checks\n",
    "right[(right < 0) | (right > 8)] = 0\n",
    "tree.contents[\"left\"].content = awkward.IndexedArray(left, tree)\n",
    "tree.contents[\"right\"].content = awkward.IndexedArray(right, tree)\n",
    "tree = awkward.IndexedArray([0], tree)"
   ]
  },
  {
   "cell_type": "code",
   "execution_count": null,
   "metadata": {},
   "outputs": [],
   "source": [
    "tree.tolist()"
   ]
  }
 ],
 "metadata": {
  "celltoolbar": "Slideshow",
  "kernelspec": {
   "display_name": "Python 3",
   "language": "python",
   "name": "python3"
  },
  "language_info": {
   "codemirror_mode": {
    "name": "ipython",
    "version": 3
   },
   "file_extension": ".py",
   "mimetype": "text/x-python",
   "name": "python",
   "nbconvert_exporter": "python",
   "pygments_lexer": "ipython3",
   "version": "3.7.2"
  }
 },
 "nbformat": 4,
 "nbformat_minor": 2
}
