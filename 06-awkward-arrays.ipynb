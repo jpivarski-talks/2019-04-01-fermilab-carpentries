{
 "cells": [
  {
   "cell_type": "markdown",
   "metadata": {
    "slideshow": {
     "slide_type": "slide"
    }
   },
   "source": [
    "## Awkward arrays: jaggedness and more"
   ]
  },
  {
   "cell_type": "markdown",
   "metadata": {
    "slideshow": {
     "slide_type": "slide"
    }
   },
   "source": [
    "In [04-ttree-data-pyroot.ipynb](04-ttree-data-pyroot.ipynb), we saw some examples of jagged and object data. Uproot uses a package called \"awkward\" to deal with them.\n",
    "\n",
    "This section focuses on various kinds of awkward arrays and what you can do with them (including making them less awkward: into pure Numpy arrays!)."
   ]
  },
  {
   "cell_type": "markdown",
   "metadata": {
    "slideshow": {
     "slide_type": "slide"
    }
   },
   "source": [
    "Everything that comes out of uproot is a Numpy array, a `JaggedArray`, a `Table`, an `ObjectArray`, or some combination."
   ]
  },
  {
   "cell_type": "code",
   "execution_count": 6,
   "metadata": {},
   "outputs": [
    {
     "data": {
      "text/plain": [
       "<JaggedArray [[-52.89945602416992 37.7377815246582] [-0.8164593577384949] [48.987831115722656 0.8275666832923889] ... [-29.756786346435547] [1.1418697834014893] [23.913206100463867]] at 0x703898643ef0>"
      ]
     },
     "execution_count": 6,
     "metadata": {},
     "output_type": "execute_result"
    }
   ],
   "source": [
    "import uproot\n",
    "a = uproot.open(\"http://scikit-hep.org/uproot/examples/HZZ.root\")[\"events\"].array(\"Muon_Px\")\n",
    "a"
   ]
  },
  {
   "cell_type": "code",
   "execution_count": 12,
   "metadata": {},
   "outputs": [
    {
     "data": {
      "text/plain": [
       "awkward.array.jagged.JaggedArray"
      ]
     },
     "execution_count": 12,
     "metadata": {},
     "output_type": "execute_result"
    }
   ],
   "source": [
    "type(a)"
   ]
  },
  {
   "cell_type": "code",
   "execution_count": 13,
   "metadata": {},
   "outputs": [
    {
     "data": {
      "text/plain": [
       "numpy.ndarray"
      ]
     },
     "execution_count": 13,
     "metadata": {},
     "output_type": "execute_result"
    }
   ],
   "source": [
    "type(a.content)"
   ]
  },
  {
   "cell_type": "code",
   "execution_count": 7,
   "metadata": {
    "slideshow": {
     "slide_type": "slide"
    }
   },
   "outputs": [
    {
     "data": {
      "text/plain": [
       "<JaggedArrayMethods [[TLorentzVector(-52.899, -11.655, -8.1608, 54.779) TLorentzVector(37.738, 0.69347, -11.308, 39.402)] [TLorentzVector(-0.81646, -24.404, 20.2, 31.69)] [TLorentzVector(48.988, -21.723, 11.168, 54.74) TLorentzVector(0.82757, 29.801, 36.965, 47.489)] ... [TLorentzVector(-29.757, -15.304, -52.664, 62.395)] [TLorentzVector(1.1419, 63.61, 162.18, 174.21)] [TLorentzVector(23.913, -35.665, 54.719, 69.556)]] at 0x7038985c26a0>"
      ]
     },
     "execution_count": 7,
     "metadata": {},
     "output_type": "execute_result"
    }
   ],
   "source": [
    "b = uproot.open(\"http://scikit-hep.org/uproot/examples/HZZ-objects.root\")[\"events\"].array(\"muonp4\")\n",
    "b"
   ]
  },
  {
   "cell_type": "code",
   "execution_count": 14,
   "metadata": {},
   "outputs": [
    {
     "data": {
      "text/plain": [
       "awkward.array.objects.JaggedArrayMethods"
      ]
     },
     "execution_count": 14,
     "metadata": {},
     "output_type": "execute_result"
    }
   ],
   "source": [
    "type(b)"
   ]
  },
  {
   "cell_type": "code",
   "execution_count": 15,
   "metadata": {},
   "outputs": [
    {
     "data": {
      "text/plain": [
       "awkward.array.objects.ObjectArrayMethods"
      ]
     },
     "execution_count": 15,
     "metadata": {},
     "output_type": "execute_result"
    }
   ],
   "source": [
    "type(b.content)"
   ]
  },
  {
   "cell_type": "code",
   "execution_count": 16,
   "metadata": {},
   "outputs": [
    {
     "data": {
      "text/plain": [
       "awkward.array.table.Table"
      ]
     },
     "execution_count": 16,
     "metadata": {},
     "output_type": "execute_result"
    }
   ],
   "source": [
    "type(b.content.content)"
   ]
  },
  {
   "cell_type": "code",
   "execution_count": 18,
   "metadata": {},
   "outputs": [
    {
     "data": {
      "text/plain": [
       "numpy.ndarray"
      ]
     },
     "execution_count": 18,
     "metadata": {},
     "output_type": "execute_result"
    }
   ],
   "source": [
    "type(b.content.content.contents[\"fX\"])"
   ]
  },
  {
   "cell_type": "markdown",
   "metadata": {
    "slideshow": {
     "slide_type": "slide"
    }
   },
   "source": [
    "If ROOT managed to \"split\" the objects into columns, then the data are in a columnar state: each attribute represented by a contiguous array."
   ]
  },
  {
   "cell_type": "code",
   "execution_count": 19,
   "metadata": {},
   "outputs": [
    {
     "data": {
      "text/plain": [
       "array([-52.89945602,  37.73778152,  -0.81645936, ..., -29.75678635,\n",
       "         1.14186978,  23.9132061 ])"
      ]
     },
     "execution_count": 19,
     "metadata": {},
     "output_type": "execute_result"
    }
   ],
   "source": [
    "b.content.content.contents[\"fX\"]"
   ]
  },
  {
   "cell_type": "code",
   "execution_count": 20,
   "metadata": {},
   "outputs": [
    {
     "data": {
      "text/plain": [
       "array([-11.65467167,   0.69347358, -24.40425873, ..., -15.30385876,\n",
       "        63.60956955, -35.66507721])"
      ]
     },
     "execution_count": 20,
     "metadata": {},
     "output_type": "execute_result"
    }
   ],
   "source": [
    "b.content.content.contents[\"fY\"]"
   ]
  },
  {
   "cell_type": "markdown",
   "metadata": {
    "slideshow": {
     "slide_type": "slide"
    }
   },
   "source": [
    "Even if the data are \"unsplit,\" they're presented as a bag of bytes and a Python function to interpret them, as an `ObjectArray`."
   ]
  },
  {
   "cell_type": "code",
   "execution_count": 23,
   "metadata": {},
   "outputs": [
    {
     "data": {
      "text/plain": [
       "<ObjectArray [<b'TH1F' b'hstat' 0x70389b138c78> <b'TH1F' b'hstat' 0x70389b138958> <b'TH1F' b'hstat' 0x70389832ed68> ... <b'TH1F' b'hstat' 0x703898356c28> <b'TH1F' b'hstat' 0x703898356e08> <b'TH1F' b'hstat' 0x70389832e958>] at 0x7038981ef710>"
      ]
     },
     "execution_count": 23,
     "metadata": {},
     "output_type": "execute_result"
    }
   ],
   "source": [
    "c = uproot.open(\"http://scikit-hep.org/uproot/examples/Event.root\")[\"T\"].array(\"fH\")\n",
    "c"
   ]
  },
  {
   "cell_type": "code",
   "execution_count": 25,
   "metadata": {},
   "outputs": [
    {
     "data": {
      "text/plain": [
       "<JaggedArray [[64 0 3 ... 0 0 0] [64 0 3 ... 0 0 0] [64 0 3 ... 0 0 0] ... [64 0 3 ... 0 0 0] [64 0 3 ... 0 0 0] [64 0 3 ... 0 0 0]] at 0x7038981eff98>"
      ]
     },
     "execution_count": 25,
     "metadata": {},
     "output_type": "execute_result"
    }
   ],
   "source": [
    "c.content     # bag of bytes"
   ]
  },
  {
   "cell_type": "code",
   "execution_count": 26,
   "metadata": {},
   "outputs": [
    {
     "data": {
      "text/plain": [
       "TH1F"
      ]
     },
     "execution_count": 26,
     "metadata": {},
     "output_type": "execute_result"
    }
   ],
   "source": [
    "c.generator   # interpretation class"
   ]
  },
  {
   "cell_type": "code",
   "execution_count": 31,
   "metadata": {},
   "outputs": [
    {
     "name": "stdout",
     "output_type": "stream",
     "text": [
      "                0                                                           12.6\n",
      "                +--------------------------------------------------------------+\n",
      "[-inf, 0)    0  |                                                              |\n",
      "[0, 0.01)    10 |*************************************************             |\n",
      "[0.01, 0.02) 12 |***********************************************************   |\n",
      "[0.02, 0.03) 5  |*************************                                     |\n",
      "[0.03, 0.04) 6  |******************************                                |\n",
      "[0.04, 0.05) 5  |*************************                                     |\n",
      "[0.05, 0.06) 8  |***************************************                       |\n",
      "[0.06, 0.07) 7  |**********************************                            |\n",
      "[0.07, 0.08) 5  |*************************                                     |\n",
      "[0.08, 0.09) 4  |********************                                          |\n",
      "[0.09, 0.1)  2  |**********                                                    |\n",
      "[0.1, 0.11)  5  |*************************                                     |\n",
      "[0.11, 0.12) 5  |*************************                                     |\n",
      "[0.12, 0.13) 7  |**********************************                            |\n",
      "[0.13, 0.14) 2  |**********                                                    |\n",
      "[0.14, 0.15) 4  |********************                                          |\n",
      "[0.15, 0.16) 4  |********************                                          |\n",
      "[0.16, 0.17) 4  |********************                                          |\n",
      "[0.17, 0.18) 5  |*************************                                     |\n",
      "[0.18, 0.19) 4  |********************                                          |\n",
      "[0.19, 0.2)  5  |*************************                                     |\n",
      "[0.2, 0.21)  4  |********************                                          |\n",
      "[0.21, 0.22) 4  |********************                                          |\n",
      "[0.22, 0.23) 4  |********************                                          |\n",
      "[0.23, 0.24) 7  |**********************************                            |\n",
      "[0.24, 0.25) 3  |***************                                               |\n",
      "[0.25, 0.26) 4  |********************                                          |\n",
      "[0.26, 0.27) 7  |**********************************                            |\n",
      "[0.27, 0.28) 6  |******************************                                |\n",
      "[0.28, 0.29) 4  |********************                                          |\n",
      "[0.29, 0.3)  5  |*************************                                     |\n",
      "[0.3, 0.31)  5  |*************************                                     |\n",
      "[0.31, 0.32) 7  |**********************************                            |\n",
      "[0.32, 0.33) 2  |**********                                                    |\n",
      "[0.33, 0.34) 3  |***************                                               |\n",
      "[0.34, 0.35) 7  |**********************************                            |\n",
      "[0.35, 0.36) 8  |***************************************                       |\n",
      "[0.36, 0.37) 3  |***************                                               |\n",
      "[0.37, 0.38) 4  |********************                                          |\n",
      "[0.38, 0.39) 6  |******************************                                |\n",
      "[0.39, 0.4)  7  |**********************************                            |\n",
      "[0.4, 0.41)  9  |********************************************                  |\n",
      "[0.41, 0.42) 4  |********************                                          |\n",
      "[0.42, 0.43) 4  |********************                                          |\n",
      "[0.43, 0.44) 4  |********************                                          |\n",
      "[0.44, 0.45) 3  |***************                                               |\n",
      "[0.45, 0.46) 2  |**********                                                    |\n",
      "[0.46, 0.47) 3  |***************                                               |\n",
      "[0.47, 0.48) 5  |*************************                                     |\n",
      "[0.48, 0.49) 5  |*************************                                     |\n",
      "[0.49, 0.5)  4  |********************                                          |\n",
      "[0.5, 0.51)  6  |******************************                                |\n",
      "[0.51, 0.52) 3  |***************                                               |\n",
      "[0.52, 0.53) 5  |*************************                                     |\n",
      "[0.53, 0.54) 5  |*************************                                     |\n",
      "[0.54, 0.55) 9  |********************************************                  |\n",
      "[0.55, 0.56) 5  |*************************                                     |\n",
      "[0.56, 0.57) 5  |*************************                                     |\n",
      "[0.57, 0.58) 4  |********************                                          |\n",
      "[0.58, 0.59) 7  |**********************************                            |\n",
      "[0.59, 0.6)  7  |**********************************                            |\n",
      "[0.6, 0.61)  5  |*************************                                     |\n",
      "[0.61, 0.62) 4  |********************                                          |\n",
      "[0.62, 0.63) 6  |******************************                                |\n",
      "[0.63, 0.64) 2  |**********                                                    |\n",
      "[0.64, 0.65) 4  |********************                                          |\n",
      "[0.65, 0.66) 3  |***************                                               |\n",
      "[0.66, 0.67) 1  |*****                                                         |\n",
      "[0.67, 0.68) 8  |***************************************                       |\n",
      "[0.68, 0.69) 2  |**********                                                    |\n",
      "[0.69, 0.7)  1  |*****                                                         |\n",
      "[0.7, 0.71)  3  |***************                                               |\n",
      "[0.71, 0.72) 8  |***************************************                       |\n",
      "[0.72, 0.73) 6  |******************************                                |\n",
      "[0.73, 0.74) 7  |**********************************                            |\n",
      "[0.74, 0.75) 7  |**********************************                            |\n",
      "[0.75, 0.76) 9  |********************************************                  |\n",
      "[0.76, 0.77) 5  |*************************                                     |\n",
      "[0.77, 0.78) 4  |********************                                          |\n",
      "[0.78, 0.79) 4  |********************                                          |\n",
      "[0.79, 0.8)  5  |*************************                                     |\n",
      "[0.8, 0.81)  6  |******************************                                |\n",
      "[0.81, 0.82) 3  |***************                                               |\n",
      "[0.82, 0.83) 6  |******************************                                |\n",
      "[0.83, 0.84) 6  |******************************                                |\n",
      "[0.84, 0.85) 3  |***************                                               |\n",
      "[0.85, 0.86) 5  |*************************                                     |\n",
      "[0.86, 0.87) 2  |**********                                                    |\n",
      "[0.87, 0.88) 5  |*************************                                     |\n",
      "[0.88, 0.89) 4  |********************                                          |\n",
      "[0.89, 0.9)  1  |*****                                                         |\n",
      "[0.9, 0.91)  8  |***************************************                       |\n",
      "[0.91, 0.92) 3  |***************                                               |\n",
      "[0.92, 0.93) 2  |**********                                                    |\n",
      "[0.93, 0.94) 6  |******************************                                |\n",
      "[0.94, 0.95) 5  |*************************                                     |\n",
      "[0.95, 0.96) 8  |***************************************                       |\n",
      "[0.96, 0.97) 3  |***************                                               |\n",
      "[0.97, 0.98) 4  |********************                                          |\n",
      "[0.98, 0.99) 7  |**********************************                            |\n",
      "[0.99, 1)    12 |***********************************************************   |\n",
      "[1, inf]     0  |                                                              |\n",
      "                +--------------------------------------------------------------+\n"
     ]
    }
   ],
   "source": [
    "c[500].show()"
   ]
  },
  {
   "cell_type": "markdown",
   "metadata": {
    "slideshow": {
     "slide_type": "slide"
    }
   },
   "source": [
    "A `JaggedArray` is a list of unequal-sized sublists, encoded as a continuous array of `content` divided up by an array of `offsets`."
   ]
  },
  {
   "cell_type": "code",
   "execution_count": 32,
   "metadata": {},
   "outputs": [
    {
     "data": {
      "text/plain": [
       "<JaggedArray [[1.1 2.2 3.3] [] [4.4 5.5]] at 0x70389820d1d0>"
      ]
     },
     "execution_count": 32,
     "metadata": {},
     "output_type": "execute_result"
    }
   ],
   "source": [
    "import awkward\n",
    "x = awkward.fromiter([[1.1, 2.2, 3.3], [], [4.4, 5.5]])\n",
    "x"
   ]
  },
  {
   "cell_type": "code",
   "execution_count": 33,
   "metadata": {},
   "outputs": [
    {
     "data": {
      "text/plain": [
       "array([1.1, 2.2, 3.3, 4.4, 5.5])"
      ]
     },
     "execution_count": 33,
     "metadata": {},
     "output_type": "execute_result"
    }
   ],
   "source": [
    "x.content"
   ]
  },
  {
   "cell_type": "code",
   "execution_count": 34,
   "metadata": {},
   "outputs": [
    {
     "data": {
      "text/plain": [
       "array([0, 3, 3, 5])"
      ]
     },
     "execution_count": 34,
     "metadata": {},
     "output_type": "execute_result"
    }
   ],
   "source": [
    "x.offsets"
   ]
  },
  {
   "cell_type": "markdown",
   "metadata": {
    "slideshow": {
     "slide_type": "slide"
    }
   },
   "source": [
    "A `Table` is an array of `Row` records, encoded as a continuous array of each column in its `contents` dict."
   ]
  },
  {
   "cell_type": "code",
   "execution_count": 35,
   "metadata": {},
   "outputs": [
    {
     "data": {
      "text/plain": [
       "<Table [<Row 0> <Row 1> <Row 2>] at 0x70389820d898>"
      ]
     },
     "execution_count": 35,
     "metadata": {},
     "output_type": "execute_result"
    }
   ],
   "source": [
    "x = awkward.fromiter([{\"x\": 1, \"y\": 1.1}, {\"x\": 2, \"y\": 2.2}, {\"x\": 3, \"y\": 3.3}])\n",
    "x"
   ]
  },
  {
   "cell_type": "code",
   "execution_count": 36,
   "metadata": {},
   "outputs": [
    {
     "data": {
      "text/plain": [
       "[{'x': 1, 'y': 1.1}, {'x': 2, 'y': 2.2}, {'x': 3, 'y': 3.3}]"
      ]
     },
     "execution_count": 36,
     "metadata": {},
     "output_type": "execute_result"
    }
   ],
   "source": [
    "x.tolist()"
   ]
  },
  {
   "cell_type": "code",
   "execution_count": 37,
   "metadata": {},
   "outputs": [
    {
     "data": {
      "text/plain": [
       "array([1, 2, 3])"
      ]
     },
     "execution_count": 37,
     "metadata": {},
     "output_type": "execute_result"
    }
   ],
   "source": [
    "x.contents[\"x\"]"
   ]
  },
  {
   "cell_type": "code",
   "execution_count": 38,
   "metadata": {},
   "outputs": [
    {
     "data": {
      "text/plain": [
       "array([1.1, 2.2, 3.3])"
      ]
     },
     "execution_count": 38,
     "metadata": {},
     "output_type": "execute_result"
    }
   ],
   "source": [
    "x.contents[\"y\"]"
   ]
  },
  {
   "cell_type": "markdown",
   "metadata": {
    "slideshow": {
     "slide_type": "slide"
    }
   },
   "source": [
    "An `ObjectArray` is a virtual array of objects, represented by some array `content` and a `generator` that creates each object on demand."
   ]
  },
  {
   "cell_type": "code",
   "execution_count": 40,
   "metadata": {},
   "outputs": [
    {
     "data": {
      "text/plain": [
       "<ObjectArray [Point(1, 1.1) Point(2, 2.2) Point(3, 3.3)] at 0x70389852c048>"
      ]
     },
     "execution_count": 40,
     "metadata": {},
     "output_type": "execute_result"
    }
   ],
   "source": [
    "class Point:\n",
    "    def __init__(self, x, y):\n",
    "        self.x = x\n",
    "        self.y = y\n",
    "    def __repr__(self):\n",
    "        return \"Point({0}, {1})\".format(self.x, self.y)\n",
    "\n",
    "x = awkward.fromiter([Point(1, 1.1), Point(2, 2.2), Point(3, 3.3)])\n",
    "x"
   ]
  },
  {
   "cell_type": "code",
   "execution_count": 41,
   "metadata": {},
   "outputs": [
    {
     "data": {
      "text/plain": [
       "<Table [<Row 0> <Row 1> <Row 2>] at 0x7038981efeb8>"
      ]
     },
     "execution_count": 41,
     "metadata": {},
     "output_type": "execute_result"
    }
   ],
   "source": [
    "x.content"
   ]
  },
  {
   "cell_type": "code",
   "execution_count": 42,
   "metadata": {},
   "outputs": [
    {
     "data": {
      "text/plain": [
       "array([1, 2, 3])"
      ]
     },
     "execution_count": 42,
     "metadata": {},
     "output_type": "execute_result"
    }
   ],
   "source": [
    "x.content.contents[\"x\"]"
   ]
  },
  {
   "cell_type": "code",
   "execution_count": 43,
   "metadata": {},
   "outputs": [
    {
     "data": {
      "text/plain": [
       "array([1.1, 2.2, 3.3])"
      ]
     },
     "execution_count": 43,
     "metadata": {},
     "output_type": "execute_result"
    }
   ],
   "source": [
    "x.content.contents[\"y\"]"
   ]
  },
  {
   "cell_type": "markdown",
   "metadata": {
    "slideshow": {
     "slide_type": "slide"
    }
   },
   "source": [
    "## Jagged operations\n",
    "\n",
    "As much as possible, awkward arrays act like Numpy arrays. For `JaggedArray`, this means obeying Numpy's slicing rules for multidimensional arrays."
   ]
  },
  {
   "cell_type": "code",
   "execution_count": 45,
   "metadata": {},
   "outputs": [
    {
     "data": {
      "text/plain": [
       "<JaggedArray [[1.1 2.2 3.3 4.4] [5.5 6.6] [7.7 8.8 9.9]] at 0x70389820db38>"
      ]
     },
     "execution_count": 45,
     "metadata": {},
     "output_type": "execute_result"
    }
   ],
   "source": [
    "x = awkward.fromiter([[1.1, 2.2, 3.3, 4.4], [5.5, 6.6], [7.7, 8.8, 9.9]])\n",
    "x"
   ]
  },
  {
   "cell_type": "code",
   "execution_count": 46,
   "metadata": {},
   "outputs": [
    {
     "data": {
      "text/plain": [
       "<JaggedArray [[1.1 2.2 3.3 4.4] [5.5 6.6]] at 0x70389820d550>"
      ]
     },
     "execution_count": 46,
     "metadata": {},
     "output_type": "execute_result"
    }
   ],
   "source": [
    "# take the first two inner lists\n",
    "x[:2]"
   ]
  },
  {
   "cell_type": "code",
   "execution_count": 49,
   "metadata": {},
   "outputs": [
    {
     "data": {
      "text/plain": [
       "<JaggedArray [[1.1 2.2] [5.5 6.6] [7.7 8.8]] at 0x70389820d4a8>"
      ]
     },
     "execution_count": 49,
     "metadata": {},
     "output_type": "execute_result"
    }
   ],
   "source": [
    "# take the first two numbers in each inner list\n",
    "x[:, :2]"
   ]
  },
  {
   "cell_type": "code",
   "execution_count": 48,
   "metadata": {
    "slideshow": {
     "slide_type": "fragment"
    }
   },
   "outputs": [
    {
     "data": {
      "text/plain": [
       "<JaggedArray [[1.1 2.2 3.3 4.4] [7.7 8.8 9.9]] at 0x70389820d5f8>"
      ]
     },
     "execution_count": 48,
     "metadata": {},
     "output_type": "execute_result"
    }
   ],
   "source": [
    "# mask outer lists\n",
    "x[[True, False, True]]"
   ]
  },
  {
   "cell_type": "code",
   "execution_count": 50,
   "metadata": {},
   "outputs": [
    {
     "data": {
      "text/plain": [
       "<JaggedArray [[1.1 3.3] [6.6] [7.7 8.8]] at 0x7038981ef940>"
      ]
     },
     "execution_count": 50,
     "metadata": {},
     "output_type": "execute_result"
    }
   ],
   "source": [
    "# mask inner lists\n",
    "x[awkward.fromiter([[True, False, True, False], [False, True], [True, True, False]])]"
   ]
  },
  {
   "cell_type": "markdown",
   "metadata": {
    "slideshow": {
     "slide_type": "slide"
    }
   },
   "source": [
    "Reductions (min, max, sum, ...) turn Numpy arrays into scalars. They turn jagged arrays into Numpy arrays by applying the operation to each inner list."
   ]
  },
  {
   "cell_type": "code",
   "execution_count": 51,
   "metadata": {},
   "outputs": [
    {
     "data": {
      "text/plain": [
       "<JaggedArray [[1.1 2.2 3.3 4.4] [5.5 6.6] [7.7 8.8 9.9]] at 0x70389820db38>"
      ]
     },
     "execution_count": 51,
     "metadata": {},
     "output_type": "execute_result"
    }
   ],
   "source": [
    "x"
   ]
  },
  {
   "cell_type": "code",
   "execution_count": 52,
   "metadata": {},
   "outputs": [
    {
     "data": {
      "text/plain": [
       "array([1.1, 5.5, 7.7])"
      ]
     },
     "execution_count": 52,
     "metadata": {},
     "output_type": "execute_result"
    }
   ],
   "source": [
    "x.min()"
   ]
  },
  {
   "cell_type": "code",
   "execution_count": 53,
   "metadata": {},
   "outputs": [
    {
     "data": {
      "text/plain": [
       "array([4.4, 6.6, 9.9])"
      ]
     },
     "execution_count": 53,
     "metadata": {},
     "output_type": "execute_result"
    }
   ],
   "source": [
    "x.max()"
   ]
  },
  {
   "cell_type": "markdown",
   "metadata": {
    "slideshow": {
     "slide_type": "fragment"
    }
   },
   "source": [
    "Empty sublists return the identity element."
   ]
  },
  {
   "cell_type": "code",
   "execution_count": 55,
   "metadata": {},
   "outputs": [
    {
     "data": {
      "text/plain": [
       "<JaggedArray [[1.1 2.2 3.3] [] [4.4 5.5]] at 0x7038981ef390>"
      ]
     },
     "execution_count": 55,
     "metadata": {},
     "output_type": "execute_result"
    }
   ],
   "source": [
    "x = awkward.fromiter([[1.1, 2.2, 3.3], [], [4.4, 5.5]])\n",
    "x"
   ]
  },
  {
   "cell_type": "code",
   "execution_count": 56,
   "metadata": {},
   "outputs": [
    {
     "data": {
      "text/plain": [
       "array([6.6, 0. , 9.9])"
      ]
     },
     "execution_count": 56,
     "metadata": {},
     "output_type": "execute_result"
    }
   ],
   "source": [
    "x.sum()"
   ]
  },
  {
   "cell_type": "code",
   "execution_count": 57,
   "metadata": {},
   "outputs": [
    {
     "data": {
      "text/plain": [
       "array([ 3.3, -inf,  5.5])"
      ]
     },
     "execution_count": 57,
     "metadata": {},
     "output_type": "execute_result"
    }
   ],
   "source": [
    "x.max()"
   ]
  },
  {
   "cell_type": "markdown",
   "metadata": {
    "slideshow": {
     "slide_type": "slide"
    }
   },
   "source": [
    "There's also an equivalent of `argmin/argmax` that returns jagged arrays of indexes."
   ]
  },
  {
   "cell_type": "code",
   "execution_count": 58,
   "metadata": {},
   "outputs": [
    {
     "data": {
      "text/plain": [
       "<JaggedArray [[1.1 2.2 3.3] [] [4.4 5.5]] at 0x7038981ef390>"
      ]
     },
     "execution_count": 58,
     "metadata": {},
     "output_type": "execute_result"
    }
   ],
   "source": [
    "x"
   ]
  },
  {
   "cell_type": "code",
   "execution_count": 59,
   "metadata": {},
   "outputs": [
    {
     "data": {
      "text/plain": [
       "<JaggedArray [[2] [] [1]] at 0x7038981efe10>"
      ]
     },
     "execution_count": 59,
     "metadata": {},
     "output_type": "execute_result"
    }
   ],
   "source": [
    "indexes = x.argmax()\n",
    "indexes"
   ]
  },
  {
   "cell_type": "markdown",
   "metadata": {
    "slideshow": {
     "slide_type": "fragment"
    }
   },
   "source": [
    "What's this useful for? Maximizing by one attribute and applying to another."
   ]
  },
  {
   "cell_type": "code",
   "execution_count": 60,
   "metadata": {},
   "outputs": [
    {
     "data": {
      "text/plain": [
       "<JaggedArray [[300 200 100] [] [500 400]] at 0x7038981ef080>"
      ]
     },
     "execution_count": 60,
     "metadata": {},
     "output_type": "execute_result"
    }
   ],
   "source": [
    "y = awkward.fromiter([[300, 200, 100], [], [500, 400]])\n",
    "y"
   ]
  },
  {
   "cell_type": "code",
   "execution_count": 61,
   "metadata": {},
   "outputs": [
    {
     "data": {
      "text/plain": [
       "<JaggedArray [[100] [] [400]] at 0x7038981ef3c8>"
      ]
     },
     "execution_count": 61,
     "metadata": {},
     "output_type": "execute_result"
    }
   ],
   "source": [
    "y[indexes]"
   ]
  },
  {
   "cell_type": "markdown",
   "metadata": {
    "slideshow": {
     "slide_type": "fragment"
    }
   },
   "source": [
    "In Numpy, this is \"advanced indexing.\""
   ]
  },
  {
   "cell_type": "markdown",
   "metadata": {
    "slideshow": {
     "slide_type": "slide"
    }
   },
   "source": [
    "Numpy's \"universal functions\" can be applied to awkward arrays. They apply element-by-element and maintain structure."
   ]
  },
  {
   "cell_type": "code",
   "execution_count": 62,
   "metadata": {},
   "outputs": [
    {
     "data": {
      "text/plain": [
       "<JaggedArray [[1.1 2.2 3.3] [] [4.4 5.5]] at 0x7038981ef390>"
      ]
     },
     "execution_count": 62,
     "metadata": {},
     "output_type": "execute_result"
    }
   ],
   "source": [
    "x"
   ]
  },
  {
   "cell_type": "code",
   "execution_count": 64,
   "metadata": {},
   "outputs": [
    {
     "data": {
      "text/plain": [
       "<JaggedArray [[1.0488088481701516 1.4832396974191326 1.816590212458495] [] [2.0976176963403033 2.345207879911715]] at 0x7038981ef0f0>"
      ]
     },
     "execution_count": 64,
     "metadata": {},
     "output_type": "execute_result"
    }
   ],
   "source": [
    "import numpy\n",
    "numpy.sqrt(x)"
   ]
  },
  {
   "cell_type": "markdown",
   "metadata": {
    "slideshow": {
     "slide_type": "fragment"
    }
   },
   "source": [
    "This allows us to compute things with awkward arrays as we would Numpy arrays—as long as the structure matches."
   ]
  },
  {
   "cell_type": "code",
   "execution_count": 66,
   "metadata": {},
   "outputs": [
    {
     "data": {
      "text/plain": [
       "<JaggedArray [[90001.1 40002.2 10003.3] [] [250004.4 160005.5]] at 0x7038981ef2e8>"
      ]
     },
     "execution_count": 66,
     "metadata": {},
     "output_type": "execute_result"
    }
   ],
   "source": [
    "x + y**2"
   ]
  },
  {
   "cell_type": "markdown",
   "metadata": {
    "slideshow": {
     "slide_type": "slide"
    }
   },
   "source": [
    "Numpy has a concept of \"broadcasting,\" in which an array and a scalar may be operated element-by-element, by duplicating the scalar to match the array."
   ]
  },
  {
   "cell_type": "code",
   "execution_count": 67,
   "metadata": {},
   "outputs": [
    {
     "data": {
      "text/plain": [
       "array([101.1, 102.2, 103.3, 104.4, 105.5])"
      ]
     },
     "execution_count": 67,
     "metadata": {},
     "output_type": "execute_result"
    }
   ],
   "source": [
    "numpy.array([1.1, 2.2, 3.3, 4.4, 5.5]) + 100"
   ]
  },
  {
   "cell_type": "markdown",
   "metadata": {
    "slideshow": {
     "slide_type": "fragment"
    }
   },
   "source": [
    "The jagged equivalent of this is broadcasting a Numpy array to match a jagged array:"
   ]
  },
  {
   "cell_type": "code",
   "execution_count": 68,
   "metadata": {},
   "outputs": [
    {
     "data": {
      "text/plain": [
       "<JaggedArray [[1.1 2.2 3.3] [] [4.4 5.5]] at 0x7038981ef390>"
      ]
     },
     "execution_count": 68,
     "metadata": {},
     "output_type": "execute_result"
    }
   ],
   "source": [
    "x"
   ]
  },
  {
   "cell_type": "code",
   "execution_count": 69,
   "metadata": {},
   "outputs": [
    {
     "data": {
      "text/plain": [
       "<JaggedArray [[101.1 102.2 103.3] [] [304.4 305.5]] at 0x703899e9fef0>"
      ]
     },
     "execution_count": 69,
     "metadata": {},
     "output_type": "execute_result"
    }
   ],
   "source": [
    "x + numpy.array([100, 200, 300])"
   ]
  },
  {
   "cell_type": "markdown",
   "metadata": {
    "slideshow": {
     "slide_type": "slide"
    }
   },
   "source": [
    "Physics case: consider a jagged array of timing measurements."
   ]
  },
  {
   "cell_type": "code",
   "execution_count": 70,
   "metadata": {},
   "outputs": [
    {
     "data": {
      "text/plain": [
       "<JaggedArray [[4.4 2.6 3.5 -0.6] [1.8 7.4] [] [9.5 5.2 8.5]] at 0x703899e9fe80>"
      ]
     },
     "execution_count": 70,
     "metadata": {},
     "output_type": "execute_result"
    }
   ],
   "source": [
    "times = awkward.fromiter([[4.4, 2.6, 3.5, -0.6], [1.8, 7.4], [], [9.5, 5.2, 8.5]])\n",
    "times"
   ]
  },
  {
   "cell_type": "markdown",
   "metadata": {
    "slideshow": {
     "slide_type": "fragment"
    }
   },
   "source": [
    "Corrections (`t0`) may be applied globally:"
   ]
  },
  {
   "cell_type": "code",
   "execution_count": 72,
   "metadata": {},
   "outputs": [
    {
     "data": {
      "text/plain": [
       "<JaggedArray [[3.8000000000000003 2.0 2.9 -1.2] [1.2000000000000002 6.800000000000001] [] [8.9 4.6000000000000005 7.9]] at 0x703899e9fcf8>"
      ]
     },
     "execution_count": 72,
     "metadata": {},
     "output_type": "execute_result"
    }
   ],
   "source": [
    "times - 0.6"
   ]
  },
  {
   "cell_type": "markdown",
   "metadata": {
    "slideshow": {
     "slide_type": "fragment"
    }
   },
   "source": [
    "Applied per event:"
   ]
  },
  {
   "cell_type": "code",
   "execution_count": 73,
   "metadata": {},
   "outputs": [
    {
     "data": {
      "text/plain": [
       "<JaggedArray [[3.8000000000000003 2.0 2.9 -1.2] [0.6000000000000001 6.2] [] [6.2 1.9000000000000004 5.2]] at 0x703899e9f9b0>"
      ]
     },
     "execution_count": 73,
     "metadata": {},
     "output_type": "execute_result"
    }
   ],
   "source": [
    "times - numpy.array([0.6, 1.2, -0.4, 3.3])"
   ]
  },
  {
   "cell_type": "markdown",
   "metadata": {
    "slideshow": {
     "slide_type": "slide"
    }
   },
   "source": [
    "Or by detector id:"
   ]
  },
  {
   "cell_type": "code",
   "execution_count": 74,
   "metadata": {},
   "outputs": [
    {
     "data": {
      "text/plain": [
       "<JaggedArray [[4.4 2.6 3.5 -0.6] [1.8 7.4] [] [9.5 5.2 8.5]] at 0x703899e9fe80>"
      ]
     },
     "execution_count": 74,
     "metadata": {},
     "output_type": "execute_result"
    }
   ],
   "source": [
    "times"
   ]
  },
  {
   "cell_type": "code",
   "execution_count": 75,
   "metadata": {},
   "outputs": [
    {
     "data": {
      "text/plain": [
       "<JaggedArray [[101 274 333 97] [522 427] [] [931 634 555]] at 0x703899e9f7b8>"
      ]
     },
     "execution_count": 75,
     "metadata": {},
     "output_type": "execute_result"
    }
   ],
   "source": [
    "detid = awkward.fromiter([[101, 274, 333, 97], [522, 427], [], [931, 634, 555]])\n",
    "detid"
   ]
  },
  {
   "cell_type": "code",
   "execution_count": null,
   "metadata": {},
   "outputs": [],
   "source": [
    "lookup = awkward.SparseArray()"
   ]
  }
 ],
 "metadata": {
  "celltoolbar": "Slideshow",
  "kernelspec": {
   "display_name": "Python 3",
   "language": "python",
   "name": "python3"
  },
  "language_info": {
   "codemirror_mode": {
    "name": "ipython",
    "version": 3
   },
   "file_extension": ".py",
   "mimetype": "text/x-python",
   "name": "python",
   "nbconvert_exporter": "python",
   "pygments_lexer": "ipython3",
   "version": "3.7.1"
  }
 },
 "nbformat": 4,
 "nbformat_minor": 2
}
