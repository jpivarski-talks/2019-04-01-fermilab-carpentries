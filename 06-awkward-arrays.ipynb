{
 "cells": [
  {
   "cell_type": "markdown",
   "metadata": {
    "slideshow": {
     "slide_type": "slide"
    }
   },
   "source": [
    "## Awkward arrays: jaggedness and more"
   ]
  },
  {
   "cell_type": "markdown",
   "metadata": {
    "slideshow": {
     "slide_type": "slide"
    }
   },
   "source": [
    "In [04-ttree-data-pyroot.ipynb](04-ttree-data-pyroot.ipynb), we saw some examples of jagged and object data. Uproot uses a package called \"awkward\" to deal with them.\n",
    "\n",
    "This section focuses on various kinds of awkward arrays and what you can do with them (including making them less awkward: into pure Numpy arrays!)."
   ]
  },
  {
   "cell_type": "markdown",
   "metadata": {
    "slideshow": {
     "slide_type": "slide"
    }
   },
   "source": [
    "Everything that comes out of uproot is a Numpy array, a `JaggedArray`, a `Table`, an `ObjectArray`, or some combination."
   ]
  },
  {
   "cell_type": "code",
   "execution_count": null,
   "metadata": {},
   "outputs": [],
   "source": [
    "import uproot\n",
    "a = uproot.open(\"http://scikit-hep.org/uproot/examples/HZZ.root\")[\"events\"].array(\"Muon_Px\")\n",
    "a"
   ]
  },
  {
   "cell_type": "code",
   "execution_count": null,
   "metadata": {},
   "outputs": [],
   "source": [
    "type(a)"
   ]
  },
  {
   "cell_type": "code",
   "execution_count": null,
   "metadata": {},
   "outputs": [],
   "source": [
    "type(a.content)"
   ]
  },
  {
   "cell_type": "code",
   "execution_count": null,
   "metadata": {
    "slideshow": {
     "slide_type": "slide"
    }
   },
   "outputs": [],
   "source": [
    "b = uproot.open(\"http://scikit-hep.org/uproot/examples/HZZ-objects.root\")[\"events\"].array(\"muonp4\")\n",
    "b"
   ]
  },
  {
   "cell_type": "code",
   "execution_count": null,
   "metadata": {},
   "outputs": [],
   "source": [
    "type(b)"
   ]
  },
  {
   "cell_type": "code",
   "execution_count": null,
   "metadata": {},
   "outputs": [],
   "source": [
    "type(b.content)"
   ]
  },
  {
   "cell_type": "code",
   "execution_count": null,
   "metadata": {},
   "outputs": [],
   "source": [
    "type(b.content.content)"
   ]
  },
  {
   "cell_type": "code",
   "execution_count": null,
   "metadata": {},
   "outputs": [],
   "source": [
    "type(b.content.content.contents[\"fX\"])"
   ]
  },
  {
   "cell_type": "markdown",
   "metadata": {
    "slideshow": {
     "slide_type": "slide"
    }
   },
   "source": [
    "If ROOT managed to \"split\" the objects into columns, then the data are in a columnar state: each attribute represented by a contiguous array."
   ]
  },
  {
   "cell_type": "code",
   "execution_count": null,
   "metadata": {},
   "outputs": [],
   "source": [
    "b.content.content.contents[\"fX\"]"
   ]
  },
  {
   "cell_type": "code",
   "execution_count": null,
   "metadata": {},
   "outputs": [],
   "source": [
    "b.content.content.contents[\"fY\"]"
   ]
  },
  {
   "cell_type": "markdown",
   "metadata": {
    "slideshow": {
     "slide_type": "slide"
    }
   },
   "source": [
    "Even if the data are \"unsplit,\" they're presented as a bag of bytes and a Python function to interpret them, as an `ObjectArray`."
   ]
  },
  {
   "cell_type": "code",
   "execution_count": null,
   "metadata": {},
   "outputs": [],
   "source": [
    "c = uproot.open(\"http://scikit-hep.org/uproot/examples/Event.root\")[\"T\"].array(\"fH\")\n",
    "c"
   ]
  },
  {
   "cell_type": "code",
   "execution_count": null,
   "metadata": {},
   "outputs": [],
   "source": [
    "c.content     # bags of bytes, for each entry"
   ]
  },
  {
   "cell_type": "code",
   "execution_count": null,
   "metadata": {},
   "outputs": [],
   "source": [
    "c.generator   # interpretation class"
   ]
  },
  {
   "cell_type": "code",
   "execution_count": null,
   "metadata": {},
   "outputs": [],
   "source": [
    "c[500].show()"
   ]
  },
  {
   "cell_type": "markdown",
   "metadata": {
    "slideshow": {
     "slide_type": "slide"
    }
   },
   "source": [
    "A `JaggedArray` is a list of unequal-sized sublists, encoded as a continuous array of `content` divided up by an array of `offsets`."
   ]
  },
  {
   "cell_type": "code",
   "execution_count": null,
   "metadata": {},
   "outputs": [],
   "source": [
    "import awkward\n",
    "x = awkward.fromiter([[1.1, 2.2, 3.3], [], [4.4, 5.5]])\n",
    "x"
   ]
  },
  {
   "cell_type": "code",
   "execution_count": null,
   "metadata": {},
   "outputs": [],
   "source": [
    "x.content"
   ]
  },
  {
   "cell_type": "code",
   "execution_count": null,
   "metadata": {},
   "outputs": [],
   "source": [
    "x.offsets"
   ]
  },
  {
   "cell_type": "markdown",
   "metadata": {
    "slideshow": {
     "slide_type": "slide"
    }
   },
   "source": [
    "A `Table` is an array of `Row` records, encoded as a continuous array of each column in its `contents` dict."
   ]
  },
  {
   "cell_type": "code",
   "execution_count": null,
   "metadata": {},
   "outputs": [],
   "source": [
    "x = awkward.fromiter([{\"x\": 1, \"y\": 1.1}, {\"x\": 2, \"y\": 2.2}, {\"x\": 3, \"y\": 3.3}])\n",
    "x"
   ]
  },
  {
   "cell_type": "code",
   "execution_count": null,
   "metadata": {},
   "outputs": [],
   "source": [
    "x.tolist()"
   ]
  },
  {
   "cell_type": "code",
   "execution_count": null,
   "metadata": {},
   "outputs": [],
   "source": [
    "x.contents[\"x\"]"
   ]
  },
  {
   "cell_type": "code",
   "execution_count": null,
   "metadata": {},
   "outputs": [],
   "source": [
    "x.contents[\"y\"]"
   ]
  },
  {
   "cell_type": "markdown",
   "metadata": {
    "slideshow": {
     "slide_type": "slide"
    }
   },
   "source": [
    "An `ObjectArray` is a virtual array of objects, represented by some array `content` and a `generator` that creates each object on demand."
   ]
  },
  {
   "cell_type": "code",
   "execution_count": null,
   "metadata": {},
   "outputs": [],
   "source": [
    "class Point:\n",
    "    def __init__(self, x, y):\n",
    "        self.x = x\n",
    "        self.y = y\n",
    "    def __repr__(self):\n",
    "        return \"Point({0}, {1})\".format(self.x, self.y)\n",
    "\n",
    "x = awkward.fromiter([Point(1, 1.1), Point(2, 2.2), Point(3, 3.3)])\n",
    "x"
   ]
  },
  {
   "cell_type": "code",
   "execution_count": null,
   "metadata": {},
   "outputs": [],
   "source": [
    "x.content"
   ]
  },
  {
   "cell_type": "code",
   "execution_count": null,
   "metadata": {},
   "outputs": [],
   "source": [
    "x.content.contents[\"x\"]"
   ]
  },
  {
   "cell_type": "code",
   "execution_count": null,
   "metadata": {},
   "outputs": [],
   "source": [
    "x.content.contents[\"y\"]"
   ]
  },
  {
   "cell_type": "markdown",
   "metadata": {
    "slideshow": {
     "slide_type": "slide"
    }
   },
   "source": [
    "## Jagged operations\n",
    "\n",
    "As much as possible, awkward arrays act like Numpy arrays."
   ]
  },
  {
   "cell_type": "code",
   "execution_count": null,
   "metadata": {},
   "outputs": [],
   "source": [
    "x = awkward.fromiter([[1.1, 2.2, 3.3, 4.4], [5.5, 6.6], [7.7, 8.8, 9.9]])\n",
    "x"
   ]
  },
  {
   "cell_type": "code",
   "execution_count": null,
   "metadata": {},
   "outputs": [],
   "source": [
    "# take the first two inner lists\n",
    "x[:2]"
   ]
  },
  {
   "cell_type": "code",
   "execution_count": null,
   "metadata": {},
   "outputs": [],
   "source": [
    "# take the first two numbers in each inner list\n",
    "x[:, :2]"
   ]
  },
  {
   "cell_type": "code",
   "execution_count": null,
   "metadata": {
    "slideshow": {
     "slide_type": "fragment"
    }
   },
   "outputs": [],
   "source": [
    "# mask outer lists\n",
    "x[[True, False, True]]"
   ]
  },
  {
   "cell_type": "code",
   "execution_count": null,
   "metadata": {},
   "outputs": [],
   "source": [
    "# mask inner lists\n",
    "x[awkward.fromiter([[True, False, True, False], [False, True], [True, True, False]])]"
   ]
  },
  {
   "cell_type": "markdown",
   "metadata": {
    "slideshow": {
     "slide_type": "slide"
    }
   },
   "source": [
    "Reductions (min, max, sum, ...) turn Numpy arrays into scalars and jagged arrays into flat Numpy arrays."
   ]
  },
  {
   "cell_type": "code",
   "execution_count": null,
   "metadata": {},
   "outputs": [],
   "source": [
    "x"
   ]
  },
  {
   "cell_type": "code",
   "execution_count": null,
   "metadata": {},
   "outputs": [],
   "source": [
    "x.min()"
   ]
  },
  {
   "cell_type": "code",
   "execution_count": null,
   "metadata": {},
   "outputs": [],
   "source": [
    "x.max()"
   ]
  },
  {
   "cell_type": "markdown",
   "metadata": {
    "slideshow": {
     "slide_type": "fragment"
    }
   },
   "source": [
    "Empty sublists return the identity of the reduction operation's group. (Group theory \"group.\")"
   ]
  },
  {
   "cell_type": "code",
   "execution_count": null,
   "metadata": {},
   "outputs": [],
   "source": [
    "x = awkward.fromiter([[1.1, 2.2, 3.3], [], [4.4, 5.5]])\n",
    "x"
   ]
  },
  {
   "cell_type": "code",
   "execution_count": null,
   "metadata": {},
   "outputs": [],
   "source": [
    "x.sum()"
   ]
  },
  {
   "cell_type": "code",
   "execution_count": null,
   "metadata": {},
   "outputs": [],
   "source": [
    "x.max()    # what's the identity of max? of min?"
   ]
  },
  {
   "cell_type": "markdown",
   "metadata": {
    "slideshow": {
     "slide_type": "slide"
    }
   },
   "source": [
    "There's also an equivalent of `argmin/argmax` that returns jagged arrays of indexes."
   ]
  },
  {
   "cell_type": "code",
   "execution_count": null,
   "metadata": {},
   "outputs": [],
   "source": [
    "x = awkward.fromiter([[1.1, 2.2, 3.3], [], [4.4, 5.5]])\n",
    "x"
   ]
  },
  {
   "cell_type": "code",
   "execution_count": null,
   "metadata": {},
   "outputs": [],
   "source": [
    "indexes = x.argmax()\n",
    "indexes"
   ]
  },
  {
   "cell_type": "markdown",
   "metadata": {
    "slideshow": {
     "slide_type": "fragment"
    }
   },
   "source": [
    "What's this useful for? Maximizing by one attribute and applying to another."
   ]
  },
  {
   "cell_type": "code",
   "execution_count": null,
   "metadata": {},
   "outputs": [],
   "source": [
    "y = awkward.fromiter([[300, 200, 100], [], [500, 400]])\n",
    "y"
   ]
  },
  {
   "cell_type": "code",
   "execution_count": null,
   "metadata": {},
   "outputs": [],
   "source": [
    "y[indexes]"
   ]
  },
  {
   "cell_type": "markdown",
   "metadata": {
    "slideshow": {
     "slide_type": "fragment"
    }
   },
   "source": [
    "In Numpy, selecting elements by an array of indexes is called \"fancy indexing.\""
   ]
  },
  {
   "cell_type": "markdown",
   "metadata": {
    "slideshow": {
     "slide_type": "slide"
    }
   },
   "source": [
    "Numpy's \"universal functions\" can be applied to awkward arrays. They apply element-by-element and maintain structure."
   ]
  },
  {
   "cell_type": "code",
   "execution_count": null,
   "metadata": {},
   "outputs": [],
   "source": [
    "x"
   ]
  },
  {
   "cell_type": "code",
   "execution_count": null,
   "metadata": {},
   "outputs": [],
   "source": [
    "import numpy\n",
    "numpy.sqrt(x)"
   ]
  },
  {
   "cell_type": "markdown",
   "metadata": {
    "slideshow": {
     "slide_type": "fragment"
    }
   },
   "source": [
    "This allows us to compute things with awkward arrays as we would Numpy arrays—as long as the structure matches."
   ]
  },
  {
   "cell_type": "code",
   "execution_count": null,
   "metadata": {},
   "outputs": [],
   "source": [
    "x + y**2"
   ]
  },
  {
   "cell_type": "markdown",
   "metadata": {
    "slideshow": {
     "slide_type": "slide"
    }
   },
   "source": [
    "This is how all Lorentz vector methods are implemented: array-by-array operations."
   ]
  },
  {
   "cell_type": "code",
   "execution_count": null,
   "metadata": {},
   "outputs": [],
   "source": [
    "b    # a JaggedArray of TLorentzVector objects that also has TLorentzVector methods"
   ]
  },
  {
   "cell_type": "code",
   "execution_count": null,
   "metadata": {},
   "outputs": [],
   "source": [
    "b.pt"
   ]
  },
  {
   "cell_type": "markdown",
   "metadata": {
    "slideshow": {
     "slide_type": "fragment"
    }
   },
   "source": [
    "The `.pt` is a property implemented as"
   ]
  },
  {
   "cell_type": "code",
   "execution_count": null,
   "metadata": {},
   "outputs": [],
   "source": [
    "numpy.sqrt(b[\"fX\"]**2 + b[\"fY\"]**2)"
   ]
  },
  {
   "cell_type": "markdown",
   "metadata": {
    "slideshow": {
     "slide_type": "slide"
    }
   },
   "source": [
    "**Physics case:** add the first and second muon of each event to get Z masses."
   ]
  },
  {
   "cell_type": "code",
   "execution_count": null,
   "metadata": {},
   "outputs": [],
   "source": [
    "first = b[:, 0]\n",
    "second = b[:, 0]"
   ]
  },
  {
   "cell_type": "code",
   "execution_count": null,
   "metadata": {
    "slideshow": {
     "slide_type": "fragment"
    }
   },
   "outputs": [],
   "source": [
    "hastwo = (b.counts >= 2)\n",
    "hastwo"
   ]
  },
  {
   "cell_type": "code",
   "execution_count": null,
   "metadata": {},
   "outputs": [],
   "source": [
    "first = b[hastwo, 0]\n",
    "second = b[hastwo, 1]\n",
    "first                    # an ObjectArray with TLorentzVector methods, but no longer jagged"
   ]
  },
  {
   "cell_type": "code",
   "execution_count": null,
   "metadata": {
    "slideshow": {
     "slide_type": "fragment"
    }
   },
   "outputs": [],
   "source": [
    "(first + second).mass"
   ]
  },
  {
   "cell_type": "code",
   "execution_count": null,
   "metadata": {
    "slideshow": {
     "slide_type": "slide"
    }
   },
   "outputs": [],
   "source": [
    "%matplotlib inline"
   ]
  },
  {
   "cell_type": "code",
   "execution_count": null,
   "metadata": {},
   "outputs": [],
   "source": [
    "import matplotlib.pyplot\n",
    "matplotlib.pyplot.hist((first + second).mass, 100);"
   ]
  },
  {
   "cell_type": "markdown",
   "metadata": {
    "slideshow": {
     "slide_type": "slide"
    }
   },
   "source": [
    "As more analysis groups use awkward arrays, we add more functions for dealing with complex cases."
   ]
  },
  {
   "cell_type": "code",
   "execution_count": null,
   "metadata": {
    "slideshow": {
     "slide_type": "fragment"
    }
   },
   "outputs": [],
   "source": [
    "x = awkward.fromiter([[1.1, 2.2, 3.3, 4.4, 5.5], [], [6.6, 7.7, 8.8]])\n",
    "x"
   ]
  },
  {
   "cell_type": "code",
   "execution_count": null,
   "metadata": {},
   "outputs": [],
   "source": [
    "x.pad(4)                                     # ensure at least two elements"
   ]
  },
  {
   "cell_type": "code",
   "execution_count": null,
   "metadata": {
    "slideshow": {
     "slide_type": "fragment"
    }
   },
   "outputs": [],
   "source": [
    "x.pad(4, clip=True)                          # exactly two elements"
   ]
  },
  {
   "cell_type": "code",
   "execution_count": null,
   "metadata": {
    "slideshow": {
     "slide_type": "fragment"
    }
   },
   "outputs": [],
   "source": [
    "x.pad(4, clip=True).fillna(-1000)            # turn \"None\" into -1000"
   ]
  },
  {
   "cell_type": "code",
   "execution_count": null,
   "metadata": {
    "slideshow": {
     "slide_type": "fragment"
    }
   },
   "outputs": [],
   "source": [
    "x.pad(4, clip=True).fillna(-1000).regular()  # and make it a plain 'ol Numpy array"
   ]
  },
  {
   "cell_type": "code",
   "execution_count": null,
   "metadata": {
    "slideshow": {
     "slide_type": "slide"
    }
   },
   "outputs": [],
   "source": [
    "x"
   ]
  },
  {
   "cell_type": "code",
   "execution_count": null,
   "metadata": {},
   "outputs": [],
   "source": [
    "y = awkward.fromiter([[100, 200], [300], [400, 500]])\n",
    "y"
   ]
  },
  {
   "cell_type": "code",
   "execution_count": null,
   "metadata": {},
   "outputs": [],
   "source": [
    "awkward.JaggedArray.concatenate([x, y])"
   ]
  },
  {
   "cell_type": "code",
   "execution_count": null,
   "metadata": {
    "slideshow": {
     "slide_type": "fragment"
    }
   },
   "outputs": [],
   "source": [
    "awkward.JaggedArray.concatenate([x, y], axis=1)"
   ]
  },
  {
   "cell_type": "markdown",
   "metadata": {
    "slideshow": {
     "slide_type": "slide"
    }
   },
   "source": [
    "Combinatorics: emulating nested \"for\" loops."
   ]
  },
  {
   "cell_type": "code",
   "execution_count": null,
   "metadata": {},
   "outputs": [],
   "source": [
    "x = awkward.fromiter([[1.1, 2.2, 3.3], [], [4.4, 5.5]])\n",
    "y = awkward.fromiter([[10, 20], [30], [40]])"
   ]
  },
  {
   "cell_type": "code",
   "execution_count": null,
   "metadata": {},
   "outputs": [],
   "source": [
    "z = x.cross(y)\n",
    "z"
   ]
  },
  {
   "cell_type": "code",
   "execution_count": null,
   "metadata": {},
   "outputs": [],
   "source": [
    "z.i0"
   ]
  },
  {
   "cell_type": "code",
   "execution_count": null,
   "metadata": {},
   "outputs": [],
   "source": [
    "z.i1"
   ]
  },
  {
   "cell_type": "markdown",
   "metadata": {
    "slideshow": {
     "slide_type": "slide"
    }
   },
   "source": [
    "Using combinatorics to do the Z peak better: use all muons, not just the first two."
   ]
  },
  {
   "cell_type": "code",
   "execution_count": null,
   "metadata": {},
   "outputs": [],
   "source": [
    "b"
   ]
  },
  {
   "cell_type": "code",
   "execution_count": null,
   "metadata": {},
   "outputs": [],
   "source": [
    "pairs = b.cross(b)\n",
    "(pairs.i0 + pairs.i1).mass"
   ]
  },
  {
   "cell_type": "markdown",
   "metadata": {
    "slideshow": {
     "slide_type": "fragment"
    }
   },
   "source": [
    "Why are some masses `2*0.106`?"
   ]
  },
  {
   "cell_type": "markdown",
   "metadata": {
    "slideshow": {
     "slide_type": "fragment"
    }
   },
   "source": [
    "Because it's the mass of a muon four-vector with itself..."
   ]
  },
  {
   "cell_type": "markdown",
   "metadata": {
    "slideshow": {
     "slide_type": "slide"
    }
   },
   "source": [
    "Now without double-counting."
   ]
  },
  {
   "cell_type": "code",
   "execution_count": null,
   "metadata": {},
   "outputs": [],
   "source": [
    "pairs = b.distincts()   # like b.cross(b), but taking only pairs above the diagonal\n",
    "pairs"
   ]
  },
  {
   "cell_type": "code",
   "execution_count": null,
   "metadata": {},
   "outputs": [],
   "source": [
    "(pairs.i0 + pairs.i1).mass"
   ]
  },
  {
   "cell_type": "markdown",
   "metadata": {
    "slideshow": {
     "slide_type": "fragment"
    }
   },
   "source": [
    "More involved example from a CMS analysis: jet cleaning."
   ]
  },
  {
   "cell_type": "code",
   "execution_count": null,
   "metadata": {},
   "outputs": [],
   "source": [
    "dataset = uproot.open(\"http://scikit-hep.org/uproot/examples/HZZ-objects.root\")[\"events\"]\n",
    "muons = dataset.array(\"muonp4\")\n",
    "jets = dataset.array(\"jetp4\")"
   ]
  },
  {
   "cell_type": "code",
   "execution_count": null,
   "metadata": {},
   "outputs": [],
   "source": [
    "def ΔR(combinations):\n",
    "    return combinations.i0.delta_r(combinations.i1)\n",
    "\n",
    "combinations = jets.cross(muons, nested=True)     # nested=True means make a doubly jagged array; \"any()\" reduces one level\n",
    "jets[~(ΔR(combinations) < 0.5).any()]             # \"jets for which not (~) any combination has ΔR < 0.5\""
   ]
  },
  {
   "cell_type": "markdown",
   "metadata": {
    "slideshow": {
     "slide_type": "slide"
    }
   },
   "source": [
    "Numpy has a concept of \"broadcasting,\" in which an array and a scalar may be operated element-by-element, by duplicating the scalar to match the array."
   ]
  },
  {
   "cell_type": "code",
   "execution_count": null,
   "metadata": {},
   "outputs": [],
   "source": [
    "numpy.array([1.1, 2.2, 3.3, 4.4, 5.5]) + 100"
   ]
  },
  {
   "cell_type": "markdown",
   "metadata": {
    "slideshow": {
     "slide_type": "fragment"
    }
   },
   "source": [
    "The jagged equivalent of this is broadcasting a Numpy array to match a jagged array:"
   ]
  },
  {
   "cell_type": "code",
   "execution_count": null,
   "metadata": {},
   "outputs": [],
   "source": [
    "x"
   ]
  },
  {
   "cell_type": "code",
   "execution_count": null,
   "metadata": {},
   "outputs": [],
   "source": [
    "x + numpy.array([100, 200, 300])"
   ]
  },
  {
   "cell_type": "markdown",
   "metadata": {
    "slideshow": {
     "slide_type": "slide"
    }
   },
   "source": [
    "**Physics case:** consider a jagged array of timing measurements."
   ]
  },
  {
   "cell_type": "code",
   "execution_count": null,
   "metadata": {},
   "outputs": [],
   "source": [
    "times = awkward.fromiter([[4.4, 2.6, 3.5, -0.6], [1.8, 7.4], [], [9.5, 5.2, 8.5]])   # in picoseconds, probably\n",
    "times"
   ]
  },
  {
   "cell_type": "markdown",
   "metadata": {
    "slideshow": {
     "slide_type": "fragment"
    }
   },
   "source": [
    "Time-zero corrections (`t0`) may be applied globally:"
   ]
  },
  {
   "cell_type": "code",
   "execution_count": null,
   "metadata": {},
   "outputs": [],
   "source": [
    "times - 0.6"
   ]
  },
  {
   "cell_type": "markdown",
   "metadata": {
    "slideshow": {
     "slide_type": "fragment"
    }
   },
   "source": [
    "Or they may be applied per event:"
   ]
  },
  {
   "cell_type": "code",
   "execution_count": null,
   "metadata": {},
   "outputs": [],
   "source": [
    "times - numpy.array([0.6, 1.2, -0.4, 3.3])"
   ]
  },
  {
   "cell_type": "markdown",
   "metadata": {
    "slideshow": {
     "slide_type": "slide"
    }
   },
   "source": [
    "Or by detector id:"
   ]
  },
  {
   "cell_type": "code",
   "execution_count": null,
   "metadata": {},
   "outputs": [],
   "source": [
    "times"
   ]
  },
  {
   "cell_type": "code",
   "execution_count": null,
   "metadata": {},
   "outputs": [],
   "source": [
    "detid = awkward.fromiter([[101, 274, 101, 97], [274, 97], [], [101, 634, 274]])\n",
    "detid"
   ]
  },
  {
   "cell_type": "code",
   "execution_count": null,
   "metadata": {},
   "outputs": [],
   "source": [
    "lookup = awkward.SparseArray(1000, [97, 101, 274, 634], [0.1, 0.2, 0.3, 0.4])  # 97 → 0.1, 101 → 0.2, 274 → 0.3, 634 → 0.4\n",
    "lookup"
   ]
  },
  {
   "cell_type": "code",
   "execution_count": null,
   "metadata": {},
   "outputs": [],
   "source": [
    "corrections = awkward.JaggedArray.fromoffsets(detid.offsets, lookup[detid.content])\n",
    "corrections"
   ]
  },
  {
   "cell_type": "code",
   "execution_count": null,
   "metadata": {},
   "outputs": [],
   "source": [
    "times - corrections"
   ]
  },
  {
   "cell_type": "markdown",
   "metadata": {
    "slideshow": {
     "slide_type": "slide"
    }
   },
   "source": [
    "## Other awkward types\n",
    "\n",
    "The last example used a `SparseArray`, which I haven't explained yet. The awkward library has quite a few array classes, all mutually composable:"
   ]
  },
  {
   "cell_type": "code",
   "execution_count": null,
   "metadata": {},
   "outputs": [],
   "source": [
    "[x for x in dir(awkward) if \"Array\" in x]"
   ]
  },
  {
   "cell_type": "markdown",
   "metadata": {
    "slideshow": {
     "slide_type": "slide"
    }
   },
   "source": [
    "<table style=\"font-size: 22pt; margin-top: 50px\">\n",
    "    <tr style=\"font-weight: bold\"><td>Array type</td><td>Purpose</td><td>Members</td><td>Usage</td></tr>\n",
    "    <tr><td>JaggedArray</td><td>variable-sized data structures</td><td>starts, stops, content</td><td>ubiquitous</td></tr>\n",
    "    <tr><td>Table</td><td>struct-like objects in columns</td><td>contents (dict)</td><td>ubiquitous</td></tr>\n",
    "    <tr><td>ObjectArray</td><td>arbitrary Python types on demand</td><td>generator, content</td><td>common</td></tr>\n",
    "    <tr><td>Methods</td><td>mix-in methods and properties on any array type</td><td>(none)</td><td>common</td></tr>\n",
    "    <tr><td>MaskedArray</td><td>allow nullable values (None)</td><td>mask (bytes), content</td><td>occasional</td></tr>\n",
    "    <tr><td>BitMaskedArray</td><td>same, but with a bit-mask</td><td>mask (bits), content</td><td>from Arrow</td></tr>\n",
    "    <tr><td>IndexedMaskedArray</td><td>same, but with dense content</td><td>mask-index (integers) content</td><td>rare</td></tr>\n",
    "    <tr><td>IndexedArray</td><td>lazy fancy indexing: \"pointers\"</td><td>index, content</td><td>rare</td></tr>\n",
    "    <tr><td>SparseArray</td><td>huge array defined at a few indexes</td><td>index, content, default</td><td>rare</td></tr>\n",
    "    <tr><td>UnionArray</td><td>heterogeneous types or data sources</td><td>tags, index, contents (list)</td><td>rare</td></tr>\n",
    "    <tr><td>StringArray</td><td>special case: jagged array of char</td><td>starts, stops, content, string methods</td><td>common</td></tr>\n",
    "    <tr><td>ChunkedArray</td><td>discontiguous array presented as a whole</td><td>counts, chunks (lists)</td><td>from Parquet</td></tr>\n",
    "    <tr><td>AppendableArray</td><td>chunked allocation for efficient appending</td><td>counts, chunks (lists)</td><td>rare</td></tr>\n",
    "    <tr><td>VirtualArray</td><td>array generated from a function when needed</td><td>generator, possible cached array</td><td>from Parquet</td></tr>\n",
    "</table>"
   ]
  },
  {
   "cell_type": "markdown",
   "metadata": {
    "slideshow": {
     "slide_type": "slide"
    }
   },
   "source": [
    "Taken together, this allows for some complex data structures, all backed by arrays."
   ]
  },
  {
   "cell_type": "code",
   "execution_count": null,
   "metadata": {},
   "outputs": [],
   "source": [
    "array = awkward.fromiter([[1.1, 2.2, None, 3.3, None],\n",
    "                          [4.4, [5.5]],\n",
    "                          [{\"x\": 6, \"y\": {\"z\": 7}}, None, {\"x\": 8, \"y\": {\"z\": 9}}]\n",
    "                         ])\n",
    "array"
   ]
  },
  {
   "cell_type": "code",
   "execution_count": null,
   "metadata": {
    "slideshow": {
     "slide_type": "fragment"
    }
   },
   "outputs": [],
   "source": [
    "print(array.type)"
   ]
  },
  {
   "cell_type": "markdown",
   "metadata": {
    "slideshow": {
     "slide_type": "fragment"
    }
   },
   "source": [
    "\"An array of 3 elements, containing arrays of any number of elements, containing nullable (`?`) data that may be `float64`, jagged arrays of `float64`, or records with fields `\"x\"` (`int64`) and `\"y\"` (records with single field `\"z\"` (`int64`)).\""
   ]
  },
  {
   "cell_type": "markdown",
   "metadata": {
    "slideshow": {
     "slide_type": "slide"
    }
   },
   "source": [
    "All the same broadcasting and slicing rules apply. They are complex data structures with Numpy idioms."
   ]
  },
  {
   "cell_type": "code",
   "execution_count": null,
   "metadata": {
    "slideshow": {
     "slide_type": "-"
    }
   },
   "outputs": [],
   "source": [
    "array.tolist()"
   ]
  },
  {
   "cell_type": "code",
   "execution_count": null,
   "metadata": {
    "slideshow": {
     "slide_type": "-"
    }
   },
   "outputs": [],
   "source": [
    "(array + 100).tolist()"
   ]
  },
  {
   "cell_type": "code",
   "execution_count": null,
   "metadata": {
    "slideshow": {
     "slide_type": "-"
    }
   },
   "outputs": [],
   "source": [
    "array[:, -2:].tolist()"
   ]
  },
  {
   "cell_type": "code",
   "execution_count": null,
   "metadata": {
    "slideshow": {
     "slide_type": "slide"
    }
   },
   "outputs": [],
   "source": [
    "# get Higgs → ZZ events\n",
    "tree = uproot.open(\"http://scikit-hep.org/uproot/examples/HZZ.root\")[\"events\"]\n",
    "\n",
    "# make a Table of MET (missing energy, one per event)\n",
    "events = awkward.Table(tree.arrays([\"MET_px\", \"MET_py\"], namedecode=\"utf-8\"))\n",
    "\n",
    "# add a jagged table (JaggedArray of Table) so muons share a single \"offsets\"\n",
    "events[\"muons\"] = awkward.JaggedArray.zip(tree.arrays([\"Muon_Px\", \"Muon_Py\", \"Muon_Pz\"], namedecode=\"utf-8\"))\n",
    "\n",
    "# add a jagged table of jets in the same way\n",
    "events[\"jets\"] = awkward.JaggedArray.zip(tree.arrays([\"Jet_Px\", \"Jet_Py\", \"Jet_Pz\"], namedecode=\"utf-8\"))\n",
    "\n",
    "# here they are\n",
    "events"
   ]
  },
  {
   "cell_type": "code",
   "execution_count": null,
   "metadata": {
    "slideshow": {
     "slide_type": "fragment"
    }
   },
   "outputs": [],
   "source": [
    "print(events.type)"
   ]
  },
  {
   "cell_type": "code",
   "execution_count": null,
   "metadata": {
    "slideshow": {
     "slide_type": "slide"
    }
   },
   "outputs": [],
   "source": [
    "events[0].tolist()"
   ]
  },
  {
   "cell_type": "code",
   "execution_count": null,
   "metadata": {},
   "outputs": [],
   "source": [
    "events[3].tolist()"
   ]
  },
  {
   "cell_type": "markdown",
   "metadata": {
    "slideshow": {
     "slide_type": "slide"
    }
   },
   "source": [
    "## Persistence\n",
    "\n",
    "These data structures can be saved and restored from disk in a variety of formats. (Not yet for ROOT, but that's planned for this summer.)"
   ]
  },
  {
   "cell_type": "code",
   "execution_count": null,
   "metadata": {},
   "outputs": [],
   "source": [
    "!rm tmp.awkd"
   ]
  },
  {
   "cell_type": "code",
   "execution_count": null,
   "metadata": {},
   "outputs": [],
   "source": [
    "awkward.save(\"tmp.awkd\", events)             # this is just like numpy.save"
   ]
  },
  {
   "cell_type": "code",
   "execution_count": null,
   "metadata": {
    "scrolled": true
   },
   "outputs": [],
   "source": [
    "awkward.load(\"tmp.awkd\")[3].tolist()         # and numpy.load"
   ]
  },
  {
   "cell_type": "code",
   "execution_count": null,
   "metadata": {
    "slideshow": {
     "slide_type": "slide"
    }
   },
   "outputs": [],
   "source": [
    "!rm tmp.hdf5"
   ]
  },
  {
   "cell_type": "code",
   "execution_count": null,
   "metadata": {
    "slideshow": {
     "slide_type": "-"
    }
   },
   "outputs": [],
   "source": [
    "import h5py\n",
    "file = awkward.hdf5(h5py.File(\"tmp.hdf5\"))   # wrap HDF5 file as an awkward HDF5 file\n",
    "file"
   ]
  },
  {
   "cell_type": "code",
   "execution_count": null,
   "metadata": {},
   "outputs": [],
   "source": [
    "file[\"events\"] = events                      # translates awkward structures into groups of flat arrays"
   ]
  },
  {
   "cell_type": "code",
   "execution_count": null,
   "metadata": {},
   "outputs": [],
   "source": [
    "file[\"events\"][3].tolist()                   # and translates back"
   ]
  },
  {
   "cell_type": "markdown",
   "metadata": {
    "slideshow": {
     "slide_type": "slide"
    }
   },
   "source": [
    "Parquet is a format for columnar data, currently limited to jagged arrays, not jagged tables."
   ]
  },
  {
   "cell_type": "code",
   "execution_count": null,
   "metadata": {},
   "outputs": [],
   "source": [
    "tree = uproot.open(\"http://scikit-hep.org/uproot/examples/HZZ.root\")[\"events\"]\n",
    "events = awkward.Table(tree.arrays([\"MET_px\", \"MET_py\", \"Muon_Px\", \"Muon_Py\", \"Muon_Pz\"], namedecode=\"utf-8\"))\n",
    "print(events.type)"
   ]
  },
  {
   "cell_type": "code",
   "execution_count": null,
   "metadata": {},
   "outputs": [],
   "source": [
    "awkward.toparquet(\"tmp.parquet\", events)"
   ]
  },
  {
   "cell_type": "code",
   "execution_count": null,
   "metadata": {},
   "outputs": [],
   "source": [
    "reconstituted = awkward.fromparquet(\"tmp.parquet\")\n",
    "reconstituted"
   ]
  },
  {
   "cell_type": "code",
   "execution_count": null,
   "metadata": {
    "slideshow": {
     "slide_type": "fragment"
    }
   },
   "outputs": [],
   "source": [
    "reconstituted.chunks[0]                       # chunks are Parquet \"row groups\""
   ]
  },
  {
   "cell_type": "code",
   "execution_count": null,
   "metadata": {},
   "outputs": [],
   "source": [
    "reconstituted.chunks[0].contents[\"MET_px\"]    # fields are VirtualArrays: read on demand"
   ]
  },
  {
   "cell_type": "code",
   "execution_count": null,
   "metadata": {},
   "outputs": [],
   "source": [
    "reconstituted.chunks[0].contents[\"MET_px\"].array"
   ]
  },
  {
   "cell_type": "code",
   "execution_count": null,
   "metadata": {
    "slideshow": {
     "slide_type": "slide"
    }
   },
   "outputs": [],
   "source": [
    "print(events.type, end=\"\\n\\n\")                # all data from Parquet is in-principle nullable\n",
    "print(reconstituted.type)"
   ]
  },
  {
   "cell_type": "markdown",
   "metadata": {},
   "source": [
    "The high-level type does not indicate that the data contain `ChunkedArrays` and `VirtualArrays` (or `IndexedArrays`, if it had them). Those are low-level details of how the data are delivered."
   ]
  },
  {
   "cell_type": "code",
   "execution_count": null,
   "metadata": {
    "slideshow": {
     "slide_type": "fragment"
    }
   },
   "outputs": [],
   "source": [
    "events[3].tolist()"
   ]
  },
  {
   "cell_type": "code",
   "execution_count": null,
   "metadata": {},
   "outputs": [],
   "source": [
    "reconstituted[3].tolist()"
   ]
  },
  {
   "cell_type": "markdown",
   "metadata": {
    "slideshow": {
     "slide_type": "slide"
    }
   },
   "source": [
    "## Getting fancy: cross-references"
   ]
  },
  {
   "cell_type": "code",
   "execution_count": null,
   "metadata": {},
   "outputs": [],
   "source": [
    "data = awkward.fromiter([\n",
    "    {\"tracks\": [{\"phi\": 1.0}, {\"phi\": 2.0}],\n",
    "     \"hits\": [{\"detid\": 100, \"pos\": 3.7}, {\"detid\": 50, \"pos\": 2.1}, {\"detid\": 75, \"pos\": 2.5}]},\n",
    "    {\"tracks\": [{\"phi\": 1.5}],\n",
    "     \"hits\": [{\"detid\": 100, \"pos\": 1.4}, {\"detid\": 50, \"pos\": 0.7}, {\"detid\": 75, \"pos\": 3.0}]}])\n",
    "print(data.type)"
   ]
  },
  {
   "cell_type": "code",
   "execution_count": null,
   "metadata": {},
   "outputs": [],
   "source": [
    "data[\"tracks\"][\"hits-on-track\"] = \\\n",
    "    awkward.JaggedArray.fromcounts([2, 1],\n",
    "        awkward.JaggedArray.fromcounts([2, 2, 1, 1],\n",
    "            awkward.IndexedArray([0, 1, 1, 2, 3, 5],\n",
    "                data[\"hits\"].content)))"
   ]
  },
  {
   "cell_type": "code",
   "execution_count": null,
   "metadata": {},
   "outputs": [],
   "source": [
    "data.tolist()"
   ]
  },
  {
   "cell_type": "code",
   "execution_count": null,
   "metadata": {
    "slideshow": {
     "slide_type": "slide"
    }
   },
   "outputs": [],
   "source": [
    "data.tolist()"
   ]
  },
  {
   "cell_type": "code",
   "execution_count": null,
   "metadata": {},
   "outputs": [],
   "source": [
    "data[\"hits\"][\"pos\"] = data[\"hits\"][\"pos\"] - 0.5"
   ]
  },
  {
   "cell_type": "code",
   "execution_count": null,
   "metadata": {},
   "outputs": [],
   "source": [
    "data.tolist()"
   ]
  },
  {
   "cell_type": "markdown",
   "metadata": {
    "slideshow": {
     "slide_type": "slide"
    }
   },
   "source": [
    "## Getting fancier: cyclic references"
   ]
  },
  {
   "cell_type": "code",
   "execution_count": null,
   "metadata": {},
   "outputs": [],
   "source": [
    "infinite_well = awkward.JaggedArray([0], [1], [12345])\n",
    "infinite_well.content = infinite_well"
   ]
  },
  {
   "cell_type": "code",
   "execution_count": null,
   "metadata": {},
   "outputs": [],
   "source": [
    "len(infinite_well), len(infinite_well[0]), len(infinite_well[0, 0]), len(infinite_well[0, 0, 0])"
   ]
  },
  {
   "cell_type": "code",
   "execution_count": null,
   "metadata": {
    "scrolled": true,
    "slideshow": {
     "slide_type": "fragment"
    }
   },
   "outputs": [],
   "source": [
    "infinite_well"
   ]
  },
  {
   "cell_type": "code",
   "execution_count": null,
   "metadata": {
    "slideshow": {
     "slide_type": "slide"
    }
   },
   "outputs": [],
   "source": [
    "tree = awkward.fromiter([\n",
    "    {\"value\": 1.23, \"left\":    1, \"right\":    2},     # node 0   (how trees are often\n",
    "    {\"value\": 3.21, \"left\":    3, \"right\":    4},     # node 1    stored in DataFrames)\n",
    "    {\"value\": 9.99, \"left\":    5, \"right\":    6},     # node 2\n",
    "    {\"value\": 3.14, \"left\":    7, \"right\": None},     # node 3\n",
    "    {\"value\": 2.71, \"left\": None, \"right\":    8},     # node 4\n",
    "    {\"value\": 5.55, \"left\": None, \"right\": None},     # node 5\n",
    "    {\"value\": 8.00, \"left\": None, \"right\": None},     # node 6\n",
    "    {\"value\": 9.00, \"left\": None, \"right\": None},     # node 7\n",
    "    {\"value\": 0.00, \"left\": None, \"right\": None},     # node 8\n",
    "])\n",
    "left = tree.contents[\"left\"].content\n",
    "right = tree.contents[\"right\"].content\n",
    "left[(left < 0) | (left > 8)] = 0         # satisfy overzealous validity checks\n",
    "right[(right < 0) | (right > 8)] = 0\n",
    "tree.contents[\"left\"].content = awkward.IndexedArray(left, tree)\n",
    "tree.contents[\"right\"].content = awkward.IndexedArray(right, tree)"
   ]
  },
  {
   "cell_type": "code",
   "execution_count": null,
   "metadata": {},
   "outputs": [],
   "source": [
    "tree[0].tolist()"
   ]
  }
 ],
 "metadata": {
  "celltoolbar": "Slideshow",
  "kernelspec": {
   "display_name": "Python 3",
   "language": "python",
   "name": "python3"
  },
  "language_info": {
   "codemirror_mode": {
    "name": "ipython",
    "version": 3
   },
   "file_extension": ".py",
   "mimetype": "text/x-python",
   "name": "python",
   "nbconvert_exporter": "python",
   "pygments_lexer": "ipython3",
   "version": "3.7.2"
  }
 },
 "nbformat": 4,
 "nbformat_minor": 2
}
