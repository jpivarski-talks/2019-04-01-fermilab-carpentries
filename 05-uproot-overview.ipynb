{
 "cells": [
  {
   "cell_type": "markdown",
   "metadata": {
    "slideshow": {
     "slide_type": "slide"
    }
   },
   "source": [
    "## uproot overview"
   ]
  },
  {
   "cell_type": "markdown",
   "metadata": {
    "slideshow": {
     "slide_type": "slide"
    }
   },
   "source": [
    "Uproot is a pure Python + Numpy reader of ROOT files.\n",
    "\n",
    "   * Without a C++ layer, there are no memory ownership issues between C++ and Python.\n",
    "   * Different design: instead of delivering event objects, uproot delivers columns of data as (jagged) arrays.\n",
    "   * Not hampered by slow Python execution because data in ROOT files are laid out as (jagged) arrays: just need to cast them as Numpy arrays.\n",
    "\n",
    "_(Disclosure: I'm the author of uproot.)_"
   ]
  },
  {
   "cell_type": "markdown",
   "metadata": {
    "slideshow": {
     "slide_type": "slide"
    }
   },
   "source": [
    "In uproot, files, directories within files, and TTrees/TBranches behave like Python dicts."
   ]
  },
  {
   "cell_type": "code",
   "execution_count": 2,
   "metadata": {},
   "outputs": [
    {
     "data": {
      "text/plain": [
       "[b'ProcessID0;1', b'htime;1', b'T;1', b'hstat;1']"
      ]
     },
     "execution_count": 2,
     "metadata": {},
     "output_type": "execute_result"
    }
   ],
   "source": [
    "import uproot\n",
    "file = uproot.open(\"http://scikit-hep.org/uproot/examples/Event.root\")\n",
    "file.keys()"
   ]
  },
  {
   "cell_type": "code",
   "execution_count": 3,
   "metadata": {},
   "outputs": [
    {
     "data": {
      "text/plain": [
       "<TProcessID b'ProcessID0' at 0x7f35c07ad8d0>"
      ]
     },
     "execution_count": 3,
     "metadata": {},
     "output_type": "execute_result"
    }
   ],
   "source": [
    "file[\"ProcessID0\"]"
   ]
  },
  {
   "cell_type": "code",
   "execution_count": 4,
   "metadata": {},
   "outputs": [
    {
     "data": {
      "text/plain": [
       "<b'TH1F' b'htime' 0x7f35c07ab188>"
      ]
     },
     "execution_count": 4,
     "metadata": {},
     "output_type": "execute_result"
    }
   ],
   "source": [
    "file[\"htime\"]"
   ]
  },
  {
   "cell_type": "code",
   "execution_count": 7,
   "metadata": {},
   "outputs": [
    {
     "data": {
      "text/plain": [
       "<TTree b'T' at 0x7f35c0765780>"
      ]
     },
     "execution_count": 7,
     "metadata": {},
     "output_type": "execute_result"
    }
   ],
   "source": [
    "tree = file[\"T\"]\n",
    "tree"
   ]
  },
  {
   "cell_type": "code",
   "execution_count": 21,
   "metadata": {},
   "outputs": [
    {
     "data": {
      "text/plain": [
       "[b'event']"
      ]
     },
     "execution_count": 21,
     "metadata": {},
     "output_type": "execute_result"
    }
   ],
   "source": [
    "tree.keys()   # allkeys()"
   ]
  },
  {
   "cell_type": "markdown",
   "metadata": {
    "slideshow": {
     "slide_type": "slide"
    }
   },
   "source": [
    "To get a sense of what a TTree contains, use `show`."
   ]
  },
  {
   "cell_type": "code",
   "execution_count": 22,
   "metadata": {},
   "outputs": [
    {
     "name": "stdout",
     "output_type": "stream",
     "text": [
      "event                      TStreamerInfo              None\n",
      "TObject                    TStreamerInfo              None\n",
      "fUniqueID                  TStreamerBasicType         asdtype('>u4')\n",
      "fBits                      TStreamerBasicType         asdtype('>u4')\n",
      "\n",
      "fType[20]                  TStreamerBasicType         asdtype(\"('i1', (20,))\")\n",
      "fEventName                 TStreamerBasicType         asstring(4)\n",
      "fNtrack                    TStreamerBasicType         asdtype('>i4')\n",
      "fNseg                      TStreamerBasicType         asdtype('>i4')\n",
      "fNvertex                   TStreamerBasicType         asdtype('>u4')\n",
      "fFlag                      TStreamerBasicType         asdtype('>u4')\n",
      "fTemperature               TStreamerBasicType         asdtype('>f4', 'float64')\n",
      "fMeasures[10]              TStreamerBasicType         asdtype(\"('>i4', (10,))\")\n",
      "fMatrix[4][4]              TStreamerBasicType         asdtype(\"('>f4', (4, 4))\", \"('<f8', (4, 4))\")\n",
      "fClosestDistance           TStreamerBasicPointer      None\n",
      "fEvtHdr                    TStreamerObjectAny         None\n",
      "fEvtHdr.fEvtNum            TStreamerBasicType         asdtype('>i4')\n",
      "fEvtHdr.fRun               TStreamerBasicType         asdtype('>i4')\n",
      "fEvtHdr.fDate              TStreamerBasicType         asdtype('>i4')\n",
      "\n",
      "fTracks                    TStreamerObjectPointer     None\n",
      "fTracks.fUniqueID          TStreamerBasicType         asjagged(asdtype('>u4'))\n",
      "fTracks.fBits              TStreamerBasicType         asjagged(asdtype('>u4'))\n",
      "fTracks.fPx                TStreamerBasicType         asjagged(asdtype('>f4'))\n",
      "fTracks.fPy                TStreamerBasicType         asjagged(asdtype('>f4'))\n",
      "fTracks.fPz                TStreamerBasicType         asjagged(asdtype('>f4'))\n",
      "fTracks.fRandom            TStreamerBasicType         asjagged(asdtype('>f4'))\n",
      "fTracks.fMass2             TStreamerBasicType         asjagged(asfloat16(0.0, 0.0, 8, dtype([('exponent', 'u1'), ('mantissa', '>u2')]), dtype('float32')))\n",
      "fTracks.fBx                TStreamerBasicType         asjagged(asfloat16(0.0, 0.0, 10, dtype([('exponent', 'u1'), ('mantissa', '>u2')]), dtype('float32')))\n",
      "fTracks.fBy                TStreamerBasicType         asjagged(asfloat16(0.0, 0.0, 10, dtype([('exponent', 'u1'), ('mantissa', '>u2')]), dtype('float32')))\n",
      "fTracks.fMeanCharge        TStreamerBasicType         asjagged(asdtype('>f4'))\n",
      "fTracks.fXfirst            TStreamerBasicType         asjagged(asfloat16(0, 0, 12, dtype([('exponent', 'u1'), ('mantissa', '>u2')]), dtype('float32')))\n",
      "fTracks.fXlast             TStreamerBasicType         asjagged(asfloat16(0, 0, 12, dtype([('exponent', 'u1'), ('mantissa', '>u2')]), dtype('float32')))\n",
      "fTracks.fYfirst            TStreamerBasicType         asjagged(asfloat16(0, 0, 12, dtype([('exponent', 'u1'), ('mantissa', '>u2')]), dtype('float32')))\n",
      "fTracks.fYlast             TStreamerBasicType         asjagged(asfloat16(0, 0, 12, dtype([('exponent', 'u1'), ('mantissa', '>u2')]), dtype('float32')))\n",
      "fTracks.fZfirst            TStreamerBasicType         asjagged(asfloat16(0, 0, 12, dtype([('exponent', 'u1'), ('mantissa', '>u2')]), dtype('float32')))\n",
      "fTracks.fZlast             TStreamerBasicType         asjagged(asfloat16(0, 0, 12, dtype([('exponent', 'u1'), ('mantissa', '>u2')]), dtype('float32')))\n",
      "fTracks.fCharge            TStreamerBasicType         asjagged(asdouble32(-1.0, 1.0, 2, dtype('>u4'), dtype('float64')))\n",
      "fTracks.fVertex[3]         TStreamerBasicType         asjagged(asdouble32(-30.0, 30.0, 16, dtype(('>u4', (3,))), dtype(('<f8', (3,)))))\n",
      "fTracks.fNpoint            TStreamerBasicType         asjagged(asdtype('>i4'))\n",
      "fTracks.fValid             TStreamerBasicType         asjagged(asdtype('>i2'))\n",
      "fTracks.fNsp               TStreamerBasicType         asjagged(asdtype('>u4'))\n",
      "fTracks.fPointValue        TStreamerBasicPointer      None\n",
      "fTracks.fTriggerBits.fUniqueID\n",
      "                           TStreamerBasicType         asjagged(asdtype('>u4'))\n",
      "fTracks.fTriggerBits.fBits TStreamerBasicType         asjagged(asdtype('>u4'))\n",
      "fTracks.fTriggerBits.fNbits\n",
      "                           TStreamerBasicType         asjagged(asdtype('>u4'))\n",
      "fTracks.fTriggerBits.fNbytes\n",
      "                           TStreamerBasicType         asjagged(asdtype('>u4'))\n",
      "fTracks.fTriggerBits.fAllBits\n",
      "                           TStreamerBasicPointer      asjagged(asdtype('uint8'), 1)\n",
      "fTracks.fTArray[3]         TStreamerBasicType         asjagged(asdtype(\"('>f4', (3,))\"))\n",
      "\n",
      "fHighPt                    TStreamerObjectPointer     asgenobj(TRefArray)\n",
      "fMuons                     TStreamerObjectPointer     asgenobj(TRefArray)\n",
      "fLastTrack                 TStreamerInfo              asgenobj(TRef)\n",
      "fWebHistogram              TStreamerInfo              asgenobj(TRef)\n",
      "fH                         TStreamerObjectPointer     asgenobj(TH1F)\n",
      "fTriggerBits               TStreamerInfo              None\n",
      "fTriggerBits.TObject       (no streamer)              None\n",
      "fTriggerBits.fUniqueID     (no streamer)              asdtype('>u4')\n",
      "fTriggerBits.fBits         (no streamer)              asdtype('>u4')\n",
      "\n",
      "fTriggerBits.fNbits        TStreamerBasicType         asdtype('>u4')\n",
      "fTriggerBits.fNbytes       TStreamerBasicType         asdtype('>u4')\n",
      "fTriggerBits.fAllBits      TStreamerBasicPointer      asjagged(asdtype('uint8'), 1)\n",
      "\n",
      "fIsValid                   TStreamerBasicType         asdtype('bool')\n",
      "\n"
     ]
    }
   ],
   "source": [
    "tree.show()"
   ]
  },
  {
   "cell_type": "markdown",
   "metadata": {
    "slideshow": {
     "slide_type": "slide"
    }
   },
   "source": [
    "To read a (jagged) array, call `array` or `arrays`."
   ]
  },
  {
   "cell_type": "code",
   "execution_count": 26,
   "metadata": {},
   "outputs": [
    {
     "data": {
      "text/plain": [
       "<JaggedArray [[4.5 4.5 4.5 ... 4.5 4.5 4.5] [4.5 4.5 4.5 ... 4.5 4.5 4.5] [8.90625 8.90625 8.90625 ... 8.90625 8.90625 8.90625] ... [4.5 4.5 4.5 ... 4.5 4.5 4.5] [4.5 4.5 4.5 ... 4.5 4.5 4.5] [8.90625 8.90625 8.90625 ... 8.90625 8.90625 8.90625]] at 0x7f35c06c75c0>"
      ]
     },
     "execution_count": 26,
     "metadata": {},
     "output_type": "execute_result"
    }
   ],
   "source": [
    "tree[\"fTracks.fMass2\"].array()"
   ]
  },
  {
   "cell_type": "code",
   "execution_count": 27,
   "metadata": {},
   "outputs": [
    {
     "data": {
      "text/plain": [
       "<JaggedArray [[4.5 4.5 4.5 ... 4.5 4.5 4.5] [4.5 4.5 4.5 ... 4.5 4.5 4.5] [8.90625 8.90625 8.90625 ... 8.90625 8.90625 8.90625] ... [4.5 4.5 4.5 ... 4.5 4.5 4.5] [4.5 4.5 4.5 ... 4.5 4.5 4.5] [8.90625 8.90625 8.90625 ... 8.90625 8.90625 8.90625]] at 0x7f35bc427710>"
      ]
     },
     "execution_count": 27,
     "metadata": {},
     "output_type": "execute_result"
    }
   ],
   "source": [
    "tree.array(\"fTracks.fMass2\")"
   ]
  },
  {
   "cell_type": "code",
   "execution_count": 28,
   "metadata": {},
   "outputs": [
    {
     "data": {
      "text/plain": [
       "{b'fTracks.fMass2': <JaggedArray [[4.5 4.5 4.5 ... 4.5 4.5 4.5] [4.5 4.5 4.5 ... 4.5 4.5 4.5] [8.90625 8.90625 8.90625 ... 8.90625 8.90625 8.90625] ... [4.5 4.5 4.5 ... 4.5 4.5 4.5] [4.5 4.5 4.5 ... 4.5 4.5 4.5] [8.90625 8.90625 8.90625 ... 8.90625 8.90625 8.90625]] at 0x7f35bc55d940>,\n",
       " b'fTracks.fCharge': <JaggedArray [[1.0 1.0 1.0 ... 1.0 1.0 0.0] [1.0 0.0 0.0 ... 0.0 1.0 -1.0] [-1.0 1.0 1.0 ... -1.0 1.0 1.0] ... [1.0 1.0 1.0 ... 0.0 -1.0 1.0] [0.0 0.0 1.0 ... 1.0 0.0 1.0] [1.0 -1.0 0.0 ... 0.0 0.0 1.0]] at 0x7f35bc55d5f8>}"
      ]
     },
     "execution_count": 28,
     "metadata": {},
     "output_type": "execute_result"
    }
   ],
   "source": [
    "tree.arrays([\"fTracks.fMass2\", \"fTracks.fCharge\"])"
   ]
  },
  {
   "cell_type": "markdown",
   "metadata": {
    "slideshow": {
     "slide_type": "slide"
    }
   },
   "source": [
    "## Interpretations\n",
    "\n",
    "The translation from ROOT data to an array is given by the branch's `interpretation` (if it has one)."
   ]
  },
  {
   "cell_type": "code",
   "execution_count": 29,
   "metadata": {},
   "outputs": [
    {
     "data": {
      "text/plain": [
       "asdtype('>i4')"
      ]
     },
     "execution_count": 29,
     "metadata": {},
     "output_type": "execute_result"
    }
   ],
   "source": [
    "tree[\"fNtrack\"].interpretation"
   ]
  },
  {
   "cell_type": "code",
   "execution_count": 30,
   "metadata": {},
   "outputs": [
    {
     "data": {
      "text/plain": [
       "asdtype('>f4', 'float64')"
      ]
     },
     "execution_count": 30,
     "metadata": {},
     "output_type": "execute_result"
    }
   ],
   "source": [
    "tree[\"fTemperature\"].interpretation"
   ]
  },
  {
   "cell_type": "code",
   "execution_count": 31,
   "metadata": {},
   "outputs": [
    {
     "data": {
      "text/plain": [
       "asdtype(\"('>f4', (4, 4))\", \"('<f8', (4, 4))\")"
      ]
     },
     "execution_count": 31,
     "metadata": {},
     "output_type": "execute_result"
    }
   ],
   "source": [
    "tree[\"fMatrix[4][4]\"].interpretation"
   ]
  },
  {
   "cell_type": "code",
   "execution_count": 32,
   "metadata": {},
   "outputs": [
    {
     "data": {
      "text/plain": [
       "asjagged(asfloat16(0.0, 0.0, 8, dtype([('exponent', 'u1'), ('mantissa', '>u2')]), dtype('float32')))"
      ]
     },
     "execution_count": 32,
     "metadata": {},
     "output_type": "execute_result"
    }
   ],
   "source": [
    "tree[\"fTracks.fMass2\"].interpretation"
   ]
  },
  {
   "cell_type": "code",
   "execution_count": 33,
   "metadata": {},
   "outputs": [
    {
     "data": {
      "text/plain": [
       "asjagged(asdouble32(-1.0, 1.0, 2, dtype('>u4'), dtype('float64')))"
      ]
     },
     "execution_count": 33,
     "metadata": {},
     "output_type": "execute_result"
    }
   ],
   "source": [
    "tree[\"fTracks.fCharge\"].interpretation"
   ]
  },
  {
   "cell_type": "code",
   "execution_count": 40,
   "metadata": {},
   "outputs": [
    {
     "data": {
      "text/plain": [
       "asgenobj(TH1F)"
      ]
     },
     "execution_count": 40,
     "metadata": {},
     "output_type": "execute_result"
    }
   ],
   "source": [
    "tree[\"fH\"].interpretation"
   ]
  },
  {
   "cell_type": "markdown",
   "metadata": {
    "slideshow": {
     "slide_type": "slide"
    }
   },
   "source": [
    "If a branch has no `interpretation`, it can't be read. Either it's a no-data branch (exists just for structure) or it's an instance of uproot's incompleteness."
   ]
  },
  {
   "cell_type": "code",
   "execution_count": 47,
   "metadata": {},
   "outputs": [
    {
     "name": "stdout",
     "output_type": "stream",
     "text": [
      "None\n"
     ]
    }
   ],
   "source": [
    "print(tree[\"fTracks.fPointValue\"].interpretation)   # as of April 2019, this one has no interpretation"
   ]
  },
  {
   "cell_type": "markdown",
   "metadata": {},
   "source": [
    "The bytes can be read and even divided along entry boundaries, but we don't yet know how to turn the bytes into an array."
   ]
  },
  {
   "cell_type": "code",
   "execution_count": 48,
   "metadata": {},
   "outputs": [
    {
     "data": {
      "text/plain": [
       "asjagged(asdtype('uint8'))"
      ]
     },
     "execution_count": 48,
     "metadata": {},
     "output_type": "execute_result"
    }
   ],
   "source": [
    "uproot.asdebug"
   ]
  },
  {
   "cell_type": "code",
   "execution_count": 49,
   "metadata": {},
   "outputs": [
    {
     "data": {
      "text/plain": [
       "<JaggedArray [[1 85 85 ... 170 170 170] [0 1 85 ... 85 85 85] [0 1 85 ... 85 85 0] ... [0 1 85 ... 170 170 170] [0 0 1 ... 170 170 170] [1 85 85 ... 170 170 170]] at 0x7f35c072bb70>"
      ]
     },
     "execution_count": 49,
     "metadata": {},
     "output_type": "execute_result"
    }
   ],
   "source": [
    "tree[\"fTracks.fPointValue\"].array(uproot.asdebug)"
   ]
  },
  {
   "cell_type": "markdown",
   "metadata": {
    "slideshow": {
     "slide_type": "slide"
    }
   },
   "source": [
    "If the desired arrays are too big to load into memory, you can restrict it to a range of entries (uproot only reads as many baskets as it needs to)."
   ]
  },
  {
   "cell_type": "code",
   "execution_count": 41,
   "metadata": {},
   "outputs": [
    {
     "data": {
      "text/plain": [
       "1000"
      ]
     },
     "execution_count": 41,
     "metadata": {},
     "output_type": "execute_result"
    }
   ],
   "source": [
    "tree.numentries"
   ]
  },
  {
   "cell_type": "code",
   "execution_count": 42,
   "metadata": {},
   "outputs": [
    {
     "data": {
      "text/plain": [
       "5"
      ]
     },
     "execution_count": 42,
     "metadata": {},
     "output_type": "execute_result"
    }
   ],
   "source": [
    "tree[\"fMatrix[4][4]\"].numbaskets"
   ]
  },
  {
   "cell_type": "code",
   "execution_count": 43,
   "metadata": {},
   "outputs": [
    {
     "data": {
      "text/plain": [
       "array([[[-1.48842251,  0.22893755,  0.73481667,  0.        ],\n",
       "        [-0.81405222,  0.32352245,  3.30477071,  0.        ],\n",
       "        [ 1.07104862,  1.1267221 ,  1.35107005,  0.        ],\n",
       "        [ 0.        ,  0.        ,  0.        ,  0.        ]],\n",
       "\n",
       "       [[ 0.72956365,  0.36551571, -0.92489249,  0.        ],\n",
       "        [-0.08615459,  0.70054299,  0.84200442,  0.        ],\n",
       "        [-0.27986413,  1.12187469,  2.70830393,  0.        ],\n",
       "        [ 0.        ,  0.        ,  0.        ,  0.        ]],\n",
       "\n",
       "       [[ 1.50197184,  0.69582516, -0.31665999,  0.        ],\n",
       "        [-0.70513338,  1.77296209,  1.1221925 ,  0.        ],\n",
       "        [-1.39828825,  0.46608233,  3.8889432 ,  0.        ],\n",
       "        [ 0.        ,  0.        ,  0.        ,  0.        ]],\n",
       "\n",
       "       ...,\n",
       "\n",
       "       [[-0.44362187,  0.12667903,  0.78897899,  0.        ],\n",
       "        [-0.55786729,  0.78306931,  1.66213036,  0.        ],\n",
       "        [ 1.32299483,  4.01059055,  5.46123695,  0.        ],\n",
       "        [ 0.        ,  0.        ,  0.        ,  0.        ]],\n",
       "\n",
       "       [[-0.37724727, -1.00824678,  1.3968972 ,  0.        ],\n",
       "        [ 0.00971988, -0.46615618, -0.63914627,  0.        ],\n",
       "        [ 0.08562548,  3.19771957,  5.83212471,  0.        ],\n",
       "        [ 0.        ,  0.        ,  0.        ,  0.        ]],\n",
       "\n",
       "       [[-0.24353895, -0.40895194, -1.69968331,  0.        ],\n",
       "        [-1.67267144,  1.46617281,  3.36179686,  0.        ],\n",
       "        [-0.48257709,  0.38834742,  4.96943569,  0.        ],\n",
       "        [ 0.        ,  0.        ,  0.        ,  0.        ]]])"
      ]
     },
     "execution_count": 43,
     "metadata": {},
     "output_type": "execute_result"
    }
   ],
   "source": [
    "tree[\"fMatrix[4][4]\"].array(entrystart=600, entrystop=800)"
   ]
  },
  {
   "cell_type": "markdown",
   "metadata": {
    "slideshow": {
     "slide_type": "slide"
    }
   },
   "source": [
    "Typically, you'd use this in a loop over chunks of entries. In the body of the loop, you put your "
   ]
  }
 ],
 "metadata": {
  "celltoolbar": "Slideshow",
  "kernelspec": {
   "display_name": "Python 3",
   "language": "python",
   "name": "python3"
  },
  "language_info": {
   "codemirror_mode": {
    "name": "ipython",
    "version": 3
   },
   "file_extension": ".py",
   "mimetype": "text/x-python",
   "name": "python",
   "nbconvert_exporter": "python",
   "pygments_lexer": "ipython3",
   "version": "3.7.2"
  }
 },
 "nbformat": 4,
 "nbformat_minor": 2
}
