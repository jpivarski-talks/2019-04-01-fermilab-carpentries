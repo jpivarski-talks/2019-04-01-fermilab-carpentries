{
 "cells": [
  {
   "cell_type": "markdown",
   "metadata": {
    "slideshow": {
     "slide_type": "slide"
    }
   },
   "source": [
    "## uproot overview"
   ]
  },
  {
   "cell_type": "markdown",
   "metadata": {
    "slideshow": {
     "slide_type": "slide"
    }
   },
   "source": [
    "Uproot is a pure Python + Numpy reader of ROOT files.\n",
    "\n",
    "   * Without a C++ layer, there are no memory ownership issues between C++ and Python.\n",
    "   * Different design: instead of delivering event objects, uproot delivers columns of data as (jagged) arrays.\n",
    "   * Not hampered by slow Python execution because data in ROOT files are laid out as (jagged) arrays: just need to cast them as Numpy arrays.\n",
    "\n",
    "_(Disclosure: I'm the author of uproot.)_"
   ]
  },
  {
   "cell_type": "markdown",
   "metadata": {
    "slideshow": {
     "slide_type": "slide"
    }
   },
   "source": [
    "In uproot, files, directories within files, and TTrees/TBranches behave like Python dicts."
   ]
  },
  {
   "cell_type": "code",
   "execution_count": 1,
   "metadata": {},
   "outputs": [
    {
     "data": {
      "text/plain": [
       "[b'ProcessID0;1', b'htime;1', b'T;1', b'hstat;1']"
      ]
     },
     "execution_count": 1,
     "metadata": {},
     "output_type": "execute_result"
    }
   ],
   "source": [
    "import uproot\n",
    "file = uproot.open(\"http://scikit-hep.org/uproot/examples/Event.root\")\n",
    "file.keys()"
   ]
  },
  {
   "cell_type": "code",
   "execution_count": 2,
   "metadata": {},
   "outputs": [
    {
     "data": {
      "text/plain": [
       "<TProcessID b'ProcessID0' at 0x7cc1412c57f0>"
      ]
     },
     "execution_count": 2,
     "metadata": {},
     "output_type": "execute_result"
    }
   ],
   "source": [
    "file[\"ProcessID0\"]"
   ]
  },
  {
   "cell_type": "code",
   "execution_count": 3,
   "metadata": {},
   "outputs": [
    {
     "data": {
      "text/plain": [
       "<b'TH1F' b'htime' 0x7cc1412daae8>"
      ]
     },
     "execution_count": 3,
     "metadata": {},
     "output_type": "execute_result"
    }
   ],
   "source": [
    "file[\"htime\"]"
   ]
  },
  {
   "cell_type": "code",
   "execution_count": 4,
   "metadata": {},
   "outputs": [
    {
     "data": {
      "text/plain": [
       "<TTree b'T' at 0x7cc1412c5c50>"
      ]
     },
     "execution_count": 4,
     "metadata": {},
     "output_type": "execute_result"
    }
   ],
   "source": [
    "tree = file[\"T\"]\n",
    "tree"
   ]
  },
  {
   "cell_type": "code",
   "execution_count": 5,
   "metadata": {},
   "outputs": [
    {
     "data": {
      "text/plain": [
       "[b'event']"
      ]
     },
     "execution_count": 5,
     "metadata": {},
     "output_type": "execute_result"
    }
   ],
   "source": [
    "tree.keys()   # allkeys()"
   ]
  },
  {
   "cell_type": "markdown",
   "metadata": {
    "slideshow": {
     "slide_type": "slide"
    }
   },
   "source": [
    "To get a sense of what a TTree contains, use `show`."
   ]
  },
  {
   "cell_type": "code",
   "execution_count": 6,
   "metadata": {},
   "outputs": [
    {
     "name": "stdout",
     "output_type": "stream",
     "text": [
      "event                      TStreamerInfo              None\n",
      "TObject                    TStreamerInfo              None\n",
      "fUniqueID                  TStreamerBasicType         asdtype('>u4')\n",
      "fBits                      TStreamerBasicType         asdtype('>u4')\n",
      "\n",
      "fType[20]                  TStreamerBasicType         asdtype(\"('i1', (20,))\")\n",
      "fEventName                 TStreamerBasicType         asstring(4)\n",
      "fNtrack                    TStreamerBasicType         asdtype('>i4')\n",
      "fNseg                      TStreamerBasicType         asdtype('>i4')\n",
      "fNvertex                   TStreamerBasicType         asdtype('>u4')\n",
      "fFlag                      TStreamerBasicType         asdtype('>u4')\n",
      "fTemperature               TStreamerBasicType         asdtype('>f4', 'float64')\n",
      "fMeasures[10]              TStreamerBasicType         asdtype(\"('>i4', (10,))\")\n",
      "fMatrix[4][4]              TStreamerBasicType         asdtype(\"('>f4', (4, 4))\", \"('<f8', (4, 4))\")\n",
      "fClosestDistance           TStreamerBasicPointer      None\n",
      "fEvtHdr                    TStreamerObjectAny         None\n",
      "fEvtHdr.fEvtNum            TStreamerBasicType         asdtype('>i4')\n",
      "fEvtHdr.fRun               TStreamerBasicType         asdtype('>i4')\n",
      "fEvtHdr.fDate              TStreamerBasicType         asdtype('>i4')\n",
      "\n",
      "fTracks                    TStreamerObjectPointer     None\n",
      "fTracks.fUniqueID          TStreamerBasicType         asjagged(asdtype('>u4'))\n",
      "fTracks.fBits              TStreamerBasicType         asjagged(asdtype('>u4'))\n",
      "fTracks.fPx                TStreamerBasicType         asjagged(asdtype('>f4'))\n",
      "fTracks.fPy                TStreamerBasicType         asjagged(asdtype('>f4'))\n",
      "fTracks.fPz                TStreamerBasicType         asjagged(asdtype('>f4'))\n",
      "fTracks.fRandom            TStreamerBasicType         asjagged(asdtype('>f4'))\n",
      "fTracks.fMass2             TStreamerBasicType         asjagged(asfloat16(0.0, 0.0, 8, dtype([('exponent', 'u1'), ('mantissa', '>u2')]), dtype('float32')))\n",
      "fTracks.fBx                TStreamerBasicType         asjagged(asfloat16(0.0, 0.0, 10, dtype([('exponent', 'u1'), ('mantissa', '>u2')]), dtype('float32')))\n",
      "fTracks.fBy                TStreamerBasicType         asjagged(asfloat16(0.0, 0.0, 10, dtype([('exponent', 'u1'), ('mantissa', '>u2')]), dtype('float32')))\n",
      "fTracks.fMeanCharge        TStreamerBasicType         asjagged(asdtype('>f4'))\n",
      "fTracks.fXfirst            TStreamerBasicType         asjagged(asfloat16(0, 0, 12, dtype([('exponent', 'u1'), ('mantissa', '>u2')]), dtype('float32')))\n",
      "fTracks.fXlast             TStreamerBasicType         asjagged(asfloat16(0, 0, 12, dtype([('exponent', 'u1'), ('mantissa', '>u2')]), dtype('float32')))\n",
      "fTracks.fYfirst            TStreamerBasicType         asjagged(asfloat16(0, 0, 12, dtype([('exponent', 'u1'), ('mantissa', '>u2')]), dtype('float32')))\n",
      "fTracks.fYlast             TStreamerBasicType         asjagged(asfloat16(0, 0, 12, dtype([('exponent', 'u1'), ('mantissa', '>u2')]), dtype('float32')))\n",
      "fTracks.fZfirst            TStreamerBasicType         asjagged(asfloat16(0, 0, 12, dtype([('exponent', 'u1'), ('mantissa', '>u2')]), dtype('float32')))\n",
      "fTracks.fZlast             TStreamerBasicType         asjagged(asfloat16(0, 0, 12, dtype([('exponent', 'u1'), ('mantissa', '>u2')]), dtype('float32')))\n",
      "fTracks.fCharge            TStreamerBasicType         asjagged(asdouble32(-1.0, 1.0, 2, dtype('>u4'), dtype('float64')))\n",
      "fTracks.fVertex[3]         TStreamerBasicType         asjagged(asdouble32(-30.0, 30.0, 16, dtype(('>u4', (3,))), dtype(('<f8', (3,)))))\n",
      "fTracks.fNpoint            TStreamerBasicType         asjagged(asdtype('>i4'))\n",
      "fTracks.fValid             TStreamerBasicType         asjagged(asdtype('>i2'))\n",
      "fTracks.fNsp               TStreamerBasicType         asjagged(asdtype('>u4'))\n",
      "fTracks.fPointValue        TStreamerBasicPointer      None\n",
      "fTracks.fTriggerBits.fUniqueID\n",
      "                           TStreamerBasicType         asjagged(asdtype('>u4'))\n",
      "fTracks.fTriggerBits.fBits TStreamerBasicType         asjagged(asdtype('>u4'))\n",
      "fTracks.fTriggerBits.fNbits\n",
      "                           TStreamerBasicType         asjagged(asdtype('>u4'))\n",
      "fTracks.fTriggerBits.fNbytes\n",
      "                           TStreamerBasicType         asjagged(asdtype('>u4'))\n",
      "fTracks.fTriggerBits.fAllBits\n",
      "                           TStreamerBasicPointer      asjagged(asdtype('uint8'), 1)\n",
      "fTracks.fTArray[3]         TStreamerBasicType         asjagged(asdtype(\"('>f4', (3,))\"))\n",
      "\n",
      "fHighPt                    TStreamerObjectPointer     asgenobj(TRefArray)\n",
      "fMuons                     TStreamerObjectPointer     asgenobj(TRefArray)\n",
      "fLastTrack                 TStreamerInfo              asgenobj(TRef)\n",
      "fWebHistogram              TStreamerInfo              asgenobj(TRef)\n",
      "fH                         TStreamerObjectPointer     asgenobj(TH1F)\n",
      "fTriggerBits               TStreamerInfo              None\n",
      "fTriggerBits.TObject       (no streamer)              None\n",
      "fTriggerBits.fUniqueID     (no streamer)              asdtype('>u4')\n",
      "fTriggerBits.fBits         (no streamer)              asdtype('>u4')\n",
      "\n",
      "fTriggerBits.fNbits        TStreamerBasicType         asdtype('>u4')\n",
      "fTriggerBits.fNbytes       TStreamerBasicType         asdtype('>u4')\n",
      "fTriggerBits.fAllBits      TStreamerBasicPointer      asjagged(asdtype('uint8'), 1)\n",
      "\n",
      "fIsValid                   TStreamerBasicType         asdtype('bool')\n",
      "\n"
     ]
    }
   ],
   "source": [
    "tree.show()"
   ]
  },
  {
   "cell_type": "markdown",
   "metadata": {
    "slideshow": {
     "slide_type": "slide"
    }
   },
   "source": [
    "To read a (jagged) array, call `array` or `arrays`."
   ]
  },
  {
   "cell_type": "code",
   "execution_count": 7,
   "metadata": {},
   "outputs": [
    {
     "data": {
      "text/plain": [
       "<JaggedArray [[4.5 4.5 4.5 ... 4.5 4.5 4.5] [4.5 4.5 4.5 ... 4.5 4.5 4.5] [8.90625 8.90625 8.90625 ... 8.90625 8.90625 8.90625] ... [4.5 4.5 4.5 ... 4.5 4.5 4.5] [4.5 4.5 4.5 ... 4.5 4.5 4.5] [8.90625 8.90625 8.90625 ... 8.90625 8.90625 8.90625]] at 0x7cc1401ecb70>"
      ]
     },
     "execution_count": 7,
     "metadata": {},
     "output_type": "execute_result"
    }
   ],
   "source": [
    "tree[\"fTracks.fMass2\"].array()"
   ]
  },
  {
   "cell_type": "code",
   "execution_count": 8,
   "metadata": {},
   "outputs": [
    {
     "data": {
      "text/plain": [
       "<JaggedArray [[4.5 4.5 4.5 ... 4.5 4.5 4.5] [4.5 4.5 4.5 ... 4.5 4.5 4.5] [8.90625 8.90625 8.90625 ... 8.90625 8.90625 8.90625] ... [4.5 4.5 4.5 ... 4.5 4.5 4.5] [4.5 4.5 4.5 ... 4.5 4.5 4.5] [8.90625 8.90625 8.90625 ... 8.90625 8.90625 8.90625]] at 0x7cc14013f828>"
      ]
     },
     "execution_count": 8,
     "metadata": {},
     "output_type": "execute_result"
    }
   ],
   "source": [
    "tree.array(\"fTracks.fMass2\")"
   ]
  },
  {
   "cell_type": "code",
   "execution_count": 9,
   "metadata": {},
   "outputs": [
    {
     "data": {
      "text/plain": [
       "{b'fTracks.fMass2': <JaggedArray [[4.5 4.5 4.5 ... 4.5 4.5 4.5] [4.5 4.5 4.5 ... 4.5 4.5 4.5] [8.90625 8.90625 8.90625 ... 8.90625 8.90625 8.90625] ... [4.5 4.5 4.5 ... 4.5 4.5 4.5] [4.5 4.5 4.5 ... 4.5 4.5 4.5] [8.90625 8.90625 8.90625 ... 8.90625 8.90625 8.90625]] at 0x7cc14011ef60>,\n",
       " b'fTracks.fCharge': <JaggedArray [[1.0 1.0 1.0 ... 1.0 1.0 0.0] [1.0 0.0 0.0 ... 0.0 1.0 -1.0] [-1.0 1.0 1.0 ... -1.0 1.0 1.0] ... [1.0 1.0 1.0 ... 0.0 -1.0 1.0] [0.0 0.0 1.0 ... 1.0 0.0 1.0] [1.0 -1.0 0.0 ... 0.0 0.0 1.0]] at 0x7cc14011e320>}"
      ]
     },
     "execution_count": 9,
     "metadata": {},
     "output_type": "execute_result"
    }
   ],
   "source": [
    "tree.arrays([\"fTracks.fMass2\", \"fTracks.fCharge\"])"
   ]
  },
  {
   "cell_type": "markdown",
   "metadata": {
    "slideshow": {
     "slide_type": "slide"
    }
   },
   "source": [
    "## Interpretations\n",
    "\n",
    "The translation from ROOT data to an array is given by the branch's `interpretation` (if it has one)."
   ]
  },
  {
   "cell_type": "code",
   "execution_count": 10,
   "metadata": {},
   "outputs": [
    {
     "data": {
      "text/plain": [
       "asdtype('>i4')"
      ]
     },
     "execution_count": 10,
     "metadata": {},
     "output_type": "execute_result"
    }
   ],
   "source": [
    "tree[\"fNtrack\"].interpretation"
   ]
  },
  {
   "cell_type": "code",
   "execution_count": 11,
   "metadata": {},
   "outputs": [
    {
     "data": {
      "text/plain": [
       "asdtype('>f4', 'float64')"
      ]
     },
     "execution_count": 11,
     "metadata": {},
     "output_type": "execute_result"
    }
   ],
   "source": [
    "tree[\"fTemperature\"].interpretation"
   ]
  },
  {
   "cell_type": "code",
   "execution_count": 12,
   "metadata": {},
   "outputs": [
    {
     "data": {
      "text/plain": [
       "asdtype(\"('>f4', (4, 4))\", \"('<f8', (4, 4))\")"
      ]
     },
     "execution_count": 12,
     "metadata": {},
     "output_type": "execute_result"
    }
   ],
   "source": [
    "tree[\"fMatrix[4][4]\"].interpretation"
   ]
  },
  {
   "cell_type": "code",
   "execution_count": 13,
   "metadata": {},
   "outputs": [
    {
     "data": {
      "text/plain": [
       "asjagged(asfloat16(0.0, 0.0, 8, dtype([('exponent', 'u1'), ('mantissa', '>u2')]), dtype('float32')))"
      ]
     },
     "execution_count": 13,
     "metadata": {},
     "output_type": "execute_result"
    }
   ],
   "source": [
    "tree[\"fTracks.fMass2\"].interpretation"
   ]
  },
  {
   "cell_type": "code",
   "execution_count": 14,
   "metadata": {},
   "outputs": [
    {
     "data": {
      "text/plain": [
       "asjagged(asdouble32(-1.0, 1.0, 2, dtype('>u4'), dtype('float64')))"
      ]
     },
     "execution_count": 14,
     "metadata": {},
     "output_type": "execute_result"
    }
   ],
   "source": [
    "tree[\"fTracks.fCharge\"].interpretation"
   ]
  },
  {
   "cell_type": "code",
   "execution_count": 15,
   "metadata": {},
   "outputs": [
    {
     "data": {
      "text/plain": [
       "asgenobj(TH1F)"
      ]
     },
     "execution_count": 15,
     "metadata": {},
     "output_type": "execute_result"
    }
   ],
   "source": [
    "tree[\"fH\"].interpretation"
   ]
  },
  {
   "cell_type": "markdown",
   "metadata": {
    "slideshow": {
     "slide_type": "slide"
    }
   },
   "source": [
    "If a branch has no `interpretation`, it can't be read. Either it's a no-data branch (exists just for structure) or it's an instance of uproot's incompleteness."
   ]
  },
  {
   "cell_type": "code",
   "execution_count": 16,
   "metadata": {},
   "outputs": [
    {
     "name": "stdout",
     "output_type": "stream",
     "text": [
      "None\n"
     ]
    }
   ],
   "source": [
    "print(tree[\"fTracks.fPointValue\"].interpretation)   # as of April 2019, this one has no interpretation"
   ]
  },
  {
   "cell_type": "markdown",
   "metadata": {},
   "source": [
    "The bytes can be read and even divided along entry boundaries, but we don't yet know how to turn the bytes into an array."
   ]
  },
  {
   "cell_type": "code",
   "execution_count": 17,
   "metadata": {},
   "outputs": [
    {
     "data": {
      "text/plain": [
       "asjagged(asdtype('uint8'))"
      ]
     },
     "execution_count": 17,
     "metadata": {},
     "output_type": "execute_result"
    }
   ],
   "source": [
    "uproot.asdebug"
   ]
  },
  {
   "cell_type": "code",
   "execution_count": 18,
   "metadata": {},
   "outputs": [
    {
     "data": {
      "text/plain": [
       "<JaggedArray [[1 85 85 ... 170 170 170] [0 1 85 ... 85 85 85] [0 1 85 ... 85 85 0] ... [0 1 85 ... 170 170 170] [0 0 1 ... 170 170 170] [1 85 85 ... 170 170 170]] at 0x7cc16850f080>"
      ]
     },
     "execution_count": 18,
     "metadata": {},
     "output_type": "execute_result"
    }
   ],
   "source": [
    "tree[\"fTracks.fPointValue\"].array(uproot.asdebug)"
   ]
  },
  {
   "cell_type": "markdown",
   "metadata": {
    "slideshow": {
     "slide_type": "slide"
    }
   },
   "source": [
    "Complex classes are generated based on the ROOT file's self-describing streamers, but they aren't necessarily fast to read (more Python than Numpy)."
   ]
  },
  {
   "cell_type": "code",
   "execution_count": 19,
   "metadata": {},
   "outputs": [
    {
     "data": {
      "text/plain": [
       "asgenobj(TH1F)"
      ]
     },
     "execution_count": 19,
     "metadata": {},
     "output_type": "execute_result"
    }
   ],
   "source": [
    "tree[\"fH\"].interpretation"
   ]
  },
  {
   "cell_type": "code",
   "execution_count": 20,
   "metadata": {},
   "outputs": [
    {
     "data": {
      "text/plain": [
       "<ObjectArray [<b'TH1F' b'hstat' 0x7cc140228188> <b'TH1F' b'hstat' 0x7cc140228318> <b'TH1F' b'hstat' 0x7cc140228778> ... <b'TH1F' b'hstat' 0x7cc140228ef8> <b'TH1F' b'hstat' 0x7cc140228778> <b'TH1F' b'hstat' 0x7cc140228188>] at 0x7cc14026c320>"
      ]
     },
     "execution_count": 20,
     "metadata": {},
     "output_type": "execute_result"
    }
   ],
   "source": [
    "histograms = tree[\"fH\"].array()\n",
    "histograms"
   ]
  },
  {
   "cell_type": "code",
   "execution_count": 21,
   "metadata": {},
   "outputs": [
    {
     "data": {
      "text/plain": [
       "{'_classversion': 1,\n",
       " '_fName': b'hstat',\n",
       " '_fTitle': b'Event Histogram',\n",
       " '_fLineColor': 602,\n",
       " '_fLineStyle': 1,\n",
       " '_fLineWidth': 1,\n",
       " '_fFillColor': 0,\n",
       " '_fFillStyle': 1001,\n",
       " '_fMarkerColor': 1,\n",
       " '_fMarkerStyle': 1,\n",
       " '_fMarkerSize': 1.0,\n",
       " '_fNcells': 102,\n",
       " '_fXaxis': <TAxis b'xaxis' at 0x7cc140105ef0>,\n",
       " '_fYaxis': <TAxis b'yaxis' at 0x7cc140105940>,\n",
       " '_fZaxis': <TAxis b'zaxis' at 0x7cc140105978>,\n",
       " '_fBarOffset': 0,\n",
       " '_fBarWidth': 1000,\n",
       " '_fEntries': 1.0,\n",
       " '_fTsumw': 1.0,\n",
       " '_fTsumw2': 1.0,\n",
       " '_fTsumwx': 0.28261780738830566,\n",
       " '_fTsumwx2': 0.07987282505297344,\n",
       " '_fMaximum': -1111.0,\n",
       " '_fMinimum': -1111.0,\n",
       " '_fNormFactor': 0.0,\n",
       " '_fContour': [],\n",
       " '_fSumw2': [],\n",
       " '_fOption': b'',\n",
       " '_fFunctions': [],\n",
       " '_fBufferSize': 0,\n",
       " '_fBuffer': array([], dtype=float64),\n",
       " '_fBinStatErrOpt': 0}"
      ]
     },
     "execution_count": 21,
     "metadata": {},
     "output_type": "execute_result"
    }
   ],
   "source": [
    "histograms[0].__dict__"
   ]
  },
  {
   "cell_type": "markdown",
   "metadata": {
    "slideshow": {
     "slide_type": "slide"
    }
   },
   "source": [
    "## Fitting into memory constraints\n",
    "\n",
    "Restricting the range of entries avoids reading too many baskets (chunks on disk)."
   ]
  },
  {
   "cell_type": "code",
   "execution_count": 22,
   "metadata": {},
   "outputs": [
    {
     "data": {
      "text/plain": [
       "1000"
      ]
     },
     "execution_count": 22,
     "metadata": {},
     "output_type": "execute_result"
    }
   ],
   "source": [
    "tree.numentries"
   ]
  },
  {
   "cell_type": "code",
   "execution_count": 23,
   "metadata": {},
   "outputs": [
    {
     "data": {
      "text/plain": [
       "5"
      ]
     },
     "execution_count": 23,
     "metadata": {},
     "output_type": "execute_result"
    }
   ],
   "source": [
    "tree[\"fMatrix[4][4]\"].numbaskets"
   ]
  },
  {
   "cell_type": "code",
   "execution_count": 24,
   "metadata": {},
   "outputs": [
    {
     "data": {
      "text/plain": [
       "array([[[-1.48842251,  0.22893755,  0.73481667,  0.        ],\n",
       "        [-0.81405222,  0.32352245,  3.30477071,  0.        ],\n",
       "        [ 1.07104862,  1.1267221 ,  1.35107005,  0.        ],\n",
       "        [ 0.        ,  0.        ,  0.        ,  0.        ]],\n",
       "\n",
       "       [[ 0.72956365,  0.36551571, -0.92489249,  0.        ],\n",
       "        [-0.08615459,  0.70054299,  0.84200442,  0.        ],\n",
       "        [-0.27986413,  1.12187469,  2.70830393,  0.        ],\n",
       "        [ 0.        ,  0.        ,  0.        ,  0.        ]],\n",
       "\n",
       "       [[ 1.50197184,  0.69582516, -0.31665999,  0.        ],\n",
       "        [-0.70513338,  1.77296209,  1.1221925 ,  0.        ],\n",
       "        [-1.39828825,  0.46608233,  3.8889432 ,  0.        ],\n",
       "        [ 0.        ,  0.        ,  0.        ,  0.        ]],\n",
       "\n",
       "       ...,\n",
       "\n",
       "       [[-0.44362187,  0.12667903,  0.78897899,  0.        ],\n",
       "        [-0.55786729,  0.78306931,  1.66213036,  0.        ],\n",
       "        [ 1.32299483,  4.01059055,  5.46123695,  0.        ],\n",
       "        [ 0.        ,  0.        ,  0.        ,  0.        ]],\n",
       "\n",
       "       [[-0.37724727, -1.00824678,  1.3968972 ,  0.        ],\n",
       "        [ 0.00971988, -0.46615618, -0.63914627,  0.        ],\n",
       "        [ 0.08562548,  3.19771957,  5.83212471,  0.        ],\n",
       "        [ 0.        ,  0.        ,  0.        ,  0.        ]],\n",
       "\n",
       "       [[-0.24353895, -0.40895194, -1.69968331,  0.        ],\n",
       "        [-1.67267144,  1.46617281,  3.36179686,  0.        ],\n",
       "        [-0.48257709,  0.38834742,  4.96943569,  0.        ],\n",
       "        [ 0.        ,  0.        ,  0.        ,  0.        ]]])"
      ]
     },
     "execution_count": 24,
     "metadata": {},
     "output_type": "execute_result"
    }
   ],
   "source": [
    "tree[\"fMatrix[4][4]\"].array(entrystart=600, entrystop=800)"
   ]
  },
  {
   "cell_type": "markdown",
   "metadata": {
    "slideshow": {
     "slide_type": "slide"
    }
   },
   "source": [
    "Typically, you'd want to read chunk of entries from all interesting branches, do some work, then move on to the next chunk: use `iterate`."
   ]
  },
  {
   "cell_type": "code",
   "execution_count": 25,
   "metadata": {},
   "outputs": [
    {
     "name": "stdout",
     "output_type": "stream",
     "text": [
      "300 2.1687002\n",
      "300 1.9124396\n",
      "300 0.6829921\n",
      "100 0.81746\n"
     ]
    }
   ],
   "source": [
    "import numpy\n",
    "for arrays in tree.iterate([\"fTracks.fPx\", \"fTracks.fPy\"], entrysteps=300):\n",
    "    mag = numpy.sqrt(arrays[b\"fTracks.fPx\"]**2 + arrays[b\"fTracks.fPy\"]**2)\n",
    "    print(len(mag), mag[0][0])"
   ]
  },
  {
   "cell_type": "markdown",
   "metadata": {
    "slideshow": {
     "slide_type": "fragment"
    }
   },
   "source": [
    "The same for a set of files is `uproot.iterate` (supply file names with wildcards and tree name)."
   ]
  },
  {
   "cell_type": "code",
   "execution_count": 26,
   "metadata": {},
   "outputs": [
    {
     "name": "stdout",
     "output_type": "stream",
     "text": [
      "2231 24.417913\n",
      "190 38.49425\n",
      "2231 24.417913\n",
      "190 38.49425\n",
      "2231 24.417913\n",
      "190 38.49425\n",
      "2231 24.417913\n",
      "190 38.49425\n"
     ]
    }
   ],
   "source": [
    "# no wildcards for XRootD and HTTP\n",
    "filenames = [\"http://scikit-hep.org/uproot/examples/HZZ\" + x + \".root\" for x in [\"\", \"-zlib\", \"-lz4\", \"-lzma\"]]\n",
    "for arrays in uproot.iterate(filenames, \"events\", [\"Muon_Px\", \"Muon_Py\"]):\n",
    "    mag = numpy.sqrt(arrays[b\"Muon_Px\"]**2 + arrays[b\"Muon_Py\"]**2)\n",
    "    print(len(mag), mag[1][0])"
   ]
  },
  {
   "cell_type": "markdown",
   "metadata": {
    "slideshow": {
     "slide_type": "slide"
    }
   },
   "source": [
    "## Encodings, outputtypes, and Pandas\n",
    "\n",
    "In the previous examples, `tree.arrays` returns a dict of arrays. Branch names have no encoding, so the keys of these dicts are bytestrings (a little annoying in Python 3). Here are some things you can do about that."
   ]
  },
  {
   "cell_type": "code",
   "execution_count": 30,
   "metadata": {},
   "outputs": [
    {
     "data": {
      "text/plain": [
       "dict_keys(['fTracks.fPx', 'fTracks.fPy'])"
      ]
     },
     "execution_count": 30,
     "metadata": {},
     "output_type": "execute_result"
    }
   ],
   "source": [
    "arrays = tree.arrays([\"fTracks.fPx\", \"fTracks.fPy\"], namedecode=\"utf-8\")\n",
    "arrays.keys()"
   ]
  },
  {
   "cell_type": "code",
   "execution_count": 33,
   "metadata": {
    "slideshow": {
     "slide_type": "fragment"
    }
   },
   "outputs": [
    {
     "name": "stdout",
     "output_type": "stream",
     "text": [
      "0.8419714 -1.9985858\n"
     ]
    }
   ],
   "source": [
    "px, py = tree.arrays([\"fTracks.fPx\", \"fTracks.fPy\"], outputtype=tuple)\n",
    "print(px[0][0], py[0][0])"
   ]
  },
  {
   "cell_type": "code",
   "execution_count": 40,
   "metadata": {
    "slideshow": {
     "slide_type": "fragment"
    }
   },
   "outputs": [
    {
     "name": "stdout",
     "output_type": "stream",
     "text": [
      "[600 604 603 594 595] [6000 6029 6019 5923 5949] [19 13 14  6 14]\n"
     ]
    }
   ],
   "source": [
    "import collections\n",
    "arrays = tree.arrays([\"fNtrack\", \"fNseg\", \"fNvertex\"], outputtype=collections.namedtuple)\n",
    "print(arrays.fNtrack[:5], arrays.fNseg[:5], arrays.fNvertex[:5])"
   ]
  },
  {
   "cell_type": "code",
   "execution_count": 47,
   "metadata": {
    "slideshow": {
     "slide_type": "slide"
    }
   },
   "outputs": [
    {
     "data": {
      "text/html": [
       "<div>\n",
       "<style scoped>\n",
       "    .dataframe tbody tr th:only-of-type {\n",
       "        vertical-align: middle;\n",
       "    }\n",
       "\n",
       "    .dataframe tbody tr th {\n",
       "        vertical-align: top;\n",
       "    }\n",
       "\n",
       "    .dataframe thead th {\n",
       "        text-align: right;\n",
       "    }\n",
       "</style>\n",
       "<table border=\"1\" class=\"dataframe\">\n",
       "  <thead>\n",
       "    <tr style=\"text-align: right;\">\n",
       "      <th></th>\n",
       "      <th>fTracks.fPx</th>\n",
       "      <th>fTracks.fPy</th>\n",
       "      <th>fTracks.fPz</th>\n",
       "    </tr>\n",
       "    <tr>\n",
       "      <th>entry</th>\n",
       "      <th></th>\n",
       "      <th></th>\n",
       "      <th></th>\n",
       "    </tr>\n",
       "  </thead>\n",
       "  <tbody>\n",
       "    <tr>\n",
       "      <th>0</th>\n",
       "      <td>[0.8419714, -0.7517185, -1.2051572, -0.427116,...</td>\n",
       "      <td>[-1.9985858, -1.037447, 0.43163738, 1.1485726,...</td>\n",
       "      <td>[2.1687002, 1.2811624, 1.2801229, 1.2254171, 0...</td>\n",
       "    </tr>\n",
       "    <tr>\n",
       "      <th>1</th>\n",
       "      <td>[1.6047764, -1.0758387, -1.3932744, 1.3841597,...</td>\n",
       "      <td>[-1.4657867, 0.98966086, -0.40328622, 2.375182...</td>\n",
       "      <td>[2.1734393, 1.4617994, 1.4504666, 2.7490704, 1...</td>\n",
       "    </tr>\n",
       "    <tr>\n",
       "      <th>2</th>\n",
       "      <td>[-0.07160589, 0.66182005, -1.27176, 0.1688395,...</td>\n",
       "      <td>[-0.96637154, 0.63050216, 0.80289334, -1.44528...</td>\n",
       "      <td>[0.96902084, 0.91407806, 1.5039984, 1.4551162,...</td>\n",
       "    </tr>\n",
       "    <tr>\n",
       "      <th>3</th>\n",
       "      <td>[-0.14304866, -0.72015625, -0.26054904, -1.597...</td>\n",
       "      <td>[-0.52942014, -0.42783213, 0.13375106, -0.6989...</td>\n",
       "      <td>[0.5484055, 0.83765465, 0.29287395, 1.7436261,...</td>\n",
       "    </tr>\n",
       "    <tr>\n",
       "      <th>4</th>\n",
       "      <td>[-0.35032487, 0.25517753, 0.81522655, 3.515412...</td>\n",
       "      <td>[-0.36952665, -0.07806556, 0.8490566, 0.163935...</td>\n",
       "      <td>[0.50919294, 0.26685166, 1.1770691, 3.519233, ...</td>\n",
       "    </tr>\n",
       "    <tr>\n",
       "      <th>5</th>\n",
       "      <td>[0.9705175, -0.2339002, -0.50332534, 0.3029228...</td>\n",
       "      <td>[0.3593279, -0.03988636, -0.0053454647, -1.029...</td>\n",
       "      <td>[1.0349014, 0.23727669, 0.5033537, 1.0735381, ...</td>\n",
       "    </tr>\n",
       "    <tr>\n",
       "      <th>6</th>\n",
       "      <td>[-1.2503744, 0.060332876, -1.322312, -0.742683...</td>\n",
       "      <td>[-0.89010864, -0.13585812, 0.27518225, 0.98975...</td>\n",
       "      <td>[1.5348387, 0.14865223, 1.3506422, 1.2374127, ...</td>\n",
       "    </tr>\n",
       "    <tr>\n",
       "      <th>7</th>\n",
       "      <td>[-1.0393323, -0.8376865, 0.23049998, -1.224901...</td>\n",
       "      <td>[-0.47842094, -1.1893959, -1.1487722, 0.992551...</td>\n",
       "      <td>[1.1441582, 1.4547788, 1.1716689, 1.5765604, 1...</td>\n",
       "    </tr>\n",
       "    <tr>\n",
       "      <th>8</th>\n",
       "      <td>[1.8042065, -1.4835553, -0.48568684, -0.218936...</td>\n",
       "      <td>[-0.3811606, 0.27416706, -0.33988178, -0.40725...</td>\n",
       "      <td>[1.8440294, 1.5086763, 0.59279954, 0.46237206,...</td>\n",
       "    </tr>\n",
       "    <tr>\n",
       "      <th>9</th>\n",
       "      <td>[-1.0214751, -1.0191854, -1.0693055, -0.221288...</td>\n",
       "      <td>[0.23385774, -1.3407346, -0.39071348, 0.367159...</td>\n",
       "      <td>[1.0479031, 1.6841342, 1.1384513, 0.42868945, ...</td>\n",
       "    </tr>\n",
       "    <tr>\n",
       "      <th>10</th>\n",
       "      <td>[-1.8746754, -0.72728103, -0.6440064, -0.46143...</td>\n",
       "      <td>[0.51903105, -0.2704799, -0.17823991, 0.223169...</td>\n",
       "      <td>[1.9451995, 0.7759491, 0.66821676, 0.5125659, ...</td>\n",
       "    </tr>\n",
       "    <tr>\n",
       "      <th>11</th>\n",
       "      <td>[0.10188542, -0.10588992, -0.27273288, -1.1750...</td>\n",
       "      <td>[-0.98015636, -1.2702004, -0.33382058, -0.6179...</td>\n",
       "      <td>[0.9854375, 1.2746065, 0.43106776, 1.3276525, ...</td>\n",
       "    </tr>\n",
       "    <tr>\n",
       "      <th>12</th>\n",
       "      <td>[0.121806264, -1.3194001, 0.9946291, 2.0016732...</td>\n",
       "      <td>[-0.32077822, 0.4938946, -0.91173315, -0.39413...</td>\n",
       "      <td>[0.34312597, 1.408811, 1.3492755, 2.0401073, 1...</td>\n",
       "    </tr>\n",
       "    <tr>\n",
       "      <th>13</th>\n",
       "      <td>[0.2038483, 0.48321617, 1.6362071, 1.1688623, ...</td>\n",
       "      <td>[0.47751114, 0.91523814, 0.9868982, 0.60302573...</td>\n",
       "      <td>[0.5192023, 1.0349679, 1.910796, 1.3152487, 1....</td>\n",
       "    </tr>\n",
       "    <tr>\n",
       "      <th>14</th>\n",
       "      <td>[-0.6523418, -1.998579, 0.69886273, -1.437736,...</td>\n",
       "      <td>[-0.36472377, -0.5772918, 0.9946237, 0.7375042...</td>\n",
       "      <td>[0.7473776, 2.0802846, 1.2156008, 1.6158581, 0...</td>\n",
       "    </tr>\n",
       "    <tr>\n",
       "      <th>15</th>\n",
       "      <td>[0.023000037, 0.82309836, 0.3228663, 0.5735661...</td>\n",
       "      <td>[-1.318869, 0.63482934, 0.08566971, -0.1575362...</td>\n",
       "      <td>[1.3190695, 1.0394707, 0.33403882, 0.5948074, ...</td>\n",
       "    </tr>\n",
       "    <tr>\n",
       "      <th>16</th>\n",
       "      <td>[0.4913623, 0.10101057, 1.6340386, -0.52177715...</td>\n",
       "      <td>[-1.4222063, 0.64470625, -0.3246951, -0.530024...</td>\n",
       "      <td>[1.5046952, 0.65257126, 1.665986, 0.7437586, 1...</td>\n",
       "    </tr>\n",
       "    <tr>\n",
       "      <th>17</th>\n",
       "      <td>[0.55584854, -1.736521, -0.5218275, 0.50428665...</td>\n",
       "      <td>[0.11200395, 1.1436813, 1.0754702, -0.22632656...</td>\n",
       "      <td>[0.5670207, 2.0793056, 1.1953828, 0.55274653, ...</td>\n",
       "    </tr>\n",
       "    <tr>\n",
       "      <th>18</th>\n",
       "      <td>[-1.2920183, -0.42598552, 0.95464426, 0.039987...</td>\n",
       "      <td>[0.4015871, -0.5708969, 0.24226838, -0.2705861...</td>\n",
       "      <td>[1.3529905, 0.71231097, 0.9849059, 0.2735249, ...</td>\n",
       "    </tr>\n",
       "    <tr>\n",
       "      <th>19</th>\n",
       "      <td>[-1.4734513, 0.20167376, 0.9837678, -0.3726445...</td>\n",
       "      <td>[-0.15350732, -0.831585, 1.6127827, -0.4706711...</td>\n",
       "      <td>[1.4814261, 0.8556903, 1.8891445, 0.6003293, 0...</td>\n",
       "    </tr>\n",
       "    <tr>\n",
       "      <th>20</th>\n",
       "      <td>[-0.28167468, 1.8695552, 1.1164523, -1.5627904...</td>\n",
       "      <td>[0.55743754, 0.43509576, 0.3832869, -1.027543,...</td>\n",
       "      <td>[0.6245616, 1.9195169, 1.1804129, 1.8703364, 2...</td>\n",
       "    </tr>\n",
       "    <tr>\n",
       "      <th>21</th>\n",
       "      <td>[1.5260423, -0.40228248, 0.13384573, 0.3358757...</td>\n",
       "      <td>[0.43103787, -0.6658578, 1.567975, 0.31579855,...</td>\n",
       "      <td>[1.5857487, 0.77794456, 1.5736774, 0.461022, 1...</td>\n",
       "    </tr>\n",
       "    <tr>\n",
       "      <th>22</th>\n",
       "      <td>[1.3753297, 0.6429056, -0.19697692, 0.7172896,...</td>\n",
       "      <td>[0.57974887, 1.5716298, 0.21180469, 0.72230655...</td>\n",
       "      <td>[1.4925283, 1.6980423, 0.28924233, 1.0179543, ...</td>\n",
       "    </tr>\n",
       "    <tr>\n",
       "      <th>23</th>\n",
       "      <td>[-0.55267733, 0.54669535, -0.89259404, -1.1382...</td>\n",
       "      <td>[-0.38392946, 1.2638053, 0.021595929, -0.46123...</td>\n",
       "      <td>[0.6729443, 1.3769821, 0.8928553, 1.2281703, 0...</td>\n",
       "    </tr>\n",
       "    <tr>\n",
       "      <th>24</th>\n",
       "      <td>[-3.4553978, 0.55589837, 1.360193, -0.88676685...</td>\n",
       "      <td>[0.41345552, -0.0016383391, -0.40466103, -0.45...</td>\n",
       "      <td>[3.480046, 0.55590075, 1.4191109, 0.99489135, ...</td>\n",
       "    </tr>\n",
       "    <tr>\n",
       "      <th>25</th>\n",
       "      <td>[-0.8802851, -0.2578957, 0.5138769, 0.05125145...</td>\n",
       "      <td>[-2.7479467, 0.6229631, 0.14910509, 0.8038541,...</td>\n",
       "      <td>[2.8855004, 0.6742353, 0.5350718, 0.80548626, ...</td>\n",
       "    </tr>\n",
       "    <tr>\n",
       "      <th>26</th>\n",
       "      <td>[0.17095652, -0.96270335, -1.1880767, -0.74459...</td>\n",
       "      <td>[-0.8672015, 0.6838904, -0.20398235, 0.1827442...</td>\n",
       "      <td>[0.88389176, 1.1808912, 1.2054605, 0.76669663,...</td>\n",
       "    </tr>\n",
       "    <tr>\n",
       "      <th>27</th>\n",
       "      <td>[0.6462099, 0.24015066, 0.91054404, 0.02672151...</td>\n",
       "      <td>[0.857603, -1.7630461, 0.10578306, 0.8231535, ...</td>\n",
       "      <td>[1.073811, 1.7793268, 0.9166681, 0.8235871, 0....</td>\n",
       "    </tr>\n",
       "    <tr>\n",
       "      <th>28</th>\n",
       "      <td>[0.09004729, -0.7339593, 0.20219108, 0.3420405...</td>\n",
       "      <td>[-0.2526556, 0.50063956, 0.14102492, -1.486465...</td>\n",
       "      <td>[0.26822263, 0.888446, 0.24651422, 1.5253104, ...</td>\n",
       "    </tr>\n",
       "    <tr>\n",
       "      <th>29</th>\n",
       "      <td>[0.30903435, -0.74284375, -0.4593477, 1.767370...</td>\n",
       "      <td>[0.11374042, 0.9440632, -2.109627, -1.1251078,...</td>\n",
       "      <td>[0.32930094, 1.2012794, 2.159057, 2.095105, 1....</td>\n",
       "    </tr>\n",
       "    <tr>\n",
       "      <th>...</th>\n",
       "      <td>...</td>\n",
       "      <td>...</td>\n",
       "      <td>...</td>\n",
       "    </tr>\n",
       "    <tr>\n",
       "      <th>970</th>\n",
       "      <td>[-0.577494, -0.9495072, -1.0531491, -0.3108602...</td>\n",
       "      <td>[0.19603035, -2.012226, -0.17626016, 0.1584624...</td>\n",
       "      <td>[0.6098584, 2.2249985, 1.0677971, 0.34891894, ...</td>\n",
       "    </tr>\n",
       "    <tr>\n",
       "      <th>971</th>\n",
       "      <td>[-0.48391378, 0.53723633, -0.6607497, -0.00675...</td>\n",
       "      <td>[-0.21856388, 0.3574431, 1.0721351, 0.24115467...</td>\n",
       "      <td>[0.5309828, 0.6452817, 1.2593902, 0.24124922, ...</td>\n",
       "    </tr>\n",
       "    <tr>\n",
       "      <th>972</th>\n",
       "      <td>[-0.04631907, 1.1188827, 0.78571886, 0.5016764...</td>\n",
       "      <td>[-1.3794459, -0.8008526, -0.622026, -0.2064215...</td>\n",
       "      <td>[1.3802233, 1.375959, 1.0021329, 0.5424841, 1....</td>\n",
       "    </tr>\n",
       "    <tr>\n",
       "      <th>973</th>\n",
       "      <td>[1.5264845, 0.5029078, -0.68855155, -0.5967542...</td>\n",
       "      <td>[-1.6451213, 0.105501816, 0.019710315, 0.95232...</td>\n",
       "      <td>[2.2442324, 0.5138549, 0.6888336, 1.1238518, 2...</td>\n",
       "    </tr>\n",
       "    <tr>\n",
       "      <th>974</th>\n",
       "      <td>[0.46064162, 0.18993258, -0.06366089, 1.340239...</td>\n",
       "      <td>[0.8502313, 0.08613401, 0.281458, 0.02429027, ...</td>\n",
       "      <td>[0.9669974, 0.20855084, 0.2885677, 1.3404593, ...</td>\n",
       "    </tr>\n",
       "    <tr>\n",
       "      <th>975</th>\n",
       "      <td>[-0.38867313, -0.2873532, -0.9182498, 0.214264...</td>\n",
       "      <td>[-0.30835068, -1.458167, 0.68553907, -0.667402...</td>\n",
       "      <td>[0.496132, 1.4862108, 1.145926, 0.700953, 0.35...</td>\n",
       "    </tr>\n",
       "    <tr>\n",
       "      <th>976</th>\n",
       "      <td>[0.3756698, 0.16686113, -1.5908902, -0.7391512...</td>\n",
       "      <td>[0.09586808, 0.74920267, -0.1341118, 1.2133425...</td>\n",
       "      <td>[0.3877093, 0.7675593, 1.596533, 1.4207549, 0....</td>\n",
       "    </tr>\n",
       "    <tr>\n",
       "      <th>977</th>\n",
       "      <td>[-0.5159096, -1.1614375, 1.0338613, -1.3454167...</td>\n",
       "      <td>[-0.2075533, 0.6136888, 0.88369846, 0.7079939,...</td>\n",
       "      <td>[0.55609447, 1.3136023, 1.3600706, 1.5203294, ...</td>\n",
       "    </tr>\n",
       "    <tr>\n",
       "      <th>978</th>\n",
       "      <td>[1.1112486, -1.5755849, -0.06566734, -0.288196...</td>\n",
       "      <td>[-1.0425445, 1.3543384, 0.011604042, 1.0462047...</td>\n",
       "      <td>[1.5237364, 2.077667, 0.06668473, 1.0851736, 2...</td>\n",
       "    </tr>\n",
       "    <tr>\n",
       "      <th>979</th>\n",
       "      <td>[0.49795344, 0.094021164, -1.7246605, 0.110625...</td>\n",
       "      <td>[-1.1353471, -0.09956343, -0.8070689, 0.655364...</td>\n",
       "      <td>[1.2397462, 0.13694106, 1.904157, 0.66463524, ...</td>\n",
       "    </tr>\n",
       "    <tr>\n",
       "      <th>980</th>\n",
       "      <td>[0.4928309, -1.7644402, -1.5327836, -1.4038876...</td>\n",
       "      <td>[0.8310269, 0.3753514, -0.88544273, 0.5106576,...</td>\n",
       "      <td>[0.96617186, 1.8039229, 1.7701509, 1.4938781, ...</td>\n",
       "    </tr>\n",
       "    <tr>\n",
       "      <th>981</th>\n",
       "      <td>[-2.4316165, -1.1718322, 1.9675932, 0.85268164...</td>\n",
       "      <td>[-0.16363545, 1.1040474, 1.1590674, -0.4849778...</td>\n",
       "      <td>[2.4371161, 1.6100036, 2.2836068, 0.98095334, ...</td>\n",
       "    </tr>\n",
       "    <tr>\n",
       "      <th>982</th>\n",
       "      <td>[-0.08071388, -0.66400325, -2.0420628, -0.3844...</td>\n",
       "      <td>[0.71613216, 0.05372582, 1.3143966, -1.9957863...</td>\n",
       "      <td>[0.72066635, 0.6661733, 2.4285095, 2.0324745, ...</td>\n",
       "    </tr>\n",
       "    <tr>\n",
       "      <th>983</th>\n",
       "      <td>[-0.0036476979, 0.620825, -1.2578096, -0.64782...</td>\n",
       "      <td>[0.051482268, -1.105648, 0.45268053, -2.998721...</td>\n",
       "      <td>[0.051611334, 1.2680227, 1.336789, 3.067899, 0...</td>\n",
       "    </tr>\n",
       "    <tr>\n",
       "      <th>984</th>\n",
       "      <td>[0.057015922, -1.5847375, -0.4827103, 0.080456...</td>\n",
       "      <td>[-0.29521826, 1.0538676, -0.5853687, -0.780352...</td>\n",
       "      <td>[0.30067363, 1.9031631, 0.75872636, 0.78448945...</td>\n",
       "    </tr>\n",
       "    <tr>\n",
       "      <th>985</th>\n",
       "      <td>[-0.34604436, 0.26551113, -0.055827633, -0.546...</td>\n",
       "      <td>[0.82170224, -0.40516272, -0.6695118, -0.17208...</td>\n",
       "      <td>[0.89159477, 0.48440993, 0.67183536, 0.5731103...</td>\n",
       "    </tr>\n",
       "    <tr>\n",
       "      <th>986</th>\n",
       "      <td>[0.31720582, -0.52863497, 1.0906184, -0.622136...</td>\n",
       "      <td>[-1.9043636, -0.016038312, 0.78217345, 0.09355...</td>\n",
       "      <td>[1.930601, 0.5288782, 1.3421042, 0.62913144, 2...</td>\n",
       "    </tr>\n",
       "    <tr>\n",
       "      <th>987</th>\n",
       "      <td>[-0.83368427, 1.4252828, 0.9611373, -0.0913348...</td>\n",
       "      <td>[-0.35366204, 0.6788439, -0.6874316, -0.599740...</td>\n",
       "      <td>[0.9055972, 1.5786895, 1.1816713, 0.60665524, ...</td>\n",
       "    </tr>\n",
       "    <tr>\n",
       "      <th>988</th>\n",
       "      <td>[-0.73294675, -0.4295666, -0.18091878, 0.78376...</td>\n",
       "      <td>[0.9966392, -0.07804596, -0.4835361, 0.1757340...</td>\n",
       "      <td>[1.2371341, 0.43659893, 0.5162739, 0.8032214, ...</td>\n",
       "    </tr>\n",
       "    <tr>\n",
       "      <th>989</th>\n",
       "      <td>[-1.0601635, 1.0535053, -1.3778392, -0.3315162...</td>\n",
       "      <td>[0.18548928, 1.0601857, 1.4701779, -0.19173238...</td>\n",
       "      <td>[1.0762681, 1.4946127, 2.0149105, 0.38296777, ...</td>\n",
       "    </tr>\n",
       "    <tr>\n",
       "      <th>990</th>\n",
       "      <td>[-1.2091243, 0.031989235, -1.3122647, 0.747482...</td>\n",
       "      <td>[-1.352444, 0.471894, -0.37463617, 0.7031562, ...</td>\n",
       "      <td>[1.8141352, 0.472977, 1.3646945, 1.026235, 1.1...</td>\n",
       "    </tr>\n",
       "    <tr>\n",
       "      <th>991</th>\n",
       "      <td>[1.538479, 0.35527167, 0.48371032, 0.2905059, ...</td>\n",
       "      <td>[0.6811614, 0.9145633, 0.769996, 1.1556563, 0....</td>\n",
       "      <td>[1.6825274, 0.98114425, 0.90932363, 1.1916103,...</td>\n",
       "    </tr>\n",
       "    <tr>\n",
       "      <th>992</th>\n",
       "      <td>[-0.180388, 1.3764722, -0.08802511, -1.9206077...</td>\n",
       "      <td>[-0.52927756, -1.0031084, 0.18762688, 0.081572...</td>\n",
       "      <td>[0.5591731, 1.7032036, 0.2072493, 1.9223392, 1...</td>\n",
       "    </tr>\n",
       "    <tr>\n",
       "      <th>993</th>\n",
       "      <td>[-1.2561212, -0.16762504, -0.14521174, 0.58811...</td>\n",
       "      <td>[-0.35186878, 2.6251738, -0.70626634, -1.85090...</td>\n",
       "      <td>[1.3044738, 2.63052, 0.72103995, 1.9420892, 0....</td>\n",
       "    </tr>\n",
       "    <tr>\n",
       "      <th>994</th>\n",
       "      <td>[-1.5946498, 2.4054747, -0.15403771, -0.750696...</td>\n",
       "      <td>[-0.36603677, 0.6586441, 0.02911556, -1.209399...</td>\n",
       "      <td>[1.6361207, 2.494017, 0.15676522, 1.4234437, 1...</td>\n",
       "    </tr>\n",
       "    <tr>\n",
       "      <th>995</th>\n",
       "      <td>[-0.71063125, 1.0989294, -0.8365277, 1.231465,...</td>\n",
       "      <td>[1.3454757, -0.8376341, -0.24939746, 1.2175179...</td>\n",
       "      <td>[1.5216115, 1.3817658, 0.87291336, 1.7317204, ...</td>\n",
       "    </tr>\n",
       "    <tr>\n",
       "      <th>996</th>\n",
       "      <td>[-1.4096562, 0.6970549, -0.18856484, -0.258865...</td>\n",
       "      <td>[0.96691334, 0.4735176, -0.5228188, 0.15497473...</td>\n",
       "      <td>[1.709401, 0.84267694, 0.55578434, 0.30170968,...</td>\n",
       "    </tr>\n",
       "    <tr>\n",
       "      <th>997</th>\n",
       "      <td>[1.3563625, -0.5129223, -0.22724675, -0.312676...</td>\n",
       "      <td>[-1.2564594, 0.34867698, -0.08131978, -1.82769...</td>\n",
       "      <td>[1.8488941, 0.62021357, 0.24135864, 1.8542464,...</td>\n",
       "    </tr>\n",
       "    <tr>\n",
       "      <th>998</th>\n",
       "      <td>[-0.15198973, 0.85546154, 0.5253331, -2.145564...</td>\n",
       "      <td>[0.16652645, 0.8153501, 1.146969, -0.43801042,...</td>\n",
       "      <td>[0.2254594, 1.1817826, 1.2615517, 2.1898177, 0...</td>\n",
       "    </tr>\n",
       "    <tr>\n",
       "      <th>999</th>\n",
       "      <td>[-0.5756135, 1.0133289, 2.032027, -1.308489, 2...</td>\n",
       "      <td>[-0.5724493, 0.7358318, -0.6515196, -0.2862613...</td>\n",
       "      <td>[0.8118061, 1.2523113, 2.1339192, 1.339436, 2....</td>\n",
       "    </tr>\n",
       "  </tbody>\n",
       "</table>\n",
       "<p>1000 rows × 3 columns</p>\n",
       "</div>"
      ],
      "text/plain": [
       "                                             fTracks.fPx  \\\n",
       "entry                                                      \n",
       "0      [0.8419714, -0.7517185, -1.2051572, -0.427116,...   \n",
       "1      [1.6047764, -1.0758387, -1.3932744, 1.3841597,...   \n",
       "2      [-0.07160589, 0.66182005, -1.27176, 0.1688395,...   \n",
       "3      [-0.14304866, -0.72015625, -0.26054904, -1.597...   \n",
       "4      [-0.35032487, 0.25517753, 0.81522655, 3.515412...   \n",
       "5      [0.9705175, -0.2339002, -0.50332534, 0.3029228...   \n",
       "6      [-1.2503744, 0.060332876, -1.322312, -0.742683...   \n",
       "7      [-1.0393323, -0.8376865, 0.23049998, -1.224901...   \n",
       "8      [1.8042065, -1.4835553, -0.48568684, -0.218936...   \n",
       "9      [-1.0214751, -1.0191854, -1.0693055, -0.221288...   \n",
       "10     [-1.8746754, -0.72728103, -0.6440064, -0.46143...   \n",
       "11     [0.10188542, -0.10588992, -0.27273288, -1.1750...   \n",
       "12     [0.121806264, -1.3194001, 0.9946291, 2.0016732...   \n",
       "13     [0.2038483, 0.48321617, 1.6362071, 1.1688623, ...   \n",
       "14     [-0.6523418, -1.998579, 0.69886273, -1.437736,...   \n",
       "15     [0.023000037, 0.82309836, 0.3228663, 0.5735661...   \n",
       "16     [0.4913623, 0.10101057, 1.6340386, -0.52177715...   \n",
       "17     [0.55584854, -1.736521, -0.5218275, 0.50428665...   \n",
       "18     [-1.2920183, -0.42598552, 0.95464426, 0.039987...   \n",
       "19     [-1.4734513, 0.20167376, 0.9837678, -0.3726445...   \n",
       "20     [-0.28167468, 1.8695552, 1.1164523, -1.5627904...   \n",
       "21     [1.5260423, -0.40228248, 0.13384573, 0.3358757...   \n",
       "22     [1.3753297, 0.6429056, -0.19697692, 0.7172896,...   \n",
       "23     [-0.55267733, 0.54669535, -0.89259404, -1.1382...   \n",
       "24     [-3.4553978, 0.55589837, 1.360193, -0.88676685...   \n",
       "25     [-0.8802851, -0.2578957, 0.5138769, 0.05125145...   \n",
       "26     [0.17095652, -0.96270335, -1.1880767, -0.74459...   \n",
       "27     [0.6462099, 0.24015066, 0.91054404, 0.02672151...   \n",
       "28     [0.09004729, -0.7339593, 0.20219108, 0.3420405...   \n",
       "29     [0.30903435, -0.74284375, -0.4593477, 1.767370...   \n",
       "...                                                  ...   \n",
       "970    [-0.577494, -0.9495072, -1.0531491, -0.3108602...   \n",
       "971    [-0.48391378, 0.53723633, -0.6607497, -0.00675...   \n",
       "972    [-0.04631907, 1.1188827, 0.78571886, 0.5016764...   \n",
       "973    [1.5264845, 0.5029078, -0.68855155, -0.5967542...   \n",
       "974    [0.46064162, 0.18993258, -0.06366089, 1.340239...   \n",
       "975    [-0.38867313, -0.2873532, -0.9182498, 0.214264...   \n",
       "976    [0.3756698, 0.16686113, -1.5908902, -0.7391512...   \n",
       "977    [-0.5159096, -1.1614375, 1.0338613, -1.3454167...   \n",
       "978    [1.1112486, -1.5755849, -0.06566734, -0.288196...   \n",
       "979    [0.49795344, 0.094021164, -1.7246605, 0.110625...   \n",
       "980    [0.4928309, -1.7644402, -1.5327836, -1.4038876...   \n",
       "981    [-2.4316165, -1.1718322, 1.9675932, 0.85268164...   \n",
       "982    [-0.08071388, -0.66400325, -2.0420628, -0.3844...   \n",
       "983    [-0.0036476979, 0.620825, -1.2578096, -0.64782...   \n",
       "984    [0.057015922, -1.5847375, -0.4827103, 0.080456...   \n",
       "985    [-0.34604436, 0.26551113, -0.055827633, -0.546...   \n",
       "986    [0.31720582, -0.52863497, 1.0906184, -0.622136...   \n",
       "987    [-0.83368427, 1.4252828, 0.9611373, -0.0913348...   \n",
       "988    [-0.73294675, -0.4295666, -0.18091878, 0.78376...   \n",
       "989    [-1.0601635, 1.0535053, -1.3778392, -0.3315162...   \n",
       "990    [-1.2091243, 0.031989235, -1.3122647, 0.747482...   \n",
       "991    [1.538479, 0.35527167, 0.48371032, 0.2905059, ...   \n",
       "992    [-0.180388, 1.3764722, -0.08802511, -1.9206077...   \n",
       "993    [-1.2561212, -0.16762504, -0.14521174, 0.58811...   \n",
       "994    [-1.5946498, 2.4054747, -0.15403771, -0.750696...   \n",
       "995    [-0.71063125, 1.0989294, -0.8365277, 1.231465,...   \n",
       "996    [-1.4096562, 0.6970549, -0.18856484, -0.258865...   \n",
       "997    [1.3563625, -0.5129223, -0.22724675, -0.312676...   \n",
       "998    [-0.15198973, 0.85546154, 0.5253331, -2.145564...   \n",
       "999    [-0.5756135, 1.0133289, 2.032027, -1.308489, 2...   \n",
       "\n",
       "                                             fTracks.fPy  \\\n",
       "entry                                                      \n",
       "0      [-1.9985858, -1.037447, 0.43163738, 1.1485726,...   \n",
       "1      [-1.4657867, 0.98966086, -0.40328622, 2.375182...   \n",
       "2      [-0.96637154, 0.63050216, 0.80289334, -1.44528...   \n",
       "3      [-0.52942014, -0.42783213, 0.13375106, -0.6989...   \n",
       "4      [-0.36952665, -0.07806556, 0.8490566, 0.163935...   \n",
       "5      [0.3593279, -0.03988636, -0.0053454647, -1.029...   \n",
       "6      [-0.89010864, -0.13585812, 0.27518225, 0.98975...   \n",
       "7      [-0.47842094, -1.1893959, -1.1487722, 0.992551...   \n",
       "8      [-0.3811606, 0.27416706, -0.33988178, -0.40725...   \n",
       "9      [0.23385774, -1.3407346, -0.39071348, 0.367159...   \n",
       "10     [0.51903105, -0.2704799, -0.17823991, 0.223169...   \n",
       "11     [-0.98015636, -1.2702004, -0.33382058, -0.6179...   \n",
       "12     [-0.32077822, 0.4938946, -0.91173315, -0.39413...   \n",
       "13     [0.47751114, 0.91523814, 0.9868982, 0.60302573...   \n",
       "14     [-0.36472377, -0.5772918, 0.9946237, 0.7375042...   \n",
       "15     [-1.318869, 0.63482934, 0.08566971, -0.1575362...   \n",
       "16     [-1.4222063, 0.64470625, -0.3246951, -0.530024...   \n",
       "17     [0.11200395, 1.1436813, 1.0754702, -0.22632656...   \n",
       "18     [0.4015871, -0.5708969, 0.24226838, -0.2705861...   \n",
       "19     [-0.15350732, -0.831585, 1.6127827, -0.4706711...   \n",
       "20     [0.55743754, 0.43509576, 0.3832869, -1.027543,...   \n",
       "21     [0.43103787, -0.6658578, 1.567975, 0.31579855,...   \n",
       "22     [0.57974887, 1.5716298, 0.21180469, 0.72230655...   \n",
       "23     [-0.38392946, 1.2638053, 0.021595929, -0.46123...   \n",
       "24     [0.41345552, -0.0016383391, -0.40466103, -0.45...   \n",
       "25     [-2.7479467, 0.6229631, 0.14910509, 0.8038541,...   \n",
       "26     [-0.8672015, 0.6838904, -0.20398235, 0.1827442...   \n",
       "27     [0.857603, -1.7630461, 0.10578306, 0.8231535, ...   \n",
       "28     [-0.2526556, 0.50063956, 0.14102492, -1.486465...   \n",
       "29     [0.11374042, 0.9440632, -2.109627, -1.1251078,...   \n",
       "...                                                  ...   \n",
       "970    [0.19603035, -2.012226, -0.17626016, 0.1584624...   \n",
       "971    [-0.21856388, 0.3574431, 1.0721351, 0.24115467...   \n",
       "972    [-1.3794459, -0.8008526, -0.622026, -0.2064215...   \n",
       "973    [-1.6451213, 0.105501816, 0.019710315, 0.95232...   \n",
       "974    [0.8502313, 0.08613401, 0.281458, 0.02429027, ...   \n",
       "975    [-0.30835068, -1.458167, 0.68553907, -0.667402...   \n",
       "976    [0.09586808, 0.74920267, -0.1341118, 1.2133425...   \n",
       "977    [-0.2075533, 0.6136888, 0.88369846, 0.7079939,...   \n",
       "978    [-1.0425445, 1.3543384, 0.011604042, 1.0462047...   \n",
       "979    [-1.1353471, -0.09956343, -0.8070689, 0.655364...   \n",
       "980    [0.8310269, 0.3753514, -0.88544273, 0.5106576,...   \n",
       "981    [-0.16363545, 1.1040474, 1.1590674, -0.4849778...   \n",
       "982    [0.71613216, 0.05372582, 1.3143966, -1.9957863...   \n",
       "983    [0.051482268, -1.105648, 0.45268053, -2.998721...   \n",
       "984    [-0.29521826, 1.0538676, -0.5853687, -0.780352...   \n",
       "985    [0.82170224, -0.40516272, -0.6695118, -0.17208...   \n",
       "986    [-1.9043636, -0.016038312, 0.78217345, 0.09355...   \n",
       "987    [-0.35366204, 0.6788439, -0.6874316, -0.599740...   \n",
       "988    [0.9966392, -0.07804596, -0.4835361, 0.1757340...   \n",
       "989    [0.18548928, 1.0601857, 1.4701779, -0.19173238...   \n",
       "990    [-1.352444, 0.471894, -0.37463617, 0.7031562, ...   \n",
       "991    [0.6811614, 0.9145633, 0.769996, 1.1556563, 0....   \n",
       "992    [-0.52927756, -1.0031084, 0.18762688, 0.081572...   \n",
       "993    [-0.35186878, 2.6251738, -0.70626634, -1.85090...   \n",
       "994    [-0.36603677, 0.6586441, 0.02911556, -1.209399...   \n",
       "995    [1.3454757, -0.8376341, -0.24939746, 1.2175179...   \n",
       "996    [0.96691334, 0.4735176, -0.5228188, 0.15497473...   \n",
       "997    [-1.2564594, 0.34867698, -0.08131978, -1.82769...   \n",
       "998    [0.16652645, 0.8153501, 1.146969, -0.43801042,...   \n",
       "999    [-0.5724493, 0.7358318, -0.6515196, -0.2862613...   \n",
       "\n",
       "                                             fTracks.fPz  \n",
       "entry                                                     \n",
       "0      [2.1687002, 1.2811624, 1.2801229, 1.2254171, 0...  \n",
       "1      [2.1734393, 1.4617994, 1.4504666, 2.7490704, 1...  \n",
       "2      [0.96902084, 0.91407806, 1.5039984, 1.4551162,...  \n",
       "3      [0.5484055, 0.83765465, 0.29287395, 1.7436261,...  \n",
       "4      [0.50919294, 0.26685166, 1.1770691, 3.519233, ...  \n",
       "5      [1.0349014, 0.23727669, 0.5033537, 1.0735381, ...  \n",
       "6      [1.5348387, 0.14865223, 1.3506422, 1.2374127, ...  \n",
       "7      [1.1441582, 1.4547788, 1.1716689, 1.5765604, 1...  \n",
       "8      [1.8440294, 1.5086763, 0.59279954, 0.46237206,...  \n",
       "9      [1.0479031, 1.6841342, 1.1384513, 0.42868945, ...  \n",
       "10     [1.9451995, 0.7759491, 0.66821676, 0.5125659, ...  \n",
       "11     [0.9854375, 1.2746065, 0.43106776, 1.3276525, ...  \n",
       "12     [0.34312597, 1.408811, 1.3492755, 2.0401073, 1...  \n",
       "13     [0.5192023, 1.0349679, 1.910796, 1.3152487, 1....  \n",
       "14     [0.7473776, 2.0802846, 1.2156008, 1.6158581, 0...  \n",
       "15     [1.3190695, 1.0394707, 0.33403882, 0.5948074, ...  \n",
       "16     [1.5046952, 0.65257126, 1.665986, 0.7437586, 1...  \n",
       "17     [0.5670207, 2.0793056, 1.1953828, 0.55274653, ...  \n",
       "18     [1.3529905, 0.71231097, 0.9849059, 0.2735249, ...  \n",
       "19     [1.4814261, 0.8556903, 1.8891445, 0.6003293, 0...  \n",
       "20     [0.6245616, 1.9195169, 1.1804129, 1.8703364, 2...  \n",
       "21     [1.5857487, 0.77794456, 1.5736774, 0.461022, 1...  \n",
       "22     [1.4925283, 1.6980423, 0.28924233, 1.0179543, ...  \n",
       "23     [0.6729443, 1.3769821, 0.8928553, 1.2281703, 0...  \n",
       "24     [3.480046, 0.55590075, 1.4191109, 0.99489135, ...  \n",
       "25     [2.8855004, 0.6742353, 0.5350718, 0.80548626, ...  \n",
       "26     [0.88389176, 1.1808912, 1.2054605, 0.76669663,...  \n",
       "27     [1.073811, 1.7793268, 0.9166681, 0.8235871, 0....  \n",
       "28     [0.26822263, 0.888446, 0.24651422, 1.5253104, ...  \n",
       "29     [0.32930094, 1.2012794, 2.159057, 2.095105, 1....  \n",
       "...                                                  ...  \n",
       "970    [0.6098584, 2.2249985, 1.0677971, 0.34891894, ...  \n",
       "971    [0.5309828, 0.6452817, 1.2593902, 0.24124922, ...  \n",
       "972    [1.3802233, 1.375959, 1.0021329, 0.5424841, 1....  \n",
       "973    [2.2442324, 0.5138549, 0.6888336, 1.1238518, 2...  \n",
       "974    [0.9669974, 0.20855084, 0.2885677, 1.3404593, ...  \n",
       "975    [0.496132, 1.4862108, 1.145926, 0.700953, 0.35...  \n",
       "976    [0.3877093, 0.7675593, 1.596533, 1.4207549, 0....  \n",
       "977    [0.55609447, 1.3136023, 1.3600706, 1.5203294, ...  \n",
       "978    [1.5237364, 2.077667, 0.06668473, 1.0851736, 2...  \n",
       "979    [1.2397462, 0.13694106, 1.904157, 0.66463524, ...  \n",
       "980    [0.96617186, 1.8039229, 1.7701509, 1.4938781, ...  \n",
       "981    [2.4371161, 1.6100036, 2.2836068, 0.98095334, ...  \n",
       "982    [0.72066635, 0.6661733, 2.4285095, 2.0324745, ...  \n",
       "983    [0.051611334, 1.2680227, 1.336789, 3.067899, 0...  \n",
       "984    [0.30067363, 1.9031631, 0.75872636, 0.78448945...  \n",
       "985    [0.89159477, 0.48440993, 0.67183536, 0.5731103...  \n",
       "986    [1.930601, 0.5288782, 1.3421042, 0.62913144, 2...  \n",
       "987    [0.9055972, 1.5786895, 1.1816713, 0.60665524, ...  \n",
       "988    [1.2371341, 0.43659893, 0.5162739, 0.8032214, ...  \n",
       "989    [1.0762681, 1.4946127, 2.0149105, 0.38296777, ...  \n",
       "990    [1.8141352, 0.472977, 1.3646945, 1.026235, 1.1...  \n",
       "991    [1.6825274, 0.98114425, 0.90932363, 1.1916103,...  \n",
       "992    [0.5591731, 1.7032036, 0.2072493, 1.9223392, 1...  \n",
       "993    [1.3044738, 2.63052, 0.72103995, 1.9420892, 0....  \n",
       "994    [1.6361207, 2.494017, 0.15676522, 1.4234437, 1...  \n",
       "995    [1.5216115, 1.3817658, 0.87291336, 1.7317204, ...  \n",
       "996    [1.709401, 0.84267694, 0.55578434, 0.30170968,...  \n",
       "997    [1.8488941, 0.62021357, 0.24135864, 1.8542464,...  \n",
       "998    [0.2254594, 1.1817826, 1.2615517, 2.1898177, 0...  \n",
       "999    [0.8118061, 1.2523113, 2.1339192, 1.339436, 2....  \n",
       "\n",
       "[1000 rows x 3 columns]"
      ]
     },
     "execution_count": 47,
     "metadata": {},
     "output_type": "execute_result"
    }
   ],
   "source": [
    "import pandas\n",
    "tree.arrays([\"fTracks.fP*\"], outputtype=pandas.DataFrame)   # , flatten=True"
   ]
  },
  {
   "cell_type": "markdown",
   "metadata": {
    "slideshow": {
     "slide_type": "slide"
    }
   },
   "source": [
    "If you're outputting to Pandas, you probably want to `namedecode` and `flatten`, so there are `tree.pandas.df`, `tree.pandas.iterate` methods and an `uproot.pandas.iterate` function for convenience."
   ]
  },
  {
   "cell_type": "code",
   "execution_count": 46,
   "metadata": {},
   "outputs": [
    {
     "name": "stdout",
     "output_type": "stream",
     "text": [
      "                   MET_px     MET_py     Muon_Px    Muon_Py     Muon_Pz\n",
      "entry subentry                                                         \n",
      "0     0          5.912771   2.563633  -52.899456 -11.654672   -8.160793\n",
      "      1          5.912771   2.563633   37.737782   0.693474  -11.307582\n",
      "1     0         24.765203 -16.349110   -0.816459 -24.404259   20.199968\n",
      "2     0        -25.785088  16.237131   48.987831 -21.723139   11.168285\n",
      "      1        -25.785088  16.237131    0.827567  29.800508   36.965191\n",
      "3     0          8.619896 -22.786547   22.088331 -85.835464  403.848450\n",
      "      1          8.619896 -22.786547   76.691917 -13.956494  335.094208\n",
      "4     0          5.393139  -1.310052   45.171322  67.248787  -89.695732\n",
      "      1          5.393139  -1.310052   39.750957  25.403667   20.115053\n",
      "5     0         -3.759475 -19.417021    9.228110  40.554379  -14.642164\n",
      "      1         -3.759475 -19.417021   -5.793715 -30.295189   42.954376\n",
      "6     0         23.962149  -9.049156   12.538717 -42.548710 -124.448990\n",
      "      1         23.962149  -9.049156   29.541840  -4.445517  -26.356554\n",
      "7     0        -57.533348 -20.487679   34.883759 -15.982724  155.531174\n",
      "8     0         42.416195 -94.350861  -53.166973  92.029709   35.638836\n",
      "      1         42.416195 -94.350861   11.491870  -4.417387  -17.473787\n",
      "9     0         -1.914469 -23.963034  -67.014854  53.159172   54.412941\n",
      "      1         -1.914469 -23.963034  -18.118755 -35.106167   58.036896\n",
      "10    0         19.710058   4.645509   15.983028  49.113922  118.148361\n",
      "      1         19.710058   4.645509   34.684406 -30.967381  193.678818\n",
      "11    0        -35.538055 -14.753822  -70.511909 -27.018003  -15.325147\n",
      "      1        -35.538055 -14.753822  -38.028744  33.250092  -70.318031\n",
      "12    0         15.209903  -6.397500   58.943813  53.778435   38.638081\n",
      "13    0         28.459160   5.657520  -15.587871 -21.090380   -2.229333\n",
      "14    0         -9.093978   0.861486 -122.330116  37.771309 -215.759995\n",
      "      1         -9.093978   0.861486   -1.059753  49.608921  -69.047165\n",
      "15    0          0.350357  -4.255576  -46.704155 -28.666719    8.281767\n",
      "      1          0.350357  -4.255576   39.020023  18.711084  -13.494764\n",
      "16    0         -0.201901  -3.499514   51.294659 -16.858574   47.350216\n",
      "      1         -0.201901  -3.499514   17.450920  25.667665  -29.315439\n",
      "...                   ...        ...         ...        ...         ...\n",
      "2398  0          1.150845  -3.101060    9.655233 -22.177263  -21.271027\n",
      "2399  0          4.515370  -4.102074   52.586819   5.415618  -12.101402\n",
      "      1          4.515370  -4.102074  -19.218178  -1.992126   26.320738\n",
      "2400  0        -10.098569 -54.974846   57.859886  15.802021   49.297092\n",
      "      1        -10.098569 -54.974846    1.737445  56.352654  -13.958491\n",
      "2401  0          2.998099  21.993523   -1.492689 -35.336575  -52.167149\n",
      "2402  0         27.944883 -37.503429   -4.560287  39.478573   26.715488\n",
      "2403  0          3.787466 -21.217653   -9.715589 -29.786343  -71.578506\n",
      "2404  0          9.378232  27.572329  -31.072098 -55.729004  149.663727\n",
      "2405  0        -17.310106   5.082886   47.484627  22.261318  -13.176701\n",
      "      1        -17.310106   5.082886    4.695312  35.813728   66.385490\n",
      "2406  0        -81.965927 -11.167821   74.756172 -14.697798 -113.745506\n",
      "      1        -81.965927 -11.167821  -20.911081  23.299616 -113.811455\n",
      "2407  0         -9.059591 -24.464552   25.786427  37.408089    7.364011\n",
      "      1         -9.059591 -24.464552  -29.265024  -0.183838   82.522552\n",
      "2409  0         29.691553  56.606071  -24.736799  20.442957   34.178497\n",
      "2410  0        -25.754967  14.037041   53.005814 -24.486130   13.952395\n",
      "      1        -25.754967  14.037041  -30.208649  19.269384   18.660769\n",
      "2411  0         -2.426847 -30.494087   55.720299  26.369698  -24.587757\n",
      "      1         -2.426847 -30.494087  -26.914448  -9.812821   -0.389948\n",
      "2412  0        -15.611773  -9.571323   14.896802  31.973597 -156.186707\n",
      "2413  0         18.921183   0.019401  -24.158083 -35.032322  -19.193760\n",
      "2414  0        -11.730723  11.629858   -9.204197 -42.204014  -64.264900\n",
      "2415  0        -10.648725 -20.464689   34.506527  28.839973 -150.656708\n",
      "      1        -10.648725 -20.464689  -31.567780 -10.424366 -111.264702\n",
      "2416  0        -14.607650 -28.204895  -39.285824 -14.607491   61.715790\n",
      "2417  0         22.208313  59.774940   35.067146 -14.150043  160.817917\n",
      "2418  0         18.101646  50.290718  -29.756786 -15.303859  -52.663750\n",
      "2419  0         79.875191 -52.351452    1.141870  63.609570  162.176315\n",
      "2420  0         19.713749  -3.595418   23.913206 -35.665077   54.719437\n",
      "\n",
      "[3825 rows x 5 columns]\n"
     ]
    }
   ],
   "source": [
    "filenames = \"http://scikit-hep.org/uproot/examples/HZZ.root\"\n",
    "for df in uproot.pandas.iterate(filenames, \"events\", [\"MET_p*\", \"Muon_P*\"]):\n",
    "    print(df)"
   ]
  },
  {
   "cell_type": "markdown",
   "metadata": {
    "slideshow": {
     "slide_type": "slide"
    }
   },
   "source": [
    "## Caching\n",
    "\n",
    "If you "
   ]
  },
  {
   "cell_type": "markdown",
   "metadata": {},
   "source": [
    "## Parallel processing"
   ]
  },
  {
   "cell_type": "markdown",
   "metadata": {},
   "source": [
    "## Lazy evaluation"
   ]
  },
  {
   "cell_type": "markdown",
   "metadata": {},
   "source": [
    "## Dask (distributed computing)"
   ]
  }
 ],
 "metadata": {
  "celltoolbar": "Slideshow",
  "kernelspec": {
   "display_name": "Python 3",
   "language": "python",
   "name": "python3"
  },
  "language_info": {
   "codemirror_mode": {
    "name": "ipython",
    "version": 3
   },
   "file_extension": ".py",
   "mimetype": "text/x-python",
   "name": "python",
   "nbconvert_exporter": "python",
   "pygments_lexer": "ipython3",
   "version": "3.7.1"
  }
 },
 "nbformat": 4,
 "nbformat_minor": 2
}
